{
 "cells": [
  {
   "cell_type": "markdown",
   "metadata": {},
   "source": [
    "# Python Basics\n",
        "\n",
       ]
  },
  {
   "cell_type": "markdown",
   "metadata": {},
   "source": [
    "Compute mathematical expressions:"
   ]
  },
  {
   "cell_type": "code",
   "execution_count": 31,
   "metadata": {
    "scrolled": true
   },
   "outputs": [
    {
     "data": {
      "text/plain": [
       "9"
      ]
     },
     "execution_count": 31,
     "metadata": {},
     "output_type": "execute_result"
    }
   ],
   "source": [
    "3**2\n"
   ]
  },
  {
   "cell_type": "markdown",
   "metadata": {},
   "source": [
    "Define variables and assign values:\n",
    "Formula syntax comes from C, \n",
    "so some expressions are \n",
    "interpreted differently from R: \n",
    "• e.g. to compute 2 cubed \n",
    "type 2**3 not 2^3"
   ]
  },
  {
   "cell_type": "code",
   "execution_count": 22,
   "metadata": {},
   "outputs": [
    {
     "data": {
      "text/plain": [
       "56"
      ]
     },
     "execution_count": 22,
     "metadata": {},
     "output_type": "execute_result"
    }
   ],
   "source": [
    "A = 10\n",
    "5*A + 6"
   ]
  },
  {
   "cell_type": "markdown",
   "metadata": {},
   "source": [
    "Define a vector:"
   ]
  },
  {
   "cell_type": "code",
   "execution_count": 35,
   "metadata": {},
   "outputs": [
    {
     "data": {
      "text/plain": [
       "(5, 5, 3, 0)"
      ]
     },
     "execution_count": 35,
     "metadata": {},
     "output_type": "execute_result"
    }
   ],
   "source": [
    "B = (5,5,3,0) #Can use square or round  brackets: B = (5,5,3,0)\n",
    "B"
   ]
  },
  {
   "cell_type": "markdown",
   "metadata": {},
   "source": [
    "Access part of vector:"
   ]
  },
  {
   "cell_type": "code",
   "execution_count": 10,
   "metadata": {},
   "outputs": [
    {
     "data": {
      "text/plain": [
       "3"
      ]
     },
     "execution_count": 10,
     "metadata": {},
     "output_type": "execute_result"
    }
   ],
   "source": [
    "# BEWARE: First index of array is 0 not 1!\n",
    "B = [5,5,3,0]\n",
    "B[2]"
   ]
  },
  {
   "cell_type": "code",
   "execution_count": 41,
   "metadata": {},
   "outputs": [
    {
     "data": {
      "text/plain": [
       "[2, 3, 4]"
      ]
     },
     "execution_count": 41,
     "metadata": {},
     "output_type": "execute_result"
    }
   ],
   "source": [
    "B = [1,2,3,4,5]\n",
    "B[1:-1]"
   ]
  },
  {
   "cell_type": "markdown",
   "metadata": {},
   "source": [
    "## Loading libraries\n",
    "Load a library with “from … import … as …” keywords, e.g.:\n"
   ]
  },
  {
   "cell_type": "code",
   "execution_count": 2,
   "metadata": {
    "collapsed": true
   },
   "outputs": [],
   "source": [
    "from matplotlib import pyplot as plt \n",
    "# Can also use shorter “.” notaion rather than “from” to load library: import matplotlib.pyplot as plt\n",
    "# plt is the name we are giving to the imported library. \n",
    "# We use it whenever we want to call a function provided by the library, e.g., plt.boxplot(…)\n",
    "\n",
    "from matplotlib import pyplot as plt"
   ]
  },
  {
   "cell_type": "markdown",
   "metadata": {},
   "source": [
    "## 2. Data tables in python\n",
    "The pandas library provides a table structure called DataFrame"
   ]
  },
  {
   "cell_type": "markdown",
   "metadata": {},
   "source": [
    "### 2.1 Creating dataframe"
   ]
  },
  {
   "cell_type": "code",
   "execution_count": 5,
   "metadata": {},
   "outputs": [
    {
     "data": {
      "text/html": [
       "<div>\n",
       "<style>\n",
       "    .dataframe thead tr:only-child th {\n",
       "        text-align: right;\n",
       "    }\n",
       "\n",
       "    .dataframe thead th {\n",
       "        text-align: left;\n",
       "    }\n",
       "\n",
       "    .dataframe tbody tr th {\n",
       "        vertical-align: top;\n",
       "    }\n",
       "</style>\n",
       "<table border=\"1\" class=\"dataframe\">\n",
       "  <thead>\n",
       "    <tr style=\"text-align: right;\">\n",
       "      <th></th>\n",
       "      <th>English</th>\n",
       "      <th>EnrolYear</th>\n",
       "      <th>Math</th>\n",
       "      <th>Name</th>\n",
       "      <th>StudentID</th>\n",
       "    </tr>\n",
       "  </thead>\n",
       "  <tbody>\n",
       "    <tr>\n",
       "      <th>0</th>\n",
       "      <td>60</td>\n",
       "      <td>2010</td>\n",
       "      <td>100</td>\n",
       "      <td>Steven</td>\n",
       "      <td>264422</td>\n",
       "    </tr>\n",
       "    <tr>\n",
       "      <th>1</th>\n",
       "      <td>70</td>\n",
       "      <td>2010</td>\n",
       "      <td>90</td>\n",
       "      <td>Alex</td>\n",
       "      <td>264423</td>\n",
       "    </tr>\n",
       "    <tr>\n",
       "      <th>2</th>\n",
       "      <td>80</td>\n",
       "      <td>2011</td>\n",
       "      <td>90</td>\n",
       "      <td>Bill</td>\n",
       "      <td>264444</td>\n",
       "    </tr>\n",
       "    <tr>\n",
       "      <th>3</th>\n",
       "      <td>80</td>\n",
       "      <td>2011</td>\n",
       "      <td>40</td>\n",
       "      <td>Mark</td>\n",
       "      <td>264445</td>\n",
       "    </tr>\n",
       "    <tr>\n",
       "      <th>4</th>\n",
       "      <td>60</td>\n",
       "      <td>2013</td>\n",
       "      <td>60</td>\n",
       "      <td>Bob</td>\n",
       "      <td>264446</td>\n",
       "    </tr>\n",
       "  </tbody>\n",
       "</table>\n",
       "</div>"
      ],
      "text/plain": [
       "   English  EnrolYear  Math    Name  StudentID\n",
       "0       60       2010   100  Steven     264422\n",
       "1       70       2010    90    Alex     264423\n",
       "2       80       2011    90    Bill     264444\n",
       "3       80       2011    40    Mark     264445\n",
       "4       60       2013    60     Bob     264446"
      ]
     },
     "execution_count": 5,
     "metadata": {},
     "output_type": "execute_result"
    }
   ],
   "source": [
    "# importing the library and name it as pd\n",
    "import pandas as pd\n",
    "\n",
    "# create the dataframe\n",
    "df = pd.DataFrame({\n",
    "  'StudentID' : [264422,264423,264444,264445,264446], # StudentID column and its data\n",
    "  'Name' : ['Steven','Alex', 'Bill', 'Mark','Bob'], # Name column and its data\n",
    "  'EnrolYear' : [2010,2010, 2011, 2011,2013], # Enrolment year column and its data\n",
    "  'Math' : [100,90,90,40,60], # Mathematics score column and its data\n",
    "  'English' : [60,70,80,80,60] # English score column and its data\n",
    "})\n",
    "\n",
    "# print out the dataframe\n",
    "#df\n",
    "\n",
    "# creating dataframe\n",
    "\n",
    "#import pandas as pd \n",
    "\n",
    "#df = pd.DataFrame ({\n",
    " #  'studentID' : [261, 262, 263],\n",
    "  #  'Name' : ['jaf', 'asif', 'barsha'],\n",
    "   # 'year' : [2010, 2014, 2016],\n",
    "   # 'MathScore' : [100, 94, 28],\n",
    "    #'English' : [80, 90, 100]    \n",
    "#})\n",
    "df\n"
   ]
  },
  {
   "cell_type": "markdown",
   "metadata": {},
   "source": [
    "\n",
    "### 2.2 Basic element selection"
   ]
  },
  {
   "cell_type": "code",
   "execution_count": 4,
   "metadata": {},
   "outputs": [
    {
     "data": {
      "text/plain": [
       "0    264422\n",
       "1    264423\n",
       "2    264444\n",
       "3    264445\n",
       "4    264446\n",
       "Name: StudentID, dtype: int64"
      ]
     },
     "execution_count": 4,
     "metadata": {},
     "output_type": "execute_result"
    }
   ],
   "source": [
    "# Select a column by using its column name:\n",
    "#df['Name']\n",
    "\n",
    "\n",
    "df ['StudentID']"
   ]
  },
  {
   "cell_type": "code",
   "execution_count": 5,
   "metadata": {},
   "outputs": [
    {
     "data": {
      "text/html": [
       "<div>\n",
       "<style>\n",
       "    .dataframe thead tr:only-child th {\n",
       "        text-align: right;\n",
       "    }\n",
       "\n",
       "    .dataframe thead th {\n",
       "        text-align: left;\n",
       "    }\n",
       "\n",
       "    .dataframe tbody tr th {\n",
       "        vertical-align: top;\n",
       "    }\n",
       "</style>\n",
       "<table border=\"1\" class=\"dataframe\">\n",
       "  <thead>\n",
       "    <tr style=\"text-align: right;\">\n",
       "      <th></th>\n",
       "      <th>English</th>\n",
       "      <th>EnrolYear</th>\n",
       "      <th>Math</th>\n",
       "      <th>Name</th>\n",
       "      <th>StudentID</th>\n",
       "    </tr>\n",
       "  </thead>\n",
       "  <tbody>\n",
       "    <tr>\n",
       "      <th>2</th>\n",
       "      <td>80</td>\n",
       "      <td>2011</td>\n",
       "      <td>90</td>\n",
       "      <td>Bill</td>\n",
       "      <td>264444</td>\n",
       "    </tr>\n",
       "  </tbody>\n",
       "</table>\n",
       "</div>"
      ],
      "text/plain": [
       "   English  EnrolYear  Math  Name  StudentID\n",
       "2       80       2011    90  Bill     264444"
      ]
     },
     "execution_count": 5,
     "metadata": {},
     "output_type": "execute_result"
    }
   ],
   "source": [
    "# Select row when it meet conditions \n",
    "#df[df['Name'] == 'Alex'] # select record of Alex\n",
    "\n",
    "df [df['Name'] == 'Bill']"
   ]
  },
  {
   "cell_type": "code",
   "execution_count": 6,
   "metadata": {},
   "outputs": [
    {
     "data": {
      "text/html": [
       "<div>\n",
       "<style>\n",
       "    .dataframe thead tr:only-child th {\n",
       "        text-align: right;\n",
       "    }\n",
       "\n",
       "    .dataframe thead th {\n",
       "        text-align: left;\n",
       "    }\n",
       "\n",
       "    .dataframe tbody tr th {\n",
       "        vertical-align: top;\n",
       "    }\n",
       "</style>\n",
       "<table border=\"1\" class=\"dataframe\">\n",
       "  <thead>\n",
       "    <tr style=\"text-align: right;\">\n",
       "      <th></th>\n",
       "      <th>English</th>\n",
       "      <th>EnrolYear</th>\n",
       "      <th>Math</th>\n",
       "      <th>Name</th>\n",
       "      <th>StudentID</th>\n",
       "    </tr>\n",
       "  </thead>\n",
       "  <tbody>\n",
       "    <tr>\n",
       "      <th>2</th>\n",
       "      <td>80</td>\n",
       "      <td>2011</td>\n",
       "      <td>90</td>\n",
       "      <td>Bill</td>\n",
       "      <td>264444</td>\n",
       "    </tr>\n",
       "    <tr>\n",
       "      <th>3</th>\n",
       "      <td>80</td>\n",
       "      <td>2011</td>\n",
       "      <td>40</td>\n",
       "      <td>Mark</td>\n",
       "      <td>264445</td>\n",
       "    </tr>\n",
       "  </tbody>\n",
       "</table>\n",
       "</div>"
      ],
      "text/plain": [
       "   English  EnrolYear  Math  Name  StudentID\n",
       "2       80       2011    90  Bill     264444\n",
       "3       80       2011    40  Mark     264445"
      ]
     },
     "execution_count": 6,
     "metadata": {},
     "output_type": "execute_result"
    }
   ],
   "source": [
    "# Selection with complex conditions\n",
    "#filt = (df.Name != 'Bob') & (df.StudentID > 264423) # select rows where name is not 'Bob' and student ID is larger than 2644423\n",
    "#df[filt]\n",
    "\n",
    "Fild = (df.Name != \"Bob\") & (df.StudentID > 264423)\n",
    "df[Fild]"
   ]
  },
  {
   "cell_type": "code",
   "execution_count": 30,
   "metadata": {},
   "outputs": [
    {
     "data": {
      "text/html": [
       "<div>\n",
       "<style>\n",
       "    .dataframe thead tr:only-child th {\n",
       "        text-align: right;\n",
       "    }\n",
       "\n",
       "    .dataframe thead th {\n",
       "        text-align: left;\n",
       "    }\n",
       "\n",
       "    .dataframe tbody tr th {\n",
       "        vertical-align: top;\n",
       "    }\n",
       "</style>\n",
       "<table border=\"1\" class=\"dataframe\">\n",
       "  <thead>\n",
       "    <tr style=\"text-align: right;\">\n",
       "      <th></th>\n",
       "      <th>English</th>\n",
       "      <th>EnrolYear</th>\n",
       "      <th>Math</th>\n",
       "      <th>Name</th>\n",
       "      <th>StudentID</th>\n",
       "      <th>Total</th>\n",
       "    </tr>\n",
       "  </thead>\n",
       "  <tbody>\n",
       "    <tr>\n",
       "      <th>0</th>\n",
       "      <td>60</td>\n",
       "      <td>2010</td>\n",
       "      <td>100</td>\n",
       "      <td>Steven</td>\n",
       "      <td>264422</td>\n",
       "      <td>160</td>\n",
       "    </tr>\n",
       "    <tr>\n",
       "      <th>1</th>\n",
       "      <td>70</td>\n",
       "      <td>2010</td>\n",
       "      <td>90</td>\n",
       "      <td>Alex</td>\n",
       "      <td>264423</td>\n",
       "      <td>160</td>\n",
       "    </tr>\n",
       "    <tr>\n",
       "      <th>2</th>\n",
       "      <td>80</td>\n",
       "      <td>2011</td>\n",
       "      <td>90</td>\n",
       "      <td>Bill</td>\n",
       "      <td>264444</td>\n",
       "      <td>170</td>\n",
       "    </tr>\n",
       "    <tr>\n",
       "      <th>3</th>\n",
       "      <td>80</td>\n",
       "      <td>2011</td>\n",
       "      <td>40</td>\n",
       "      <td>Mark</td>\n",
       "      <td>264445</td>\n",
       "      <td>120</td>\n",
       "    </tr>\n",
       "    <tr>\n",
       "      <th>4</th>\n",
       "      <td>60</td>\n",
       "      <td>2013</td>\n",
       "      <td>60</td>\n",
       "      <td>Bob</td>\n",
       "      <td>264446</td>\n",
       "      <td>120</td>\n",
       "    </tr>\n",
       "  </tbody>\n",
       "</table>\n",
       "</div>"
      ],
      "text/plain": [
       "   English  EnrolYear  Math    Name  StudentID  Total\n",
       "0       60       2010   100  Steven     264422    160\n",
       "1       70       2010    90    Alex     264423    160\n",
       "2       80       2011    90    Bill     264444    170\n",
       "3       80       2011    40    Mark     264445    120\n",
       "4       60       2013    60     Bob     264446    120"
      ]
     },
     "execution_count": 30,
     "metadata": {},
     "output_type": "execute_result"
    }
   ],
   "source": [
    "# operation on columns\n",
    "# create a total score column\n",
    "#df['Total'] = df['Math'] + df['English']\n",
    "#df\n",
    "\n",
    "df['Total'] = df ['Math'] + df['English']\n",
    "df"
   ]
  },
  {
   "cell_type": "markdown",
   "metadata": {},
   "source": [
    "### 2.3 Melting table\n",
    "Have a look at the each subject in different rows, so we melt the table"
   ]
  },
  {
   "cell_type": "code",
   "execution_count": 31,
   "metadata": {},
   "outputs": [
    {
     "data": {
      "text/html": [
       "<div>\n",
       "<style>\n",
       "    .dataframe thead tr:only-child th {\n",
       "        text-align: right;\n",
       "    }\n",
       "\n",
       "    .dataframe thead th {\n",
       "        text-align: left;\n",
       "    }\n",
       "\n",
       "    .dataframe tbody tr th {\n",
       "        vertical-align: top;\n",
       "    }\n",
       "</style>\n",
       "<table border=\"1\" class=\"dataframe\">\n",
       "  <thead>\n",
       "    <tr style=\"text-align: right;\">\n",
       "      <th></th>\n",
       "      <th>EnrolYear</th>\n",
       "      <th>Name</th>\n",
       "      <th>StudentID</th>\n",
       "      <th>Subject</th>\n",
       "      <th>value</th>\n",
       "    </tr>\n",
       "  </thead>\n",
       "  <tbody>\n",
       "    <tr>\n",
       "      <th>0</th>\n",
       "      <td>2010</td>\n",
       "      <td>Steven</td>\n",
       "      <td>264422</td>\n",
       "      <td>Math</td>\n",
       "      <td>100</td>\n",
       "    </tr>\n",
       "    <tr>\n",
       "      <th>1</th>\n",
       "      <td>2010</td>\n",
       "      <td>Alex</td>\n",
       "      <td>264423</td>\n",
       "      <td>Math</td>\n",
       "      <td>90</td>\n",
       "    </tr>\n",
       "    <tr>\n",
       "      <th>2</th>\n",
       "      <td>2011</td>\n",
       "      <td>Bill</td>\n",
       "      <td>264444</td>\n",
       "      <td>Math</td>\n",
       "      <td>90</td>\n",
       "    </tr>\n",
       "    <tr>\n",
       "      <th>3</th>\n",
       "      <td>2011</td>\n",
       "      <td>Mark</td>\n",
       "      <td>264445</td>\n",
       "      <td>Math</td>\n",
       "      <td>40</td>\n",
       "    </tr>\n",
       "    <tr>\n",
       "      <th>4</th>\n",
       "      <td>2013</td>\n",
       "      <td>Bob</td>\n",
       "      <td>264446</td>\n",
       "      <td>Math</td>\n",
       "      <td>60</td>\n",
       "    </tr>\n",
       "    <tr>\n",
       "      <th>5</th>\n",
       "      <td>2010</td>\n",
       "      <td>Steven</td>\n",
       "      <td>264422</td>\n",
       "      <td>English</td>\n",
       "      <td>60</td>\n",
       "    </tr>\n",
       "    <tr>\n",
       "      <th>6</th>\n",
       "      <td>2010</td>\n",
       "      <td>Alex</td>\n",
       "      <td>264423</td>\n",
       "      <td>English</td>\n",
       "      <td>70</td>\n",
       "    </tr>\n",
       "    <tr>\n",
       "      <th>7</th>\n",
       "      <td>2011</td>\n",
       "      <td>Bill</td>\n",
       "      <td>264444</td>\n",
       "      <td>English</td>\n",
       "      <td>80</td>\n",
       "    </tr>\n",
       "    <tr>\n",
       "      <th>8</th>\n",
       "      <td>2011</td>\n",
       "      <td>Mark</td>\n",
       "      <td>264445</td>\n",
       "      <td>English</td>\n",
       "      <td>80</td>\n",
       "    </tr>\n",
       "    <tr>\n",
       "      <th>9</th>\n",
       "      <td>2013</td>\n",
       "      <td>Bob</td>\n",
       "      <td>264446</td>\n",
       "      <td>English</td>\n",
       "      <td>60</td>\n",
       "    </tr>\n",
       "  </tbody>\n",
       "</table>\n",
       "</div>"
      ],
      "text/plain": [
       "   EnrolYear    Name  StudentID  Subject  value\n",
       "0       2010  Steven     264422     Math    100\n",
       "1       2010    Alex     264423     Math     90\n",
       "2       2011    Bill     264444     Math     90\n",
       "3       2011    Mark     264445     Math     40\n",
       "4       2013     Bob     264446     Math     60\n",
       "5       2010  Steven     264422  English     60\n",
       "6       2010    Alex     264423  English     70\n",
       "7       2011    Bill     264444  English     80\n",
       "8       2011    Mark     264445  English     80\n",
       "9       2013     Bob     264446  English     60"
      ]
     },
     "execution_count": 31,
     "metadata": {},
     "output_type": "execute_result"
    }
   ],
   "source": [
    "#column name 'Math' and 'English' are now values of column 'variable'\n",
    "df2 = pd.melt(df, id_vars=['EnrolYear','Name','StudentID'],value_vars=['Math','English'],var_name='Subject')\n",
    "\n",
    "# you can also rename a column seperately:\n",
    "#df2.rename(columns = {'value':'Score'}, inplace = True)\n",
    "df2\n",
    "\n"
   ]
  },
  {
   "cell_type": "markdown",
   "metadata": {},
   "source": [
    "### 2.4 Merging data table\n",
    "Now assume if you got another data table storing the height of the student and suppose now for some reason you want to merge two data sets:"
   ]
  },
  {
   "cell_type": "code",
   "execution_count": 33,
   "metadata": {},
   "outputs": [
    {
     "data": {
      "text/html": [
       "<div>\n",
       "<style>\n",
       "    .dataframe thead tr:only-child th {\n",
       "        text-align: right;\n",
       "    }\n",
       "\n",
       "    .dataframe thead th {\n",
       "        text-align: left;\n",
       "    }\n",
       "\n",
       "    .dataframe tbody tr th {\n",
       "        vertical-align: top;\n",
       "    }\n",
       "</style>\n",
       "<table border=\"1\" class=\"dataframe\">\n",
       "  <thead>\n",
       "    <tr style=\"text-align: right;\">\n",
       "      <th></th>\n",
       "      <th>English</th>\n",
       "      <th>EnrolYear</th>\n",
       "      <th>Math</th>\n",
       "      <th>Name</th>\n",
       "      <th>StudentID</th>\n",
       "      <th>Total</th>\n",
       "      <th>Height</th>\n",
       "    </tr>\n",
       "  </thead>\n",
       "  <tbody>\n",
       "    <tr>\n",
       "      <th>0</th>\n",
       "      <td>60</td>\n",
       "      <td>2010</td>\n",
       "      <td>100</td>\n",
       "      <td>Steven</td>\n",
       "      <td>264422</td>\n",
       "      <td>160</td>\n",
       "      <td>160</td>\n",
       "    </tr>\n",
       "    <tr>\n",
       "      <th>1</th>\n",
       "      <td>70</td>\n",
       "      <td>2010</td>\n",
       "      <td>90</td>\n",
       "      <td>Alex</td>\n",
       "      <td>264423</td>\n",
       "      <td>160</td>\n",
       "      <td>155</td>\n",
       "    </tr>\n",
       "    <tr>\n",
       "      <th>2</th>\n",
       "      <td>80</td>\n",
       "      <td>2011</td>\n",
       "      <td>90</td>\n",
       "      <td>Bill</td>\n",
       "      <td>264444</td>\n",
       "      <td>170</td>\n",
       "      <td>175</td>\n",
       "    </tr>\n",
       "    <tr>\n",
       "      <th>3</th>\n",
       "      <td>80</td>\n",
       "      <td>2011</td>\n",
       "      <td>40</td>\n",
       "      <td>Mark</td>\n",
       "      <td>264445</td>\n",
       "      <td>120</td>\n",
       "      <td>175</td>\n",
       "    </tr>\n",
       "  </tbody>\n",
       "</table>\n",
       "</div>"
      ],
      "text/plain": [
       "   English  EnrolYear  Math    Name  StudentID  Total  Height\n",
       "0       60       2010   100  Steven     264422    160     160\n",
       "1       70       2010    90    Alex     264423    160     155\n",
       "2       80       2011    90    Bill     264444    170     175\n",
       "3       80       2011    40    Mark     264445    120     175"
      ]
     },
     "execution_count": 33,
     "metadata": {},
     "output_type": "execute_result"
    }
   ],
   "source": [
    "# notice in df2, 'Bob' (ID: 264446) is missing\n",
    "# df2 = pd.DataFrame({\n",
    "# 'StudentID' : [264422,264423,264444,264445], # StudentID column and its data\n",
    " # 'Height' : [160,155,175,175], # Height column and its data\n",
    "#})\n",
    "\n",
    "# df2\n",
    "\n",
    "df3 = pd.DataFrame({\n",
    "   'StudentID' : [264422,264423,264444,264445],\n",
    "    'Height': [160,155,175,175],   \n",
    "})\n",
    "\n",
    "\n",
    "mergedf = pd.merge(df, df3, on=['StudentID'])\n",
    "mergedf"
   ]
  },
  {
   "cell_type": "markdown",
   "metadata": {},
   "source": [
    "### merge = pd.merge(df,df3, on=['StudentID'])\n",
    "merge # have a look"
   ]
  },
  {
   "cell_type": "markdown",
   "metadata": {},
   "source": [
    "### 2.5 Read csv and excel file into dataframe"
   ]
  },
  {
   "cell_type": "code",
   "execution_count": 7,
   "metadata": {},
   "outputs": [
    {
     "data": {
      "text/html": [
       "<div>\n",
       "<style>\n",
       "    .dataframe thead tr:only-child th {\n",
       "        text-align: right;\n",
       "    }\n",
       "\n",
       "    .dataframe thead th {\n",
       "        text-align: left;\n",
       "    }\n",
       "\n",
       "    .dataframe tbody tr th {\n",
       "        vertical-align: top;\n",
       "    }\n",
       "</style>\n",
       "<table border=\"1\" class=\"dataframe\">\n",
       "  <thead>\n",
       "    <tr style=\"text-align: right;\">\n",
       "      <th></th>\n",
       "      <th>City</th>\n",
       "      <th>Colors Reported</th>\n",
       "      <th>Shape Reported</th>\n",
       "      <th>State</th>\n",
       "      <th>Time</th>\n",
       "    </tr>\n",
       "  </thead>\n",
       "  <tbody>\n",
       "    <tr>\n",
       "      <th>0</th>\n",
       "      <td>Ithaca</td>\n",
       "      <td>NaN</td>\n",
       "      <td>TRIANGLE</td>\n",
       "      <td>NY</td>\n",
       "      <td>1930-01-06 22:00:00</td>\n",
       "    </tr>\n",
       "    <tr>\n",
       "      <th>1</th>\n",
       "      <td>Willingboro</td>\n",
       "      <td>NaN</td>\n",
       "      <td>OTHER</td>\n",
       "      <td>NJ</td>\n",
       "      <td>1930-06-30 20:00:00</td>\n",
       "    </tr>\n",
       "    <tr>\n",
       "      <th>2</th>\n",
       "      <td>Holyoke</td>\n",
       "      <td>NaN</td>\n",
       "      <td>OVAL</td>\n",
       "      <td>CO</td>\n",
       "      <td>1931-02-15 14:00:00</td>\n",
       "    </tr>\n",
       "    <tr>\n",
       "      <th>3</th>\n",
       "      <td>Abilene</td>\n",
       "      <td>NaN</td>\n",
       "      <td>DISK</td>\n",
       "      <td>KS</td>\n",
       "      <td>1931-01-06 13:00:00</td>\n",
       "    </tr>\n",
       "    <tr>\n",
       "      <th>4</th>\n",
       "      <td>New York Worlds Fair</td>\n",
       "      <td>NaN</td>\n",
       "      <td>LIGHT</td>\n",
       "      <td>NY</td>\n",
       "      <td>1933-04-18 19:00:00</td>\n",
       "    </tr>\n",
       "  </tbody>\n",
       "</table>\n",
       "</div>"
      ],
      "text/plain": [
       "                   City Colors Reported Shape Reported State  \\\n",
       "0                Ithaca             NaN       TRIANGLE    NY   \n",
       "1           Willingboro             NaN          OTHER    NJ   \n",
       "2               Holyoke             NaN           OVAL    CO   \n",
       "3               Abilene             NaN           DISK    KS   \n",
       "4  New York Worlds Fair             NaN          LIGHT    NY   \n",
       "\n",
       "                  Time  \n",
       "0  1930-01-06 22:00:00  \n",
       "1  1930-06-30 20:00:00  \n",
       "2  1931-02-15 14:00:00  \n",
       "3  1931-01-06 13:00:00  \n",
       "4  1933-04-18 19:00:00  "
      ]
     },
     "execution_count": 7,
     "metadata": {},
     "output_type": "execute_result"
    }
   ],
   "source": [
    "ufo_reports = pd.read_csv('uforeports.csv')\n",
    "ufo_reports.head() # print the first 5 records out to have a look\n",
    "#ufo_reports"
   ]
  },
  {
   "cell_type": "code",
   "execution_count": 12,
   "metadata": {},
   "outputs": [
    {
     "data": {
      "text/html": [
       "<div>\n",
       "<style>\n",
       "    .dataframe thead tr:only-child th {\n",
       "        text-align: right;\n",
       "    }\n",
       "\n",
       "    .dataframe thead th {\n",
       "        text-align: left;\n",
       "    }\n",
       "\n",
       "    .dataframe tbody tr th {\n",
       "        vertical-align: top;\n",
       "    }\n",
       "</style>\n",
       "<table border=\"1\" class=\"dataframe\">\n",
       "  <thead>\n",
       "    <tr style=\"text-align: right;\">\n",
       "      <th></th>\n",
       "      <th>City</th>\n",
       "      <th>Colors Reported</th>\n",
       "      <th>Shape Reported</th>\n",
       "      <th>State</th>\n",
       "      <th>Time</th>\n",
       "    </tr>\n",
       "  </thead>\n",
       "  <tbody>\n",
       "    <tr>\n",
       "      <th>0</th>\n",
       "      <td>Ithaca</td>\n",
       "      <td>NaN</td>\n",
       "      <td>TRIANGLE</td>\n",
       "      <td>NY</td>\n",
       "      <td>1930-01-06 22:00:00</td>\n",
       "    </tr>\n",
       "    <tr>\n",
       "      <th>1</th>\n",
       "      <td>Willingboro</td>\n",
       "      <td>NaN</td>\n",
       "      <td>OTHER</td>\n",
       "      <td>NJ</td>\n",
       "      <td>1930-06-30 20:00:00</td>\n",
       "    </tr>\n",
       "    <tr>\n",
       "      <th>2</th>\n",
       "      <td>Holyoke</td>\n",
       "      <td>NaN</td>\n",
       "      <td>OVAL</td>\n",
       "      <td>CO</td>\n",
       "      <td>1931-02-15 14:00:00</td>\n",
       "    </tr>\n",
       "    <tr>\n",
       "      <th>3</th>\n",
       "      <td>Abilene</td>\n",
       "      <td>NaN</td>\n",
       "      <td>DISK</td>\n",
       "      <td>KS</td>\n",
       "      <td>1931-01-06 13:00:00</td>\n",
       "    </tr>\n",
       "    <tr>\n",
       "      <th>4</th>\n",
       "      <td>New York Worlds Fair</td>\n",
       "      <td>NaN</td>\n",
       "      <td>LIGHT</td>\n",
       "      <td>NY</td>\n",
       "      <td>1933-04-18 19:00:00</td>\n",
       "    </tr>\n",
       "  </tbody>\n",
       "</table>\n",
       "</div>"
      ],
      "text/plain": [
       "                   City Colors Reported Shape Reported State  \\\n",
       "0                Ithaca             NaN       TRIANGLE    NY   \n",
       "1           Willingboro             NaN          OTHER    NJ   \n",
       "2               Holyoke             NaN           OVAL    CO   \n",
       "3               Abilene             NaN           DISK    KS   \n",
       "4  New York Worlds Fair             NaN          LIGHT    NY   \n",
       "\n",
       "                 Time  \n",
       "0 1930-01-06 22:00:00  \n",
       "1 1930-06-30 20:00:00  \n",
       "2 1931-02-15 14:00:00  \n",
       "3 1931-01-06 13:00:00  \n",
       "4 1933-04-18 19:00:00  "
      ]
     },
     "execution_count": 12,
     "metadata": {},
     "output_type": "execute_result"
    }
   ],
   "source": [
    "# very similar if we have a xls file instead\n",
    "ufo_reports_xls = pd.read_excel('uforeports_excel.xls', sheetname = 'uforeports') # we will have to specify the sheet name\n",
    "ufo_reports_xls.head() # print the first 5 records out to have a look\n",
    "\n",
    "# notice that here we just have the same data in two different file format, and so python recognise the Time variable differently"
   ]
  },
  {
   "cell_type": "markdown",
   "metadata": {},
   "source": [
    "Notice that Time columns in two dataframe are in indeed, in different formats, check it out!"
   ]
  },
  {
   "cell_type": "code",
   "execution_count": 13,
   "metadata": {},
   "outputs": [
    {
     "name": "stdout",
     "output_type": "stream",
     "text": [
      "datetime64[ns]\n",
      "datetime64[ns]\n"
     ]
    }
   ],
   "source": [
    "# print (ufo_reports.Time.dtypes) # just an object\n",
    "# print (ufo_reports_xls.Time.dtypes) # datetime format, this comes along with xls, you can format columns\n",
    "\n",
    "print (ufo_reports.Time.dtypes)\n",
    "print (ufo_reports_xls.Time.dtypes)"
   ]
  },
  {
   "cell_type": "markdown",
   "metadata": {},
   "source": [
    "So in the dataframe reading from csv files, the Time column is just an object, we can change that to datatime format so they are consistent. "
   ]
  },
  {
   "cell_type": "code",
   "execution_count": 14,
   "metadata": {},
   "outputs": [
    {
     "name": "stdout",
     "output_type": "stream",
     "text": [
      "datetime64[ns]\n"
     ]
    },
    {
     "data": {
      "text/html": [
       "<div>\n",
       "<style>\n",
       "    .dataframe thead tr:only-child th {\n",
       "        text-align: right;\n",
       "    }\n",
       "\n",
       "    .dataframe thead th {\n",
       "        text-align: left;\n",
       "    }\n",
       "\n",
       "    .dataframe tbody tr th {\n",
       "        vertical-align: top;\n",
       "    }\n",
       "</style>\n",
       "<table border=\"1\" class=\"dataframe\">\n",
       "  <thead>\n",
       "    <tr style=\"text-align: right;\">\n",
       "      <th></th>\n",
       "      <th>City</th>\n",
       "      <th>Colors Reported</th>\n",
       "      <th>Shape Reported</th>\n",
       "      <th>State</th>\n",
       "      <th>Time</th>\n",
       "    </tr>\n",
       "  </thead>\n",
       "  <tbody>\n",
       "    <tr>\n",
       "      <th>0</th>\n",
       "      <td>Ithaca</td>\n",
       "      <td>NaN</td>\n",
       "      <td>TRIANGLE</td>\n",
       "      <td>NY</td>\n",
       "      <td>1930-01-06 22:00:00</td>\n",
       "    </tr>\n",
       "    <tr>\n",
       "      <th>1</th>\n",
       "      <td>Willingboro</td>\n",
       "      <td>NaN</td>\n",
       "      <td>OTHER</td>\n",
       "      <td>NJ</td>\n",
       "      <td>1930-06-30 20:00:00</td>\n",
       "    </tr>\n",
       "    <tr>\n",
       "      <th>2</th>\n",
       "      <td>Holyoke</td>\n",
       "      <td>NaN</td>\n",
       "      <td>OVAL</td>\n",
       "      <td>CO</td>\n",
       "      <td>1931-02-15 14:00:00</td>\n",
       "    </tr>\n",
       "    <tr>\n",
       "      <th>3</th>\n",
       "      <td>Abilene</td>\n",
       "      <td>NaN</td>\n",
       "      <td>DISK</td>\n",
       "      <td>KS</td>\n",
       "      <td>1931-01-06 13:00:00</td>\n",
       "    </tr>\n",
       "    <tr>\n",
       "      <th>4</th>\n",
       "      <td>New York Worlds Fair</td>\n",
       "      <td>NaN</td>\n",
       "      <td>LIGHT</td>\n",
       "      <td>NY</td>\n",
       "      <td>1933-04-18 19:00:00</td>\n",
       "    </tr>\n",
       "  </tbody>\n",
       "</table>\n",
       "</div>"
      ],
      "text/plain": [
       "                   City Colors Reported Shape Reported State  \\\n",
       "0                Ithaca             NaN       TRIANGLE    NY   \n",
       "1           Willingboro             NaN          OTHER    NJ   \n",
       "2               Holyoke             NaN           OVAL    CO   \n",
       "3               Abilene             NaN           DISK    KS   \n",
       "4  New York Worlds Fair             NaN          LIGHT    NY   \n",
       "\n",
       "                 Time  \n",
       "0 1930-01-06 22:00:00  \n",
       "1 1930-06-30 20:00:00  \n",
       "2 1931-02-15 14:00:00  \n",
       "3 1931-01-06 13:00:00  \n",
       "4 1933-04-18 19:00:00  "
      ]
     },
     "execution_count": 14,
     "metadata": {},
     "output_type": "execute_result"
    }
   ],
   "source": [
    "#ufo_reports.Time = pd.to_datetime(ufo_reports.Time) # change to datetime format\n",
    "#print (ufo_reports.Time.dtypes) # print its datatype now \n",
    "#ufo_reports.head() # print the head to check whether it looks the same as the other dataframe\n",
    "\n",
    "ufo_reports.Time = pd.to_datetime(ufo_reports.Time)\n",
    "print (ufo_reports.Time.dtype)\n",
    "ufo_reports.head()\n"
   ]
  },
  {
   "cell_type": "markdown",
   "metadata": {},
   "source": [
    "## 3. Basic data auditing"
   ]
  },
  {
   "cell_type": "markdown",
   "metadata": {},
   "source": [
    "We could easily do some auditing or exploration of the data using python. \n",
    "Graphical data exploration for outlier identification could be found in Section 5.\n",
    "Here let's use the titanic data set."
   ]
  },
  {
   "cell_type": "code",
   "execution_count": 6,
   "metadata": {},
   "outputs": [
    {
     "name": "stdout",
     "output_type": "stream",
     "text": [
      "(891, 15)\n"
     ]
    },
    {
     "data": {
      "text/html": [
       "<div>\n",
       "<style>\n",
       "    .dataframe thead tr:only-child th {\n",
       "        text-align: right;\n",
       "    }\n",
       "\n",
       "    .dataframe thead th {\n",
       "        text-align: left;\n",
       "    }\n",
       "\n",
       "    .dataframe tbody tr th {\n",
       "        vertical-align: top;\n",
       "    }\n",
       "</style>\n",
       "<table border=\"1\" class=\"dataframe\">\n",
       "  <thead>\n",
       "    <tr style=\"text-align: right;\">\n",
       "      <th></th>\n",
       "      <th>survived</th>\n",
       "      <th>pclass</th>\n",
       "      <th>sex</th>\n",
       "      <th>age</th>\n",
       "      <th>sibsp</th>\n",
       "      <th>parch</th>\n",
       "      <th>fare</th>\n",
       "      <th>embarked</th>\n",
       "      <th>class</th>\n",
       "      <th>who</th>\n",
       "      <th>adult_male</th>\n",
       "      <th>deck</th>\n",
       "      <th>embark_town</th>\n",
       "      <th>alive</th>\n",
       "      <th>alone</th>\n",
       "    </tr>\n",
       "  </thead>\n",
       "  <tbody>\n",
       "    <tr>\n",
       "      <th>0</th>\n",
       "      <td>0</td>\n",
       "      <td>3</td>\n",
       "      <td>male</td>\n",
       "      <td>22.0</td>\n",
       "      <td>1</td>\n",
       "      <td>0</td>\n",
       "      <td>7.2500</td>\n",
       "      <td>S</td>\n",
       "      <td>Third</td>\n",
       "      <td>man</td>\n",
       "      <td>True</td>\n",
       "      <td>NaN</td>\n",
       "      <td>Southampton</td>\n",
       "      <td>no</td>\n",
       "      <td>False</td>\n",
       "    </tr>\n",
       "    <tr>\n",
       "      <th>1</th>\n",
       "      <td>1</td>\n",
       "      <td>1</td>\n",
       "      <td>female</td>\n",
       "      <td>38.0</td>\n",
       "      <td>1</td>\n",
       "      <td>0</td>\n",
       "      <td>71.2833</td>\n",
       "      <td>C</td>\n",
       "      <td>First</td>\n",
       "      <td>woman</td>\n",
       "      <td>False</td>\n",
       "      <td>C</td>\n",
       "      <td>Cherbourg</td>\n",
       "      <td>yes</td>\n",
       "      <td>False</td>\n",
       "    </tr>\n",
       "    <tr>\n",
       "      <th>2</th>\n",
       "      <td>1</td>\n",
       "      <td>3</td>\n",
       "      <td>female</td>\n",
       "      <td>26.0</td>\n",
       "      <td>0</td>\n",
       "      <td>0</td>\n",
       "      <td>7.9250</td>\n",
       "      <td>S</td>\n",
       "      <td>Third</td>\n",
       "      <td>woman</td>\n",
       "      <td>False</td>\n",
       "      <td>NaN</td>\n",
       "      <td>Southampton</td>\n",
       "      <td>yes</td>\n",
       "      <td>True</td>\n",
       "    </tr>\n",
       "    <tr>\n",
       "      <th>3</th>\n",
       "      <td>1</td>\n",
       "      <td>1</td>\n",
       "      <td>female</td>\n",
       "      <td>35.0</td>\n",
       "      <td>1</td>\n",
       "      <td>0</td>\n",
       "      <td>53.1000</td>\n",
       "      <td>S</td>\n",
       "      <td>First</td>\n",
       "      <td>woman</td>\n",
       "      <td>False</td>\n",
       "      <td>C</td>\n",
       "      <td>Southampton</td>\n",
       "      <td>yes</td>\n",
       "      <td>False</td>\n",
       "    </tr>\n",
       "    <tr>\n",
       "      <th>4</th>\n",
       "      <td>0</td>\n",
       "      <td>3</td>\n",
       "      <td>male</td>\n",
       "      <td>35.0</td>\n",
       "      <td>0</td>\n",
       "      <td>0</td>\n",
       "      <td>8.0500</td>\n",
       "      <td>S</td>\n",
       "      <td>Third</td>\n",
       "      <td>man</td>\n",
       "      <td>True</td>\n",
       "      <td>NaN</td>\n",
       "      <td>Southampton</td>\n",
       "      <td>no</td>\n",
       "      <td>True</td>\n",
       "    </tr>\n",
       "  </tbody>\n",
       "</table>\n",
       "</div>"
      ],
      "text/plain": [
       "   survived  pclass     sex   age  sibsp  parch     fare embarked  class  \\\n",
       "0         0       3    male  22.0      1      0   7.2500        S  Third   \n",
       "1         1       1  female  38.0      1      0  71.2833        C  First   \n",
       "2         1       3  female  26.0      0      0   7.9250        S  Third   \n",
       "3         1       1  female  35.0      1      0  53.1000        S  First   \n",
       "4         0       3    male  35.0      0      0   8.0500        S  Third   \n",
       "\n",
       "     who  adult_male deck  embark_town alive  alone  \n",
       "0    man        True  NaN  Southampton    no  False  \n",
       "1  woman       False    C    Cherbourg   yes  False  \n",
       "2  woman       False  NaN  Southampton   yes   True  \n",
       "3  woman       False    C  Southampton   yes  False  \n",
       "4    man        True  NaN  Southampton    no   True  "
      ]
     },
     "execution_count": 6,
     "metadata": {},
     "output_type": "execute_result"
    }
   ],
   "source": [
    "#titanic = pd.read_csv('titanic.csv') # read in titanic data into pandas dataframe\n",
    "#print (titanic.shape) # have a look at the dimension of the dataframe\n",
    "#titanic.head() # printing out the first few rows\n",
    "\n",
    "titanic = pd.read_csv('titanic.csv')\n",
    "print (titanic.shape)\n",
    "titanic.head()"
   ]
  },
  {
   "cell_type": "code",
   "execution_count": 15,
   "metadata": {},
   "outputs": [
    {
     "data": {
      "text/plain": [
       "survived         int64\n",
       "pclass           int64\n",
       "sex             object\n",
       "age            float64\n",
       "sibsp            int64\n",
       "parch            int64\n",
       "fare           float64\n",
       "embarked        object\n",
       "class           object\n",
       "who             object\n",
       "adult_male        bool\n",
       "deck            object\n",
       "embark_town     object\n",
       "alive           object\n",
       "alone             bool\n",
       "dtype: object"
      ]
     },
     "execution_count": 15,
     "metadata": {},
     "output_type": "execute_result"
    }
   ],
   "source": [
    "# have a look at the data types of each columns\n",
    "titanic.dtypes"
   ]
  },
  {
   "cell_type": "markdown",
   "metadata": {},
   "source": [
    "We can do summary statistics to see the count, number of unique values, as well as the value range of numeric fields."
   ]
  },
  {
   "cell_type": "code",
   "execution_count": 3,
   "metadata": {},
   "outputs": [
    {
     "ename": "NameError",
     "evalue": "name 'titanic' is not defined",
     "output_type": "error",
     "traceback": [
      "\u001b[1;31m---------------------------------------------------------------------------\u001b[0m",
      "\u001b[1;31mNameError\u001b[0m                                 Traceback (most recent call last)",
      "\u001b[1;32m<ipython-input-3-7d21e8ed865f>\u001b[0m in \u001b[0;36m<module>\u001b[1;34m()\u001b[0m\n\u001b[1;32m----> 1\u001b[1;33m \u001b[0mtitanic\u001b[0m\u001b[1;33m.\u001b[0m\u001b[0mdescribe\u001b[0m\u001b[1;33m(\u001b[0m\u001b[1;33m)\u001b[0m\u001b[1;33m\u001b[0m\u001b[0m\n\u001b[0m",
      "\u001b[1;31mNameError\u001b[0m: name 'titanic' is not defined"
     ]
    }
   ],
   "source": [
    "titanic.describe()"
   ]
  },
  {
   "cell_type": "raw",
   "metadata": {},
   "source": [
    "# looking at unique values of a column\n",
    "#titanic.age.value_counts()\n",
    "titanic.age.value_counts()"
   ]
  },
  {
   "cell_type": "markdown",
   "metadata": {},
   "source": [
    "## 4. Group by\n",
    "Continue to use the titanic data set, let's focus on the age of passengers. \n",
    "We show how to look at the mean of column using describe() function (alternatively, you can get the mean by titanic['age'].mean()).\n",
    "Here we will go for a more detailed look at the age for different groups."
   ]
  },
  {
   "cell_type": "code",
   "execution_count": 23,
   "metadata": {},
   "outputs": [
    {
     "data": {
      "text/plain": [
       "sex     class \n",
       "female  First     34.611765\n",
       "        Second    28.722973\n",
       "        Third     21.750000\n",
       "male    First     41.281386\n",
       "        Second    30.740707\n",
       "        Third     26.507589\n",
       "Name: age, dtype: float64"
      ]
     },
     "execution_count": 23,
     "metadata": {},
     "output_type": "execute_result"
    }
   ],
   "source": [
    "# this groupby has created a series with a hierachical index. We can then apply methods to the individual groups\n",
    "sex_class = titanic.groupby(['sex','class'])['age']\n",
    "\n",
    "# have a look\n",
    "sex_class.mean()"
   ]
  },
  {
   "cell_type": "markdown",
   "metadata": {},
   "source": [
    "In a more sophisticated case, if you want to do statistics on multiple columns or if you want to apply different aggregate function to different columns, this is one way to go...."
   ]
  },
  {
   "cell_type": "code",
   "execution_count": 32,
   "metadata": {},
   "outputs": [
    {
     "name": "stderr",
     "output_type": "stream",
     "text": [
      "C:\\Users\\Jafreen\\Anaconda3\\lib\\site-packages\\pandas\\core\\groupby.py:4036: FutureWarning: using a dict with renaming is deprecated and will be removed in a future version\n",
      "  return super(DataFrameGroupBy, self).aggregate(arg, *args, **kwargs)\n"
     ]
    },
    {
     "data": {
      "text/html": [
       "<div>\n",
       "<style>\n",
       "    .dataframe thead tr:only-child th {\n",
       "        text-align: right;\n",
       "    }\n",
       "\n",
       "    .dataframe thead th {\n",
       "        text-align: left;\n",
       "    }\n",
       "\n",
       "    .dataframe tbody tr th {\n",
       "        vertical-align: top;\n",
       "    }\n",
       "</style>\n",
       "<table border=\"1\" class=\"dataframe\">\n",
       "  <thead>\n",
       "    <tr style=\"text-align: right;\">\n",
       "      <th></th>\n",
       "      <th></th>\n",
       "      <th>passengers</th>\n",
       "      <th>avergae age</th>\n",
       "    </tr>\n",
       "  </thead>\n",
       "  <tbody>\n",
       "    <tr>\n",
       "      <th>0</th>\n",
       "      <td>First</td>\n",
       "      <td>216</td>\n",
       "      <td>38.233441</td>\n",
       "    </tr>\n",
       "    <tr>\n",
       "      <th>1</th>\n",
       "      <td>Second</td>\n",
       "      <td>184</td>\n",
       "      <td>29.877630</td>\n",
       "    </tr>\n",
       "    <tr>\n",
       "      <th>2</th>\n",
       "      <td>Third</td>\n",
       "      <td>491</td>\n",
       "      <td>25.140620</td>\n",
       "    </tr>\n",
       "  </tbody>\n",
       "</table>\n",
       "</div>"
      ],
      "text/plain": [
       "           passengers  avergae age\n",
       "0   First         216    38.233441\n",
       "1  Second         184    29.877630\n",
       "2   Third         491    25.140620"
      ]
     },
     "execution_count": 32,
     "metadata": {},
     "output_type": "execute_result"
    }
   ],
   "source": [
    "pby and apply functions\n",
    "# you can have a look now\n",
    "# groupbyClass\n",
    "\n",
    "# we try to make it look pretty, i.e., make it as a dataframe, you can have a look at it by yourself step by step\n",
    "groupbyClass = groupbyClass.reset_index() # reset its index\n",
    "groupbyClass.columns = groupbyClass.columns.droplevel(0) # drop level 0 index\n",
    "#groupbyClass.rename(columns = {'':'class'},inplace = True) # rename the first column\n",
    "# now have a look, so this tells statistic about the average age and the number of passengers in each class\n",
    "groupbyClass\n",
    "\n"
   ]
  },
  {
   "cell_type": "markdown",
   "metadata": {},
   "source": [
    "## 5. Apply function\n",
    "Apply function is a built-in function in python, it is a very handy tool when we want to apply a function to each element of a list, series, or rows/columns of dataframes etc.\n",
    "\n",
    "It is also very handy when we combine the use of lambda function (also called anonymous function: is a function that is defined without a name)."
   ]
  },
  {
   "cell_type": "code",
   "execution_count": 31,
   "metadata": {},
   "outputs": [
    {
     "name": "stderr",
     "output_type": "stream",
     "text": [
      "C:\\Users\\Jafreen\\Anaconda3\\lib\\site-packages\\pandas\\core\\groupby.py:4036: FutureWarning: using a dict with renaming is deprecated and will be removed in a future version\n",
      "  return super(DataFrameGroupBy, self).aggregate(arg, *args, **kwargs)\n"
     ]
    },
    {
     "data": {
      "text/html": [
       "<div>\n",
       "<style>\n",
       "    .dataframe thead tr:only-child th {\n",
       "        text-align: right;\n",
       "    }\n",
       "\n",
       "    .dataframe thead th {\n",
       "        text-align: left;\n",
       "    }\n",
       "\n",
       "    .dataframe tbody tr th {\n",
       "        vertical-align: top;\n",
       "    }\n",
       "</style>\n",
       "<table border=\"1\" class=\"dataframe\">\n",
       "  <thead>\n",
       "    <tr style=\"text-align: right;\">\n",
       "      <th></th>\n",
       "      <th>class</th>\n",
       "      <th>unique age values</th>\n",
       "      <th>elder age group</th>\n",
       "    </tr>\n",
       "  </thead>\n",
       "  <tbody>\n",
       "    <tr>\n",
       "      <th>0</th>\n",
       "      <td>First</td>\n",
       "      <td>57.0</td>\n",
       "      <td>39.0</td>\n",
       "    </tr>\n",
       "    <tr>\n",
       "      <th>1</th>\n",
       "      <td>Second</td>\n",
       "      <td>57.0</td>\n",
       "      <td>15.0</td>\n",
       "    </tr>\n",
       "    <tr>\n",
       "      <th>2</th>\n",
       "      <td>Third</td>\n",
       "      <td>68.0</td>\n",
       "      <td>10.0</td>\n",
       "    </tr>\n",
       "  </tbody>\n",
       "</table>\n",
       "</div>"
      ],
      "text/plain": [
       "    class  unique age values  elder age group\n",
       "0   First               57.0             39.0\n",
       "1  Second               57.0             15.0\n",
       "2   Third               68.0             10.0"
      ]
     },
     "execution_count": 31,
     "metadata": {},
     "output_type": "execute_result"
    }
   ],
   "source": [
    "# here, we want to see: the age diversity in each class; and the number of people elder than 50 in each class\n",
    "# so in the following, the two lamda functions apply to the age column, \n",
    "# the 'unique age values' counts it unique not null values, \n",
    "# and the 'elder age group' counts the number of values larger than 50\n",
    "# notice that here we apply two functions to the same column 'age'.\n",
    "fun = {'age':{'unique age values':lambda x: x.nunique(),'elder age group':lambda x: x[x>50].count()}} \n",
    "\n",
    "# just making it pretty\n",
    "groupbyClass = titanic.groupby('class').agg(fun).reset_index()  # reset its index\n",
    "groupbyClass.columns = groupbyClass.columns.droplevel(0) # drop level 0 index\n",
    "groupbyClass.rename(columns = {'':'class'},inplace = True) # rename the first column\n",
    "groupbyClass # now have a look"
   ]
  },
  {
   "cell_type": "markdown",
   "metadata": {},
   "source": [
    "## 6. Basic plotting"
   ]
  },
  {
   "cell_type": "markdown",
   "metadata": {},
   "source": [
    "### Simply plot \n",
    "You can just simiply plot the value to have a look. But sometimes this wouldn't tell anything, e.g."
   ]
  },
  {
   "cell_type": "code",
   "execution_count": 8,
   "metadata": {},
   "outputs": [
    {
     "data": {
      "image/png": "iVBORw0KGgoAAAANSUhEUgAAAXoAAAD8CAYAAAB5Pm/hAAAABHNCSVQICAgIfAhkiAAAAAlwSFlz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\nAElFTkSuQmCC\n",
      "text/plain": [
       "<matplotlib.figure.Figure at 0x1d7cdc45ac8>"
      ]
     },
     "metadata": {},
     "output_type": "display_data"
    }
   ],
   "source": [
    "import matplotlib.pyplot as plt #import library for plotting\n",
    "# This following magic line is to make sure graph shown inline of the notebook\n",
    "%matplotlib inline\n",
    "# continue to use titanic data set\n",
    "plt.plot(titanic.fare) # this simply plots the fare of each passenger, so there are about 900 passengers.\n",
    "plt.show()"
   ]
  },
  {
   "cell_type": "markdown",
   "metadata": {},
   "source": [
    "### Histogram\n",
    "Instead, we could have a look at the distribution by histogram. "
   ]
  },
  {
   "cell_type": "code",
   "execution_count": null,
   "metadata": {
    "collapsed": true
   },
   "outputs": [],
   "source": [
    "titanic.fare.hist(bins = 200) # you can try different bin number to have a look\n",
    "plt.xlim(0, 300) # setting limit on x-axis\n",
    "plt.ylim(0,600) # setting limit on y-axis"
   ]
  },
  {
   "cell_type": "markdown",
   "metadata": {},
   "source": [
    "### Boxplot\n",
    "Or alternatively, we can use boxplot, this helps you to identify any outliers\n",
    "\n",
    "A boxplot (also called a box and whisker diagram) is a simple visual representation of key features of a univariate sample. \n",
    "It displays five-point summaries and potential outliers in graphical form. \n",
    "\n",
    "The following figure shows an illustration graph of boxplot elements.\n",
    "<img src=\"Boxplot.png\",width=500,height=500>"
   ]
  },
  {
   "cell_type": "code",
   "execution_count": null,
   "metadata": {
    "collapsed": true
   },
   "outputs": [],
   "source": [
    "titanic.boxplot(column = 'fare')\n",
    "plt.ylim(0, 600) # setting limit on y-axis\n",
    "# we can see that there are lots of outliers in column 'fare'"
   ]
  },
  {
   "cell_type": "markdown",
   "metadata": {},
   "source": [
    "We can see that there are lots of outliers in column 'fare', but it probably make much more sense to look at it by different classes:"
   ]
  },
  {
   "cell_type": "code",
   "execution_count": null,
   "metadata": {
    "collapsed": true
   },
   "outputs": [],
   "source": [
    "titanic.boxplot(column = 'fare', by = 'class')\n",
    "plt.ylim(0, 600) # setting limit on y-axis\n",
    "# we can see that there are lots of outliers in column 'fare'"
   ]
  },
  {
   "cell_type": "markdown",
   "metadata": {},
   "source": [
    "Now, we can remove the outliers in different classes. Notice that you could have make the following code more efficient and accurate. But we are trying to keep the simplicity here."
   ]
  },
  {
   "cell_type": "code",
   "execution_count": 9,
   "metadata": {},
   "outputs": [
    {
     "name": "stderr",
     "output_type": "stream",
     "text": [
      "C:\\Users\\Jafreen\\Anaconda3\\lib\\site-packages\\numpy\\core\\fromnumeric.py:57: FutureWarning: reshape is deprecated and will raise in a subsequent release. Please use .values.reshape(...) instead\n",
      "  return getattr(obj, method)(*args, **kwds)\n"
     ]
    },
    {
     "data": {
      "text/plain": [
       "(0, 600)"
      ]
     },
     "execution_count": 9,
     "metadata": {},
     "output_type": "execute_result"
    },
    {
     "data": {
      "image/png": "iVBORw0KGgoAAAANSUhEUgAAAYUAAAEcCAYAAAAoSqjDAAAABHNCSVQICAgIfAhkiAAAAAlwSFlz\nAAALEgAACxIB0t1+/AAAADl0RVh0U29mdHdhcmUAbWF0cGxvdGxpYiB2ZXJzaW9uIDIuMS4wLCBo\ndHRwOi8vbWF0cGxvdGxpYi5vcmcvpW3flQAAG/ZJREFUeJzt3XucJWV95/HPV4ZblDiAOsIwgBdi\nvEWEiZLVxBHcRFGBNRA1RghLnLiBaDYaJZp4W9jgauKKqyZjMAx4ZVGWWWEVAjRGE0EIdzCCiM44\nCHKVUTGCv/2jni7ONGemG+b0dE/35/16nVdXPfWcqqe6uut76qnLSVUhSRLAI2a6AZKk2cNQkCT1\nDAVJUs9QkCT1DAVJUs9QkCT1DAXNuCQnJzluptsx0zb2e0jy+0m+Ms3LX5ZkzXQuQ7OfoaBekpuS\n/CTJuiR3JjkryZKZbtegJJXkyTPdDmmuMhQ00cur6lHALsAtwIdmuD3TJh3/B6QB/kNoqKq6Fzgd\neNp4WZJHJzklyQ+SfCfJX4zvVJN8NMnpA3Xfm+S8tuNdlmRNkrclua0dkbxmQ8tO8rokNyS5I8mq\nJLu28i+3Kle0o5lXDnnvVkn+ui3n20mOaUcXC9r0sSTHJ/kq8GPgiUl2bcu5oy33dQPzW69LZ2IX\nS1uXP09ybTu6+ock2w1Mf1mSy5PcleSfk/zKwLRnJ/nXJPck+SzQv2/Dv5p8KMndSb6R5IBWeFiS\nSydUfFOS/7OBmezU2rm2tXlD9Y5N8q3WvmuT/KeBaU9OcmFry22t/eNB+4Ekt7ZpVyZ5xiTrpdmk\nqnz5oqoAbgJe1IZ/AVgJnDIw/RTgTGAHYE/gm8BRA/W/Cfw+8OvAbcBubdoy4D7gb4BtgRcAPwKe\n0qafDBzXhvdv792n1f0Q8OWBNhTw5I2sw+uBa4HdgB2Bf2zvWdCmjwHfBZ4OLAC2Bi4EPkK3U94b\n+AFwwMS2DazLmgm/s6uBJcBOwFcH1mUf4FbgucBWwBGt/rbANsB3gP/a2nAo8LPBZU1Yr99vv8Px\n+q8E7m7L3Ba4A3jqQP3LgN/ewLzOAj7bfj9bAy/YwLodBuxK9+HxlW2b7dKmfRp4e5u2HfD8Vv5b\nwKXAQiDAU8ff42vLeM14A3zNnlfbYa0D7mo7oLXAM9u0rYCfAk8bqP+HwNjA+HPazuk7wKsHype1\n+T1yoOw04C/bcL/jBU4C/sdAvUe1neWebXyyUDgf+MOB8Rfx4FB4z8D0JcD9wA4DZX8FnDyxbQPr\nMjEUXj8wfiDwrTb8UeC/TWjfv9GF4m+0328Gpv0zGw+FifUvBl47sKzj2/DTgTuBbYfMZxfg58CO\nQ6att25Dpl8OHNyGTwFW0IJ/oM7+dB8O9gMeMdN/074e+svuI010SFUtpPv0eQxwYZLHA4/hgU+3\n474DLB4fqaqLgRvpPiGeNmG+d1bVjya8d9chy991cBlVtQ64fXA5k9gVWD0wvnpIncGyXYE7quqe\nCW2b6vImzm9wvfYA3tS6ju5KchddCO3aXt+rticdeO/GDKs/vqyVwO8mCfBa4LSq+umQeSyhW987\nJ1upJIcPdH3dBTyD7u8A4C102/niJNck+c8AVXU+8L+ADwO3JFmR5BcnW5ZmD0NBQ1XV/VX1ebpP\n0c+n69L5Gd2ObtzuwPfGR5IcTRcma+l2GoN2TPLICe9dO2TRaweX0d6z8+ByJnEzXdfRuGFXTw3u\nWNcCOyXZIclTklwGfBAY35H9iK5rbNzjh8xvcBmD67Wa7tP7woHXL1TVp1s7F7ed+OB7N2ZY/bUA\nVfU14N/puu5+Fzh1A/NY3dZ34cYWlGQP4GN0Hwx2bh8UrqYLAqrq+1X1uqrale6I8SNpV4VV1YlV\ntS/dEcsvAX82yXppFjEUNFQ7YXgwXb/zdVV1P92n/+PbDnQP4E+BT7T6vwQcB/we3SfVtyTZe8Js\n351kmyS/DrwM+N9DFv0p4MgkeyfZFvjvwEVVdVObfgvwxI00/TTgjUkWtx3fWze2nlW1mq7b5q+A\nP6fb8d0F/EWrcjlwYDs5+3jgT4bM5ugkuyXZCXgbXX89dDvV1yd5bvt9PjLJS5PsAPwLXZfaG5Is\nSPIKuu63jXlcq791ksPo+uvPHph+Ct2n9Puqaug9DVV1M/D/6HbiO7Z5/caQqo+kC88fACQ5ku5I\ngTZ+WJLx8L2z1b0/ya+29d2aLlDvpftgoS2EoaCJ/m+SdcAPgeOBI6rqmjbtj+n+0W8EvkK3A/94\nuit7PgG8t6quqKrr6XaOp7YdO8D36XYea4FP0vXDf2PiwqvqPOAvgc/RfZp+EvCqgSrvAla2Lo3f\nGdL+jwHnAFfSnWw9m27nu7Ed06vpTpy/hu5E6Tur6tw27VTgCrpzB+fwwA5/0GfatBvb67i2LpcA\nr6PbUd8J3EB3boCq+nfgFW38TroTuZ/fSBsBLgL2ojtqOx44tKpuH5h+Kt2Oe0NHCeNeS3fU9w26\nE+EPCrqquhb4a7rwugV4Jt1J9HG/ClzU/lZWAW+sqm/THWF9rK3Td+i6/t4/SXs0i2T9Lkpp9JIs\nAz5RVbtNVncalv0S4G+rao9J6p1PdwL4Z3Qh8na6HfaT6K7yOamq3tXq7gl8G/gD4O+Aa6vqV5Ls\nR3eF1dPodohvrKqxUa/TRtZhe7qd/D4tmKWHzCMFzSlJtk9yYOuSWQy8EzhjsvdV1f7APwHHVHfz\n3hXA4XSXVr4U+C9JDpnwthfQnes4ti3rLLqjhJ2ANwOfS/LYEa3aVPwX4OsGgjaFoaC5JsC76bov\nLgOuA97xUGdSVWNVdVVV/byqrqS7Lv8FE6q9i64v/d/pzqWcXVVnt/ecC1xCd4nqtEtyE/BG4E2b\nY3mauxbMdAM097UulM3SdVRVP6br794kSZ4LnEDXR78N3VVVE0+Mr66qPVv9VwCHJXn5wPStgQs2\ntS1TMd4OaVN5pCAN9ym6E6hLqurRwN/SLsccMHhCbjVw6oTLTx9ZVSdspvZKI2EoSMPtQHeT171J\nnkN37f/GfAJ4eZLfSvf8pe3SPSdps59clzaFoSAN90fAe5LcQ3dOYuId2utp9zscTHcp7g/ojhz+\nDP/HtIXxklRJUs9PMZKk3pRCIcnCJKene4b7dUl+rd32f26S69vPHVvdJDkx3XPpr0yyz/SugiRp\nVKZ6pPBB4ItV9cvAs+iu/T4WOK+q9gLOa+MAL6G7FX8vYDndI30lSVuASc8ptMfeXgE8cfCxvUn+\nDVhWVTcn2YXuufpPSfJ3bfjTE+tN21pIkkZiKkcKT6S7muIfklyW5O/b44wXje/o28/HtfqLWf/5\n8mt4aM+mlyTNkKnc0byA7msF/7iqLkryQR7oKhpm4g0+sP5NPl2lZDld9xLbb7/9vkuWDHvs/dzy\n85//nEc8wnP7c4Hbcu6YL9vym9/85m1VNemzuKYSCmvovqLvojZ+Ol0o3JJkl4Huo1sH6g/u4Xdj\nyJepVNUKuq/zY+nSpXXJJZdMoSlbtrGxMZYtWzbTzdAIuC3njvmyLZNM9s1+wBS6j6rq+8DqJE9p\nRQfQfTH6KrovIqf9PLMNrwIOb1ch7Qfc7fkESdoyTPWBeH8MfDLJNnRfInIkXaCcluQo4LvAYa3u\n2XRPhrwB+HGrK0naAkwpFKrqcmDpkEkHDKlbwNGb2C5J0gyY+2dXJElTZihIknqGgiSpZyhIknqG\ngiSpZyhIknqGgiSpZyhIknqGgiSpZyhIknqGgiSpZyhIknqGgiSpZyhIknqGgiSpZyhIknqGgiSp\nZyhIknqGgiSpZyhIknqGgiSpZyhIknqGgiSpZyhIknqGgiSpZyhIknqGgiSpN6VQSHJTkquSXJ7k\nkla2U5Jzk1zffu7YypPkxCQ3JLkyyT7TuQKSpNF5KEcKL6yqvatqaRs/FjivqvYCzmvjAC8B9mqv\n5cBHR9VYSdL02pTuo4OBlW14JXDIQPkp1fkasDDJLpuwHEnSZjLVUCjgnCSXJlneyhZV1c0A7efj\nWvliYPXAe9e0MknSLLdgivWeV1VrkzwOODfJNzZSN0PK6kGVunBZDrBo0SLGxsam2JQt17p16+bF\nes4Hbsu5w225vimFQlWtbT9vTXIG8BzgliS7VNXNrXvo1lZ9DbBk4O27AWuHzHMFsAJg6dKltWzZ\nsoe9EluKsbEx5sN6zgduy7nDbbm+SbuPkjwyyQ7jw8BvAlcDq4AjWrUjgDPb8Crg8HYV0n7A3ePd\nTJKk2W0qRwqLgDOSjNf/VFV9McnXgdOSHAV8Fzis1T8bOBC4AfgxcOTIWy1JmhaThkJV3Qg8a0j5\n7cABQ8oLOHokrZMkbVbe0SxJ6hkKkqSeoSBJ6hkKkqSeoSBJ6hkKkqSeoSBJ6hkKkqSeoSBJ6hkK\nkqSeoSBJ6hkKkqSeoSBJ6hkKkqSeoSBJ6hkKkqSeoSBJ6hkKkqSeoSBJ6hkKkqSeoSBJ6hkKkqSe\noSBJ6hkKkqSeoSBJ6hkKkqSeoSBJ6k05FJJsleSyJF9o409IclGS65N8Nsk2rXzbNn5Dm77n9DRd\nkjRqD+VI4Y3AdQPj7wU+UFV7AXcCR7Xyo4A7q+rJwAdaPUnSFmBKoZBkN+ClwN+38QD7A6e3KiuB\nQ9rwwW2cNv2AVl+SNMtN9UjhfwJvAX7exncG7qqq+9r4GmBxG14MrAZo0+9u9SVJs9yCySokeRlw\na1VdmmTZePGQqjWFaYPzXQ4sB1i0aBFjY2NTae8Wbd26dfNiPecDt+Xc4bZc36ShADwPOCjJgcB2\nwC/SHTksTLKgHQ3sBqxt9dcAS4A1SRYAjwbumDjTqloBrABYunRpLVu2bBNXZfYbGxtjPqznfOC2\nnDvcluubtPuoqv68qnarqj2BVwHnV9VrgAuAQ1u1I4Az2/CqNk6bfn5VPehIQZI0+2zKfQpvBf40\nyQ105wxOauUnATu38j8Fjt20JkqSNpepdB/1qmoMGGvDNwLPGVLnXuCwEbRNkrSZeUezJKlnKEiS\neoaCJKlnKEiSeoaCJKlnKEiSeoaCJKlnKEiSeoaCJKlnKEiSeoaCJKlnKEiSeoaCJKlnKEiSeoaC\nJKlnKEiSeoaCJKlnKEiSeoaCJKlnKEiSeoaCJKlnKEiSeoaCJKlnKEiSeoaCJKlnKEiSeoaCJKk3\naSgk2S7JxUmuSHJNkne38ickuSjJ9Uk+m2SbVr5tG7+hTd9zeldBkjQqUzlS+Cmwf1U9C9gbeHGS\n/YD3Ah+oqr2AO4GjWv2jgDur6snAB1o9SdIWYNJQqM66Nrp1exWwP3B6K18JHNKGD27jtOkHJMnI\nWixJmjZTOqeQZKsklwO3AucC3wLuqqr7WpU1wOI2vBhYDdCm3w3sPMpGS5Kmx4KpVKqq+4G9kywE\nzgCeOqxa+znsqKAmFiRZDiwHWLRoEWNjY1NpyhZt3bp182I95wO35dzhtlzflEJhXFXdlWQM2A9Y\nmGRBOxrYDVjbqq0BlgBrkiwAHg3cMWReK4AVAEuXLq1ly5Y93HXYYoyNjTEf1nM+cFvOHW7L9U3l\n6qPHtiMEkmwPvAi4DrgAOLRVOwI4sw2vauO06edX1YOOFCRJs89UjhR2AVYm2YouRE6rqi8kuRb4\nTJLjgMuAk1r9k4BTk9xAd4TwqmlotyRpGkwaClV1JfDsIeU3As8ZUn4vcNhIWidJ2qy8o1mS1DMU\nJEk9Q0GS1DMUJEk9Q0GS1DMUJEk9Q0GS1DMUJEk9Q0GS1DMUJEk9Q0GS1DMUJEk9Q0GS1DMUJEk9\nQ0GS1DMUJEk9Q0GS1DMUJEk9Q0GS1DMUJEk9Q0GS1DMUJEk9Q0GS1DMUJEk9Q0GS1DMUJEk9Q0GS\n1Js0FJIsSXJBkuuSXJPkja18pyTnJrm+/dyxlSfJiUluSHJlkn2meyUkSaMxlSOF+4A3VdVTgf2A\no5M8DTgWOK+q9gLOa+MALwH2aq/lwEdH3mpJ0rSYNBSq6uaq+tc2fA9wHbAYOBhY2aqtBA5pwwcD\np1Tna8DCJLuMvOWSpJF7SOcUkuwJPBu4CFhUVTdDFxzA41q1xcDqgbetaWWSpFluwVQrJnkU8Dng\nT6rqh0k2WHVIWQ2Z33K67iUWLVrE2NjYVJuyxVq3bt28WM/5wG05d7gt1zelUEiyNV0gfLKqPt+K\nb0myS1Xd3LqHbm3la4AlA2/fDVg7cZ5VtQJYAbB06dJatmzZw1uDLcjY2BjzYT3nA7fl3OG2XN9U\nrj4KcBJwXVX9zcCkVcARbfgI4MyB8sPbVUj7AXePdzNJkma3qRwpPA94LXBVkstb2duAE4DTkhwF\nfBc4rE07GzgQuAH4MXDkSFssSZo2k4ZCVX2F4ecJAA4YUr+AozexXZKkGeAdzZKknqEgSeoZCpKk\nnqEgSeoZCpKknqEgSeoZCpKknqEgSeoZCpKknqEgSeoZCpKknqEgSepN+Ut2tHEb+dKhh6R7nqAk\nzQyPFEakqiZ97fHWL0xaR5JmkqEgSeoZCpKknqEgSeoZCpKknqEgSeoZCpKknqEgSeoZCpKknqEg\nSeoZCpKknqEgSeoZCpKknqEgSepNGgpJPp7k1iRXD5TtlOTcJNe3nzu28iQ5MckNSa5Mss90Nl6S\nNFpTOVI4GXjxhLJjgfOqai/gvDYO8BJgr/ZaDnx0NM2UJG0Ok4ZCVX0ZuGNC8cHAyja8EjhkoPyU\n6nwNWJhkl1E1VpI0vR7uOYVFVXUzQPv5uFa+GFg9UG9NK5MkbQFG/XWcw76TcujXiSVZTtfFxKJF\nixgbGxtxU2an+bKec926devclnOE23J9DzcUbkmyS1Xd3LqHbm3la4AlA/V2A9YOm0FVrQBWACxd\nurSWLVv2MJuyBfniWcyL9ZwHxsbG3JZzhNtyfQ+3+2gVcEQbPgI4c6D88HYV0n7A3ePdTJKk2W/S\nI4UknwaWAY9JsgZ4J3ACcFqSo4DvAoe16mcDBwI3AD8GjpyGNkuSpsmkoVBVr97ApAOG1C3g6E1t\nlCRpZnhHsySpN+qrj+akZ737HO7+yc9GMq89jz1rk97/6O235op3/uZI2iJJExkKU3D3T37GTSe8\ndJPnM4qrHDY1VCRpY+w+kiT1DAVJUs9QkCT1DAVJUs9QkCT1DAVJUs9QkCT1DAVJUs+b16Zgh6ce\nyzNXHjt5xalYOXmVjbcFYNNvpJOkYQyFKbjnuhO8o1nSvGD3kSSpZyhIknqGgiSp5zkFaYIkI5tX\n971T0pbDIwVpgqqa9LXHW78wpXqavXbffXeS8MIXvpAk7L777jPdpFnBUJA07+y+++6sXr16vbLV\nq1cbDBgKkuahiYEwWfl84jmFKRrZ/QFf3PSv45Sk6ZLZ0O+5dOnSuuSSS2a6GdNuz2PPGslNcNo0\no/zO7U3h923PnI1dTDAb9onTIcmlVbV0snoeKWjeGcV3bnt3+tyw3Xbb8f73v583v/nN3HvvvTPd\nnFnBUJA0b917770cc8wxM92MWcVQkDRnPZx7Tjb0nrnarTSRoSBpztrQjnw+nlOYKkNB887IHoXu\nY9Bn3MO9aCDb7UDde8/Q8odzrmcuXTQwLaGQ5MXAB4GtgL+vqhOmYznSw3HVEVdt8jy8kmx2eNgX\nDZzwQ3beeWfuuOOOvminnXbi9ttvf1jtmEsXDYw8FJJsBXwY+I/AGuDrSVZV1bWjXpak+W1Tjvp2\n/Ztd2ZVd1yt75spnPsx2wFw56puOI4XnADdU1Y0AST4DHAwYCpJGarKjPh9u+NBNx2MuFgOD94qv\naWWStFlt7EGFBx10EFXFBRdcQFVx0EEHTfqe+WA6jhSGRfODfqNJlgPL2+i6JP82DW2ZbR6T93Lb\nTDdCI+G23LLtu2rVqsuT3A88BriN7hzo3kkundmmTZs9plJpOkJhDbBkYHw3YO3ESlW1AlgxDcuf\ntZJcMpXbzDX7uS3nDrfl+qaj++jrwF5JnpBkG+BVwKppWI4kacRGfqRQVfclOQb4Et3h2Mer6ppR\nL0eSNHrTcp9CVZ0NnD0d897CzavusjnObTl3uC0HzIpHZ0uSZge/eU2S1DMURiDJ/UkuH3jtmWRp\nkhMfwjwWJvmj6WynOknenuSaJFe27fXczbz8ZUm+sDmXOV8k2Xng//D7Sb7Xhu9KMvQG2iTvSfKi\nKcx7zyRXj77Vs4sPxBuNn1TV3hPKbgIe9HVySRZU1X1D5rEQ+CPgI6NvnsYl+TXgZcA+VfXTJI8B\ntpnhZmlEqup2YG+AJO8C1lXV+5PsCQwN4qp6x7DyJFtV1f3T09LZyyOFaTL4aTDJu5KsSHIOcEqS\npye5uH2CuTLJXsAJwJNa2ftmtPFz2y7AbVX1U4Cquq2q1ibZN8mFSS5N8qUkuwAkeXKSf0xyRZJ/\nTfKkdN6X5OokVyV5Zau7LMlYktOTfCPJJ9Oes5Dkxa3sK8ArZmrl57mtknysHSWek2R7gCQnJzm0\nDd+U5B1tOx3W/i6uSPIvwNEz2fjNxVAYje0HDlnP2ECdfYGDq+p3gdcDH2xHF0vpbvg7FvhWVe1d\nVX+2eZo9L50DLEnyzSQfSfKCJFsDHwIOrap9gY8Dx7f6nwQ+XFXPAv4DcDPdTn1v4FnAi4D3jYcI\n8GzgT4CnAU8EnpdkO+BjwMuBXwcevxnWUw+2F922fDpwF/DbG6h3b1U9v6o+A/wD8Iaq+rXN1ciZ\nZvfRaAzrPppoVVX9pA3/C/D2JLsBn6+q60f54C5tWFWtS7Iv3c75hcBngeOAZwDntu2wFXBzkh2A\nxVV1RnvvvQBJng98unUt3JLkQuBXgR8CF1fVmlbvcmBPYB3w7aq6vpV/ggce8aLN59tVdXkbvpRu\n2wzzWYAkjwYWVtWFrfxU4CXT2sJZwFDYfH40PlBVn0pyEd2zdr+U5A+AG2esZfNM25mPAWNJrqLr\nFrhm4qfBJL+4gVlsLMF/OjB8Pw/8j3nt98ybuG2230C98f/VMA+3m91HMyDJE4Ebq+pEukeA/Apw\nD7DDjDZsHkjylHYOZ9zewHXAY9tJaJJsneTpVfVDYE2SQ1r5tkl+Afgy8MokWyV5LPAbwMUbWew3\ngCckeVIbf/WIV0vToKruAu5uR4YAr5nJ9mwuhsLMeCVwdete+GXglHbVxFfbyUtPNE+fRwErk1yb\n5Eq6vv93AIcC701yBXA53fkDgNcCb2h1/5nufMAZwJXAFcD5wFuq6vsbWmDrdloOnNVOYH5nWtZM\n0+FI4MPtRPNPJqs8F3hHsySp55GCJKlnKEiSeoaCJKlnKEiSeoaCJKlnKEgb0J5Z9eaZboe0ORkK\nkqSeoSA1SQ5vT629IsmpE6a9LsnX27TPtTubSXJYu+HwiiRfbmXDnoIrbRG8eU2i25EDnweeV1W3\nJdkJeAMPPI9/53bXOUmOA26pqg+1Zye9uKq+l2RhVd2V5EPA16rqk0m2AbYaeBiiNKt5pCB19gdO\nr6rbAKrqjgnTn5Hkn1oIvAZ4eiv/KnByktfRPV0Vuqfgvi3JW4E9DARtSQwFqTPZEzFPBo6pqmcC\n7wa2A6iq1wN/ASwBLm9HFJ8CDqJ7Vs6Xkuw/nQ2XRslQkDrnAb+TZGeA1n00aAe671jYmoGnZSZ5\nUlVd1L7S8Ta6L/AZ9hRcaYvg9ylIQFVdk+R44MIk9wOX0X3P9ri/BC6ie8LpVTzwmPP3tRPJoQuW\nK+i+Re/3kvwM+D7wns2yEtIIeKJZktSz+0iS1DMUJEk9Q0GS1DMUJEk9Q0GS1DMUJEk9Q0GS1DMU\nJEm9/w+tcnn9TNU9UgAAAABJRU5ErkJggg==\n",
      "text/plain": [
       "<matplotlib.figure.Figure at 0x1d7cf267828>"
      ]
     },
     "metadata": {},
     "output_type": "display_data"
    }
   ],
   "source": [
    "# deleting outliers for First class\n",
    "filt = ~((titanic['class'] == 'First') & (titanic['fare'] > 160))\n",
    "titanic = titanic[filt]\n",
    "\n",
    "# deleting outliers for Second class\n",
    "filt = ~((titanic['class'] == 'Second') & (titanic['fare'] > 50))\n",
    "titanic = titanic[filt]\n",
    "\n",
    "# deleting outliers for Third class\n",
    "filt = ~((titanic['class'] == 'Third') & (titanic['fare'] > 30))\n",
    "titanic = titanic[filt]\n",
    "\n",
    "# Now have a look at it, should be much better!\n",
    "titanic.boxplot(column = 'fare', by = 'class')\n",
    "plt.ylim(0, 600) # setting limit on y-axis\n",
    "# we can see that there are lots of outliers in column 'fare'"
   ]
  },
  {
   "cell_type": "markdown",
   "metadata": {},
   "source": [
    "### Barchart\n",
    "We can compare fare for different classes and for kids/adult by bar chart"
   ]
  },
  {
   "cell_type": "code",
   "execution_count": 11,
   "metadata": {},
   "outputs": [
    {
     "name": "stderr",
     "output_type": "stream",
     "text": [
      "C:\\Users\\Jafreen\\Anaconda3\\lib\\site-packages\\pandas\\core\\groupby.py:4036: FutureWarning: using a dict with renaming is deprecated and will be removed in a future version\n",
      "  return super(DataFrameGroupBy, self).aggregate(arg, *args, **kwargs)\n"
     ]
    },
    {
     "data": {
      "text/html": [
       "<div>\n",
       "<style>\n",
       "    .dataframe thead tr:only-child th {\n",
       "        text-align: right;\n",
       "    }\n",
       "\n",
       "    .dataframe thead th {\n",
       "        text-align: left;\n",
       "    }\n",
       "\n",
       "    .dataframe tbody tr th {\n",
       "        vertical-align: top;\n",
       "    }\n",
       "</style>\n",
       "<table border=\"1\" class=\"dataframe\">\n",
       "  <thead>\n",
       "    <tr style=\"text-align: right;\">\n",
       "      <th></th>\n",
       "      <th>class</th>\n",
       "      <th>child fare</th>\n",
       "      <th>adult fare</th>\n",
       "    </tr>\n",
       "  </thead>\n",
       "  <tbody>\n",
       "    <tr>\n",
       "      <th>0</th>\n",
       "      <td>First</td>\n",
       "      <td>0.833333</td>\n",
       "      <td>65.194193</td>\n",
       "    </tr>\n",
       "    <tr>\n",
       "      <th>1</th>\n",
       "      <td>Second</td>\n",
       "      <td>11.704377</td>\n",
       "      <td>27.507800</td>\n",
       "    </tr>\n",
       "    <tr>\n",
       "      <th>2</th>\n",
       "      <td>Third</td>\n",
       "      <td>9.057797</td>\n",
       "      <td>23.300551</td>\n",
       "    </tr>\n",
       "  </tbody>\n",
       "</table>\n",
       "</div>"
      ],
      "text/plain": [
       "    class  child fare  adult fare\n",
       "0   First    0.833333   65.194193\n",
       "1  Second   11.704377   27.507800\n",
       "2   Third    9.057797   23.300551"
      ]
     },
     "execution_count": 11,
     "metadata": {},
     "output_type": "execute_result"
    }
   ],
   "source": [
    "# prepare the statistics of children fare (under 18) and adult fare in different classes\n",
    "fun = {'fare':{'child fare':lambda x: x[x<=18].mean(),'adult fare':lambda x: x[x>18].mean()}}\n",
    "groupbyClass = titanic.groupby('class').agg(fun) # groupby and apply functions\n",
    "\n",
    "groupbyClass = groupbyClass.reset_index() # reset its index\n",
    "groupbyClass.columns = groupbyClass.columns.droplevel(0) # drop level 0 index\n",
    "groupbyClass.rename(columns = {'':'class'},inplace = True) # rename the first column\n",
    "# now have a look, so this tells statistic about the average age and the number of passengers in each class\n",
    "groupbyClass"
   ]
  },
  {
   "cell_type": "code",
   "execution_count": 12,
   "metadata": {},
   "outputs": [
    {
     "data": {
      "image/png": "iVBORw0KGgoAAAANSUhEUgAABDsAAAKECAYAAAAJ/zG4AAAABHNCSVQICAgIfAhkiAAAAAlwSFlz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\nJEmSJEnSpFjskCRJkiRJk/IfI9fPtLwn9UcAAAAASUVORK5CYII=\n",
      "text/plain": [
       "<matplotlib.figure.Figure at 0x1d7d03e84e0>"
      ]
     },
     "metadata": {},
     "output_type": "display_data"
    }
   ],
   "source": [
    "import numpy as np\n",
    "ind = np.arange(0, 3*2, 2)\n",
    "width = 0.5      # the width of the bars\n",
    "\n",
    "fig, ax = plt.subplots()\n",
    "rects1 = ax.bar(ind, groupbyClass['child fare'], width, color='g')\n",
    "rects2 = ax.bar(ind + width, groupbyClass['adult fare'], width, color='c')\n",
    "\n",
    "# add some text for labels, title and axes ticks\n",
    "ax.set_ylabel('fare')\n",
    "ax.set_title('Child and Adult fare for different classes')\n",
    "ax.set_xticks(ind + width+0.1)\n",
    "ax.set_xticklabels(groupbyClass['class'],rotation='vertical')\n",
    "\n",
    "ax.legend((rects1[0], rects2[0]), ('child fare', 'adult fare'))\n",
    "\n",
    "fig.set_size_inches(18.5, 10.5)"
   ]
  },
  {
   "cell_type": "markdown",
   "metadata": {},
   "source": [
    "## 7. Basic regression\n",
    "\n",
    "Input a simple data frame."
   ]
  },
  {
   "cell_type": "code",
   "execution_count": 19,
   "metadata": {},
   "outputs": [
    {
     "data": {
      "text/html": [
       "<div>\n",
       "<table border=\"1\" class=\"dataframe\">\n",
       "  <thead>\n",
       "    <tr style=\"text-align: right;\">\n",
       "      <th></th>\n",
       "      <th>Age</th>\n",
       "      <th>IPLSal</th>\n",
       "      <th>Name</th>\n",
       "    </tr>\n",
       "  </thead>\n",
       "  <tbody>\n",
       "    <tr>\n",
       "      <th>0</th>\n",
       "      <td>39</td>\n",
       "      <td>310</td>\n",
       "      <td>Mike Hussey</td>\n",
       "    </tr>\n",
       "    <tr>\n",
       "      <th>1</th>\n",
       "      <td>28</td>\n",
       "      <td>662</td>\n",
       "      <td>Aaron Finch</td>\n",
       "    </tr>\n",
       "    <tr>\n",
       "      <th>2</th>\n",
       "      <td>44</td>\n",
       "      <td>103</td>\n",
       "      <td>Brad Hogg</td>\n",
       "    </tr>\n",
       "    <tr>\n",
       "      <th>3</th>\n",
       "      <td>25</td>\n",
       "      <td>828</td>\n",
       "      <td>Steve Smith</td>\n",
       "    </tr>\n",
       "    <tr>\n",
       "      <th>4</th>\n",
       "      <td>32</td>\n",
       "      <td>672</td>\n",
       "      <td>George Bailey</td>\n",
       "    </tr>\n",
       "    <tr>\n",
       "      <th>5</th>\n",
       "      <td>33</td>\n",
       "      <td>1340</td>\n",
       "      <td>Mitchell Johnson</td>\n",
       "    </tr>\n",
       "    <tr>\n",
       "      <th>6</th>\n",
       "      <td>31</td>\n",
       "      <td>455</td>\n",
       "      <td>Shaun Marsh</td>\n",
       "    </tr>\n",
       "    <tr>\n",
       "      <th>7</th>\n",
       "      <td>26</td>\n",
       "      <td>1240</td>\n",
       "      <td>Glenn Maxwell</td>\n",
       "    </tr>\n",
       "    <tr>\n",
       "      <th>8</th>\n",
       "      <td>22</td>\n",
       "      <td>207</td>\n",
       "      <td>Pat Cummins</td>\n",
       "    </tr>\n",
       "    <tr>\n",
       "      <th>9</th>\n",
       "      <td>25</td>\n",
       "      <td>1030</td>\n",
       "      <td>Mitchell Starc</td>\n",
       "    </tr>\n",
       "    <tr>\n",
       "      <th>10</th>\n",
       "      <td>28</td>\n",
       "      <td>1140</td>\n",
       "      <td>David Warner</td>\n",
       "    </tr>\n",
       "  </tbody>\n",
       "</table>\n",
       "</div>"
      ],
      "text/plain": [
       "    Age  IPLSal              Name\n",
       "0    39     310       Mike Hussey\n",
       "1    28     662       Aaron Finch\n",
       "2    44     103         Brad Hogg\n",
       "3    25     828       Steve Smith\n",
       "4    32     672     George Bailey\n",
       "5    33    1340  Mitchell Johnson\n",
       "6    31     455       Shaun Marsh\n",
       "7    26    1240     Glenn Maxwell\n",
       "8    22     207       Pat Cummins\n",
       "9    25    1030    Mitchell Starc\n",
       "10   28    1140      David Warner"
      ]
     },
     "execution_count": 19,
     "metadata": {},
     "output_type": "execute_result"
    }
   ],
   "source": [
    "df = pd.DataFrame({'Name' : ['Mike Hussey','Aaron Finch', 'Brad Hogg' , 'Steve Smith' , 'George Bailey', 'Mitchell Johnson', 'Shaun Marsh',  'Glenn Maxwell','Pat Cummins' , 'Mitchell Starc', 'David Warner'],\n",
    "'Age' : [39,28,44,25,32,33,31,26,22,25,28],\n",
    "'IPLSal' :[310,662,103,828,672,1340,455,1240,207,1030,1140]})\n",
    "\n",
    "df"
   ]
  },
  {
   "cell_type": "markdown",
   "metadata": {},
   "source": [
    "Have a quick look at the data."
   ]
  },
  {
   "cell_type": "code",
   "execution_count": 20,
   "metadata": {},
   "outputs": [
    {
     "data": {
      "image/png": "iVBORw0KGgoAAAANSUhEUgAAAhYAAAFkCAYAAAB8RXKEAAAABHNCSVQICAgIfAhkiAAAAAlwSFlz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\nAElFTkSuQmCC\n",
      "text/plain": [
       "<matplotlib.figure.Figure at 0x7f4736893320>"
      ]
     },
     "metadata": {},
     "output_type": "display_data"
    }
   ],
   "source": [
    "plt.scatter(df['Age'], df['IPLSal'])\n",
    "# and plot to see data\n",
    "plt.show()"
   ]
  },
  {
   "cell_type": "markdown",
   "metadata": {},
   "source": [
    "We now have 3 views of the same dataset, the raw data embedded in the code (or in a file), the dataframe (fairly similar), and the plot. What information do you gain/lose in these different views? \n",
    "\n",
    "We can see a general trend, from left to right, which you could probably draw a line through to show an estimate (linear regression)."
   ]
  },
  {
   "cell_type": "code",
   "execution_count": 21,
   "metadata": {},
   "outputs": [
    {
     "data": {
      "image/png": "iVBORw0KGgoAAAANSUhEUgAAAhYAAAFkCAYAAAB8RXKEAAAABHNCSVQICAgIfAhkiAAAAAlwSFlz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\nRCQ2ChYiIiISm/8PTYasqiSAvfEAAAAASUVORK5CYII=\n",
      "text/plain": [
       "<matplotlib.figure.Figure at 0x7f47304b7ba8>"
      ]
     },
     "metadata": {},
     "output_type": "display_data"
    }
   ],
   "source": [
    "from scipy.stats import linregress\n",
    "# We use a standard package: \n",
    "slope, intercept, r_value, p_value, std_err = linregress(df['Age'],df['IPLSal'])\n",
    "# Here's our function:\n",
    "line = [slope*xi + intercept for xi in df['Age']]\n",
    "# plot up the line\n",
    "plt.plot(df['Age'],line,'r-', linewidth=3)\n",
    "#  plot up the data points\n",
    "plt.scatter(df['Age'], df['IPLSal'])\n",
    "plt.show()"
   ]
  },
  {
   "cell_type": "markdown",
   "metadata": {},
   "source": [
    "In the above code what is ‘slope’?    And what is ‘intercept’?  What do they represent on the curve?"
   ]
  },
  {
   "cell_type": "code",
   "execution_count": 24,
   "metadata": {},
   "outputs": [
    {
     "data": {
      "text/plain": [
       "-27.178343949044589"
      ]
     },
     "execution_count": 24,
     "metadata": {},
     "output_type": "execute_result"
    }
   ],
   "source": [
    "slope"
   ]
  },
  {
   "cell_type": "code",
   "execution_count": 25,
   "metadata": {},
   "outputs": [
    {
     "data": {
      "text/plain": [
       "1548.8535031847136"
      ]
     },
     "execution_count": 25,
     "metadata": {},
     "output_type": "execute_result"
    }
   ],
   "source": [
    "intercept"
   ]
  },
  {
   "cell_type": "code",
   "execution_count": null,
   "metadata": {
    "collapsed": true
   },
   "outputs": [],
   "source": []
  }
 ],
 "metadata": {
  "kernelspec": {
   "display_name": "Python 3",
   "language": "python",
   "name": "python3"
  },
  "language_info": {
   "codemirror_mode": {
    "name": "ipython",
    "version": 3
   },
   "file_extension": ".py",
   "mimetype": "text/x-python",
   "name": "python",
   "nbconvert_exporter": "python",
   "pygments_lexer": "ipython3",
   "version": "3.6.3"
  }
 },
 "nbformat": 4,
 "nbformat_minor": 1
}
