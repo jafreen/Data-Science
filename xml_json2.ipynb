{
 "cells": [
  {
   "cell_type": "markdown",
   "metadata": {},
   "source": [
    "# Converting XML to Json file format"
   ]
  },
  {
   "cell_type": "code",
   "execution_count": 161,
   "metadata": {},
   "outputs": [],
   "source": [
    "import xml.etree.ElementTree as etree  \n",
    "tree = etree.parse(\"./xml.xml\")"
   ]
  },
  {
   "cell_type": "code",
   "execution_count": 190,
   "metadata": {},
   "outputs": [
    {
     "data": {
      "text/plain": [
       "['.177 (4.5mm) Airgun',\n",
       " '.22',\n",
       " '.22 Long Rifle',\n",
       " '.22 Short',\n",
       " '1 Kilometre Time Trial',\n",
       " '10 Metres  Law',\n",
       " '18th Man',\n",
       " '1919 Royal Henley Peace Regatta',\n",
       " '19-Norandrostenedione',\n",
       " '19-Norandrosterone']"
      ]
     },
     "execution_count": 190,
     "metadata": {},
     "output_type": "execute_result"
    }
   ],
   "source": [
    "Title = []\n",
    "for elem in tree.iterfind('Term/Title'):\n",
    "    Title.append(elem.text)\n",
    "Title[:10]"
   ]
  },
  {
   "cell_type": "code",
   "execution_count": 192,
   "metadata": {},
   "outputs": [
    {
     "data": {
      "text/plain": [
       "['The standard airgun calibre for international target shooting.',\n",
       " 'A rimfire calibre, much used in target shooting and often synonymous with the term smallbore.',\n",
       " 'The standard .22 rimfire cartridge for target rifle and pistol use.',\n",
       " 'Used as a target shooting round for timed fire pistol competitions.',\n",
       " 'test2',\n",
       " 'Every time a player is tackled, all defenders, apart from a maximum of two markers, have to retreat 10 metres from the play-the-ball area.',\n",
       " 'A player selected as a back-up to the official 17 man squad for a game. The 18th man may be called in to the team if one of the 17 players is injured or ill prior to the start of the match.',\n",
       " 'http://www.rowinghistory-aus.info/1919-peace-regatta/index.php',\n",
       " 'A precursor of the anabolic steroid nandrolone.',\n",
       " 'Metabolites and isomers of endogenous anabolic androgenic steroids.']"
      ]
     },
     "execution_count": 192,
     "metadata": {},
     "output_type": "execute_result"
    }
   ],
   "source": [
    "Description = []\n",
    "for elem in tree.iterfind('Term/Description'):\n",
    "    Description.append(elem.text)\n",
    "        \n",
    "Description[:10]"
   ]
  },
  {
   "cell_type": "code",
   "execution_count": 193,
   "metadata": {},
   "outputs": [
    {
     "data": {
      "text/plain": [
       "['Shooting sport equipment',\n",
       " 'Shooting sport equipment',\n",
       " 'Shooting sport equipment',\n",
       " 'Shooting sport equipment',\n",
       " '1 Kilometre TT',\n",
       " '1km Time Trial',\n",
       " '1km Time Trial',\n",
       " '1km TT',\n",
       " 'One km Time Trial',\n",
       " 'Rugby League terms and techniques']"
      ]
     },
     "execution_count": 193,
     "metadata": {},
     "output_type": "execute_result"
    }
   ],
   "source": [
    "RTTitle = []\n",
    "RTRelnshp = []\n",
    "i=0\n",
    "for atype in tree.iterfind('Term/RelatedTerms/Term'):\n",
    "    for child in atype:\n",
    "        if(child.tag=='Title'):\n",
    "            RTTitle.append(child.text)\n",
    "        if ((child.tag=='Relationship')):\n",
    "            RTRelnshp.append(child.text)\n",
    "        \n",
    "RTTitle[:10]"
   ]
  },
  {
   "cell_type": "code",
   "execution_count": 194,
   "metadata": {},
   "outputs": [
    {
     "data": {
      "text/plain": [
       "['Narrower Term',\n",
       " 'Narrower Term',\n",
       " 'Narrower Term',\n",
       " 'Narrower Term',\n",
       " 'Used For',\n",
       " 'Used For',\n",
       " 'Used For',\n",
       " 'Used For',\n",
       " 'Used For',\n",
       " 'Narrower Term']"
      ]
     },
     "execution_count": 194,
     "metadata": {},
     "output_type": "execute_result"
    }
   ],
   "source": [
    "RTRelnshp[:10]"
   ]
  },
  {
   "cell_type": "code",
   "execution_count": 195,
   "metadata": {},
   "outputs": [
    {
     "name": "stdout",
     "output_type": "stream",
     "text": [
      "7863\n",
      "7863\n",
      "13894\n",
      "13940\n"
     ]
    }
   ],
   "source": [
    "import pandas as pd \n",
    "dataDict = {}\n",
    "\n",
    "print(len(Title))\n",
    "print(len(Description))\n",
    "print(len(RTTitle))\n",
    "print(len(RTRelnshp))\n",
    "\n",
    "dataDict['Title'] = Title\n",
    "dataDict['Description'] = Description\n",
    "dataDict['RTTitle'] = RTTitle\n",
    "dataDict['RTRelnshp'] = RTRelnshp\n",
    "\n",
    "#df = pd.DataFrame(dataDict)\n",
    "\n",
    "#df.head()"
   ]
  },
  {
   "cell_type": "code",
   "execution_count": null,
   "metadata": {},
   "outputs": [],
   "source": []
  }
 ],
 "metadata": {
  "kernelspec": {
   "display_name": "Python 3",
   "language": "python",
   "name": "python3"
  },
  "language_info": {
   "codemirror_mode": {
    "name": "ipython",
    "version": 3
   },
   "file_extension": ".py",
   "mimetype": "text/x-python",
   "name": "python",
   "nbconvert_exporter": "python",
   "pygments_lexer": "ipython3",
   "version": "3.5.2"
  }
 },
 "nbformat": 4,
 "nbformat_minor": 2
}
