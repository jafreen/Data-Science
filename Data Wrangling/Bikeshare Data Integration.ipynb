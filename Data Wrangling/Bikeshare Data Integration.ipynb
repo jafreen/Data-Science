{
 "cells": [
  {
   "cell_type": "markdown",
   "metadata": {},
   "source": [
    "# Integrating Bike Share Data Sets"
   ]
  },
  {
   "cell_type": "code",
   "execution_count": 154,
   "metadata": {},
   "outputs": [],
   "source": [
    "# importing libraries\n",
    "import numpy as np\n",
    "import pandas as pd\n",
    "import datetime\n",
    "import re\n",
    "from IPython.display import display"
   ]
  },
  {
   "cell_type": "markdown",
   "metadata": {},
   "source": [
    "# function"
   ]
  },
  {
   "cell_type": "code",
   "execution_count": 155,
   "metadata": {},
   "outputs": [],
   "source": [
    "def compare_value(value1, value2):\n",
    "    df_val1=pd.DataFrame(value1, columns=['value1'])\n",
    "    df_val2=pd.DataFrame(value2, columns=['value2'])\n",
    "    tmp = df_val1.merge(df_val2, right_index=True, left_index=True, how='outer')\n",
    "    tmp['compare'] = tmp['value1'] == tmp['value2']\n",
    "    return tmp"
   ]
  },
  {
   "cell_type": "markdown",
   "metadata": {},
   "source": [
    "## I. Examin two data sets"
   ]
  },
  {
   "cell_type": "code",
   "execution_count": 156,
   "metadata": {},
   "outputs": [
    {
     "name": "stdout",
     "output_type": "stream",
     "text": [
      "S1:(8500, 10)\n"
     ]
    },
    {
     "data": {
      "text/html": [
       "<div>\n",
       "<style scoped>\n",
       "    .dataframe tbody tr th:only-of-type {\n",
       "        vertical-align: middle;\n",
       "    }\n",
       "\n",
       "    .dataframe tbody tr th {\n",
       "        vertical-align: top;\n",
       "    }\n",
       "\n",
       "    .dataframe thead th {\n",
       "        text-align: right;\n",
       "    }\n",
       "</style>\n",
       "<table border=\"1\" class=\"dataframe\">\n",
       "  <thead>\n",
       "    <tr style=\"text-align: right;\">\n",
       "      <th></th>\n",
       "      <th>Duration (ms)</th>\n",
       "      <th>Start date</th>\n",
       "      <th>Start station number</th>\n",
       "      <th>Start station</th>\n",
       "      <th>End station number</th>\n",
       "      <th>End station</th>\n",
       "      <th>Bike number</th>\n",
       "      <th>Member type</th>\n",
       "      <th>Helmet rented</th>\n",
       "      <th>Credit card</th>\n",
       "    </tr>\n",
       "  </thead>\n",
       "  <tbody>\n",
       "    <tr>\n",
       "      <th>0</th>\n",
       "      <td>840866</td>\n",
       "      <td>8/31/2016 23:59</td>\n",
       "      <td>31117</td>\n",
       "      <td>15th &amp; Euclid St  NW</td>\n",
       "      <td>31228</td>\n",
       "      <td>8th &amp; H St NW</td>\n",
       "      <td>W20409</td>\n",
       "      <td>Registered</td>\n",
       "      <td>1</td>\n",
       "      <td>**** **** **** 7976</td>\n",
       "    </tr>\n",
       "    <tr>\n",
       "      <th>1</th>\n",
       "      <td>656098</td>\n",
       "      <td>8/31/2016 23:58</td>\n",
       "      <td>31279</td>\n",
       "      <td>19th &amp; G St NW</td>\n",
       "      <td>31600</td>\n",
       "      <td>5th &amp; K St NW</td>\n",
       "      <td>W20756</td>\n",
       "      <td>Casual</td>\n",
       "      <td>0</td>\n",
       "      <td>NaN</td>\n",
       "    </tr>\n",
       "    <tr>\n",
       "      <th>2</th>\n",
       "      <td>353159</td>\n",
       "      <td>8/31/2016 23:58</td>\n",
       "      <td>31107</td>\n",
       "      <td>Lamont &amp; Mt Pleasant NW</td>\n",
       "      <td>31101</td>\n",
       "      <td>14th &amp; V St NW</td>\n",
       "      <td>W22626</td>\n",
       "      <td>Registered</td>\n",
       "      <td>0</td>\n",
       "      <td>NaN</td>\n",
       "    </tr>\n",
       "  </tbody>\n",
       "</table>\n",
       "</div>"
      ],
      "text/plain": [
       "   Duration (ms)       Start date  Start station number  \\\n",
       "0         840866  8/31/2016 23:59                 31117   \n",
       "1         656098  8/31/2016 23:58                 31279   \n",
       "2         353159  8/31/2016 23:58                 31107   \n",
       "\n",
       "             Start station  End station number     End station Bike number  \\\n",
       "0     15th & Euclid St  NW               31228   8th & H St NW      W20409   \n",
       "1           19th & G St NW               31600   5th & K St NW      W20756   \n",
       "2  Lamont & Mt Pleasant NW               31101  14th & V St NW      W22626   \n",
       "\n",
       "  Member type  Helmet rented          Credit card  \n",
       "0  Registered              1  **** **** **** 7976  \n",
       "1      Casual              0                  NaN  \n",
       "2  Registered              0                  NaN  "
      ]
     },
     "metadata": {},
     "output_type": "display_data"
    },
    {
     "name": "stdout",
     "output_type": "stream",
     "text": [
      "S2:(2000, 8)\n"
     ]
    },
    {
     "data": {
      "text/html": [
       "<div>\n",
       "<style scoped>\n",
       "    .dataframe tbody tr th:only-of-type {\n",
       "        vertical-align: middle;\n",
       "    }\n",
       "\n",
       "    .dataframe tbody tr th {\n",
       "        vertical-align: top;\n",
       "    }\n",
       "\n",
       "    .dataframe thead th {\n",
       "        text-align: right;\n",
       "    }\n",
       "</style>\n",
       "<table border=\"1\" class=\"dataframe\">\n",
       "  <thead>\n",
       "    <tr style=\"text-align: right;\">\n",
       "      <th></th>\n",
       "      <th>time_start</th>\n",
       "      <th>time_end</th>\n",
       "      <th>origin_station</th>\n",
       "      <th>destination_station</th>\n",
       "      <th>bike</th>\n",
       "      <th>member</th>\n",
       "      <th>helmet</th>\n",
       "      <th>payment_method</th>\n",
       "    </tr>\n",
       "  </thead>\n",
       "  <tbody>\n",
       "    <tr>\n",
       "      <th>0</th>\n",
       "      <td>10:29:00 2016-08-31</td>\n",
       "      <td>10:47:56 2016-08-31</td>\n",
       "      <td>31102</td>\n",
       "      <td>31279</td>\n",
       "      <td>20978</td>\n",
       "      <td>No</td>\n",
       "      <td>-</td>\n",
       "      <td>credit card</td>\n",
       "    </tr>\n",
       "    <tr>\n",
       "      <th>1</th>\n",
       "      <td>10:29:00 2016-08-31</td>\n",
       "      <td>10:32:12 2016-08-31</td>\n",
       "      <td>31505</td>\n",
       "      <td>31627</td>\n",
       "      <td>20515</td>\n",
       "      <td>Yes</td>\n",
       "      <td>-</td>\n",
       "      <td>cash</td>\n",
       "    </tr>\n",
       "    <tr>\n",
       "      <th>2</th>\n",
       "      <td>10:29:00 2016-08-31</td>\n",
       "      <td>10:32:16 2016-08-31</td>\n",
       "      <td>31400</td>\n",
       "      <td>31401</td>\n",
       "      <td>20108</td>\n",
       "      <td>Yes</td>\n",
       "      <td>-</td>\n",
       "      <td>cash</td>\n",
       "    </tr>\n",
       "  </tbody>\n",
       "</table>\n",
       "</div>"
      ],
      "text/plain": [
       "            time_start             time_end  origin_station  \\\n",
       "0  10:29:00 2016-08-31  10:47:56 2016-08-31           31102   \n",
       "1  10:29:00 2016-08-31  10:32:12 2016-08-31           31505   \n",
       "2  10:29:00 2016-08-31  10:32:16 2016-08-31           31400   \n",
       "\n",
       "   destination_station   bike member helmet payment_method  \n",
       "0                31279  20978     No      -    credit card  \n",
       "1                31627  20515    Yes      -           cash  \n",
       "2                31401  20108    Yes      -           cash  "
      ]
     },
     "metadata": {},
     "output_type": "display_data"
    }
   ],
   "source": [
    "# read in two data set\n",
    "df1 = pd.read_csv('bikeshare_data_S1.csv')\n",
    "df2 = pd.read_csv('bikeshare_data_S2.csv')\n",
    "# Display two dataframes together to compare\n",
    "print 'S1:' + str(df1.shape)\n",
    "display(df1.head(3))\n",
    "print 'S2:' + str(df2.shape)\n",
    "display(df2.head(3))"
   ]
  },
  {
   "cell_type": "code",
   "execution_count": 122,
   "metadata": {},
   "outputs": [
    {
     "name": "stdout",
     "output_type": "stream",
     "text": [
      "<class 'pandas.core.frame.DataFrame'>\n",
      "RangeIndex: 8500 entries, 0 to 8499\n",
      "Data columns (total 10 columns):\n",
      "Duration (ms)           8500 non-null int64\n",
      "Start date              8500 non-null object\n",
      "Start station number    8500 non-null int64\n",
      "Start station           8500 non-null object\n",
      "End station number      8500 non-null int64\n",
      "End station             8500 non-null object\n",
      "Bike number             8500 non-null object\n",
      "Member type             8500 non-null object\n",
      "Helmet rented           8500 non-null int64\n",
      "Credit card             4288 non-null object\n",
      "dtypes: int64(4), object(6)\n",
      "memory usage: 664.1+ KB\n",
      "None\n",
      "<class 'pandas.core.frame.DataFrame'>\n",
      "RangeIndex: 2000 entries, 0 to 1999\n",
      "Data columns (total 8 columns):\n",
      "time_start             2000 non-null object\n",
      "time_end               2000 non-null object\n",
      "origin_station         2000 non-null int64\n",
      "destination_station    2000 non-null int64\n",
      "bike                   2000 non-null int64\n",
      "member                 2000 non-null object\n",
      "helmet                 2000 non-null object\n",
      "payment_method         2000 non-null object\n",
      "dtypes: int64(3), object(5)\n",
      "memory usage: 125.1+ KB\n",
      "None\n"
     ]
    }
   ],
   "source": [
    "print df1.info()\n",
    "print df2.info()"
   ]
  },
  {
   "cell_type": "markdown",
   "metadata": {},
   "source": [
    "## II. Resolve schema conflict"
   ]
  },
  {
   "cell_type": "code",
   "execution_count": 123,
   "metadata": {},
   "outputs": [
    {
     "data": {
      "text/html": [
       "<div>\n",
       "<style scoped>\n",
       "    .dataframe tbody tr th:only-of-type {\n",
       "        vertical-align: middle;\n",
       "    }\n",
       "\n",
       "    .dataframe tbody tr th {\n",
       "        vertical-align: top;\n",
       "    }\n",
       "\n",
       "    .dataframe thead th {\n",
       "        text-align: right;\n",
       "    }\n",
       "</style>\n",
       "<table border=\"1\" class=\"dataframe\">\n",
       "  <thead>\n",
       "    <tr style=\"text-align: right;\">\n",
       "      <th></th>\n",
       "      <th>value1</th>\n",
       "      <th>value2</th>\n",
       "      <th>compare</th>\n",
       "    </tr>\n",
       "  </thead>\n",
       "  <tbody>\n",
       "    <tr>\n",
       "      <th>0</th>\n",
       "      <td>int64</td>\n",
       "      <td>int64</td>\n",
       "      <td>True</td>\n",
       "    </tr>\n",
       "    <tr>\n",
       "      <th>1</th>\n",
       "      <td>int64</td>\n",
       "      <td>int64</td>\n",
       "      <td>True</td>\n",
       "    </tr>\n",
       "    <tr>\n",
       "      <th>2</th>\n",
       "      <td>int64</td>\n",
       "      <td>int64</td>\n",
       "      <td>True</td>\n",
       "    </tr>\n",
       "    <tr>\n",
       "      <th>3</th>\n",
       "      <td>int64</td>\n",
       "      <td>object</td>\n",
       "      <td>False</td>\n",
       "    </tr>\n",
       "    <tr>\n",
       "      <th>4</th>\n",
       "      <td>object</td>\n",
       "      <td>object</td>\n",
       "      <td>True</td>\n",
       "    </tr>\n",
       "    <tr>\n",
       "      <th>5</th>\n",
       "      <td>object</td>\n",
       "      <td>object</td>\n",
       "      <td>True</td>\n",
       "    </tr>\n",
       "    <tr>\n",
       "      <th>6</th>\n",
       "      <td>object</td>\n",
       "      <td>object</td>\n",
       "      <td>True</td>\n",
       "    </tr>\n",
       "    <tr>\n",
       "      <th>7</th>\n",
       "      <td>object</td>\n",
       "      <td>object</td>\n",
       "      <td>True</td>\n",
       "    </tr>\n",
       "    <tr>\n",
       "      <th>8</th>\n",
       "      <td>object</td>\n",
       "      <td>NaN</td>\n",
       "      <td>False</td>\n",
       "    </tr>\n",
       "    <tr>\n",
       "      <th>9</th>\n",
       "      <td>object</td>\n",
       "      <td>NaN</td>\n",
       "      <td>False</td>\n",
       "    </tr>\n",
       "  </tbody>\n",
       "</table>\n",
       "</div>"
      ],
      "text/plain": [
       "   value1  value2  compare\n",
       "0   int64   int64     True\n",
       "1   int64   int64     True\n",
       "2   int64   int64     True\n",
       "3   int64  object    False\n",
       "4  object  object     True\n",
       "5  object  object     True\n",
       "6  object  object     True\n",
       "7  object  object     True\n",
       "8  object     NaN    False\n",
       "9  object     NaN    False"
      ]
     },
     "execution_count": 123,
     "metadata": {},
     "output_type": "execute_result"
    }
   ],
   "source": [
    "compare_value(df1.dtypes, df2.dtypes)"
   ]
  },
  {
   "cell_type": "markdown",
   "metadata": {},
   "source": [
    "### Schema conflict 1: S2 does not have duration, S1 does not have time_end, datetime format differs in S1 and S2\n",
    "- calculate duration for S2\n",
    "- del time_end from S2\n",
    "- convert S1 duration to seconds\n",
    "- make consistent the datetime format"
   ]
  },
  {
   "cell_type": "code",
   "execution_count": 124,
   "metadata": {},
   "outputs": [
    {
     "data": {
      "text/plain": [
       "0    1136.0\n",
       "1     192.0\n",
       "2     196.0\n",
       "3    1403.0\n",
       "4     648.0\n",
       "Name: duration, dtype: float64"
      ]
     },
     "execution_count": 124,
     "metadata": {},
     "output_type": "execute_result"
    }
   ],
   "source": [
    "df2['time_end'] = pd.to_datetime(df2['time_end'])\n",
    "df2['time_start'] = pd.to_datetime(df2['time_start'])\n",
    "\n",
    "# define a funciton to calculate duration (seconds) from two datetime object\n",
    "def calculateDuration(startTime, endTime):\n",
    "    return (endTime - startTime).total_seconds()\n",
    "\n",
    "df2['duration'] = df2.apply(lambda row: calculateDuration(row['time_start'],row['time_end']),axis = 1)\n",
    "\n",
    "del df2['time_end']\n",
    "\n",
    "df2['duration'].head()"
   ]
  },
  {
   "cell_type": "code",
   "execution_count": 125,
   "metadata": {},
   "outputs": [
    {
     "data": {
      "text/plain": [
       "0    840.0\n",
       "1    656.0\n",
       "2    353.0\n",
       "3    219.0\n",
       "4    213.0\n",
       "Name: duration, dtype: float64"
      ]
     },
     "execution_count": 125,
     "metadata": {},
     "output_type": "execute_result"
    }
   ],
   "source": [
    "# covert Duration (ms) in S1 to seconds, and rename to be consistent\n",
    "df1['Duration (ms)'] = df1['Duration (ms)'].apply(lambda x: round(x/1000))\n",
    "\n",
    "df1.rename(columns = {'Duration (ms)':'duration'}, inplace = True)\n",
    "\n",
    "df1['duration'].head()"
   ]
  },
  {
   "cell_type": "code",
   "execution_count": 126,
   "metadata": {},
   "outputs": [
    {
     "data": {
      "text/plain": [
       "0   2016-08-31 23:59:00\n",
       "1   2016-08-31 23:58:00\n",
       "2   2016-08-31 23:58:00\n",
       "3   2016-08-31 23:58:00\n",
       "4   2016-08-31 23:56:00\n",
       "Name: time_start, dtype: datetime64[ns]"
      ]
     },
     "execution_count": 126,
     "metadata": {},
     "output_type": "execute_result"
    }
   ],
   "source": [
    "df1['Start date'] = pd.to_datetime(df1['Start date'])\n",
    "df1.rename(columns = {'Start date':'time_start'}, inplace = True)\n",
    "df1.time_start.head()"
   ]
  },
  {
   "cell_type": "code",
   "execution_count": 127,
   "metadata": {},
   "outputs": [
    {
     "data": {
      "text/plain": [
       "0   2016-08-31 10:29:00\n",
       "1   2016-08-31 10:29:00\n",
       "2   2016-08-31 10:29:00\n",
       "3   2016-08-31 10:29:00\n",
       "4   2016-08-31 10:28:00\n",
       "Name: time_start, dtype: datetime64[ns]"
      ]
     },
     "execution_count": 127,
     "metadata": {},
     "output_type": "execute_result"
    }
   ],
   "source": [
    "df2.time_start.head()"
   ]
  },
  {
   "cell_type": "code",
   "execution_count": 128,
   "metadata": {},
   "outputs": [
    {
     "data": {
      "text/html": [
       "<div>\n",
       "<style scoped>\n",
       "    .dataframe tbody tr th:only-of-type {\n",
       "        vertical-align: middle;\n",
       "    }\n",
       "\n",
       "    .dataframe tbody tr th {\n",
       "        vertical-align: top;\n",
       "    }\n",
       "\n",
       "    .dataframe thead th {\n",
       "        text-align: right;\n",
       "    }\n",
       "</style>\n",
       "<table border=\"1\" class=\"dataframe\">\n",
       "  <thead>\n",
       "    <tr style=\"text-align: right;\">\n",
       "      <th></th>\n",
       "      <th>duration</th>\n",
       "      <th>time_start</th>\n",
       "      <th>Start station number</th>\n",
       "      <th>Start station</th>\n",
       "      <th>End station number</th>\n",
       "      <th>End station</th>\n",
       "      <th>Bike number</th>\n",
       "      <th>Member type</th>\n",
       "      <th>Helmet rented</th>\n",
       "      <th>Credit card</th>\n",
       "    </tr>\n",
       "  </thead>\n",
       "  <tbody>\n",
       "    <tr>\n",
       "      <th>0</th>\n",
       "      <td>840.0</td>\n",
       "      <td>2016-08-31 23:59:00</td>\n",
       "      <td>31117</td>\n",
       "      <td>15th &amp; Euclid St  NW</td>\n",
       "      <td>31228</td>\n",
       "      <td>8th &amp; H St NW</td>\n",
       "      <td>W20409</td>\n",
       "      <td>Registered</td>\n",
       "      <td>1</td>\n",
       "      <td>**** **** **** 7976</td>\n",
       "    </tr>\n",
       "    <tr>\n",
       "      <th>1</th>\n",
       "      <td>656.0</td>\n",
       "      <td>2016-08-31 23:58:00</td>\n",
       "      <td>31279</td>\n",
       "      <td>19th &amp; G St NW</td>\n",
       "      <td>31600</td>\n",
       "      <td>5th &amp; K St NW</td>\n",
       "      <td>W20756</td>\n",
       "      <td>Casual</td>\n",
       "      <td>0</td>\n",
       "      <td>NaN</td>\n",
       "    </tr>\n",
       "  </tbody>\n",
       "</table>\n",
       "</div>"
      ],
      "text/plain": [
       "   duration          time_start  Start station number         Start station  \\\n",
       "0     840.0 2016-08-31 23:59:00                 31117  15th & Euclid St  NW   \n",
       "1     656.0 2016-08-31 23:58:00                 31279        19th & G St NW   \n",
       "\n",
       "   End station number    End station Bike number Member type  Helmet rented  \\\n",
       "0               31228  8th & H St NW      W20409  Registered              1   \n",
       "1               31600  5th & K St NW      W20756      Casual              0   \n",
       "\n",
       "           Credit card  \n",
       "0  **** **** **** 7976  \n",
       "1                  NaN  "
      ]
     },
     "execution_count": 128,
     "metadata": {},
     "output_type": "execute_result"
    }
   ],
   "source": [
    "df1.head(2)"
   ]
  },
  {
   "cell_type": "code",
   "execution_count": 129,
   "metadata": {},
   "outputs": [
    {
     "name": "stdout",
     "output_type": "stream",
     "text": [
      "<class 'pandas.core.frame.DataFrame'>\n",
      "RangeIndex: 8500 entries, 0 to 8499\n",
      "Data columns (total 10 columns):\n",
      "duration                8500 non-null float64\n",
      "time_start              8500 non-null datetime64[ns]\n",
      "Start station number    8500 non-null int64\n",
      "Start station           8500 non-null object\n",
      "End station number      8500 non-null int64\n",
      "End station             8500 non-null object\n",
      "Bike number             8500 non-null object\n",
      "Member type             8500 non-null object\n",
      "Helmet rented           8500 non-null int64\n",
      "Credit card             4288 non-null object\n",
      "dtypes: datetime64[ns](1), float64(1), int64(3), object(5)\n",
      "memory usage: 664.1+ KB\n"
     ]
    }
   ],
   "source": [
    "df1.info()"
   ]
  },
  {
   "cell_type": "code",
   "execution_count": 130,
   "metadata": {},
   "outputs": [
    {
     "data": {
      "text/html": [
       "<div>\n",
       "<style scoped>\n",
       "    .dataframe tbody tr th:only-of-type {\n",
       "        vertical-align: middle;\n",
       "    }\n",
       "\n",
       "    .dataframe tbody tr th {\n",
       "        vertical-align: top;\n",
       "    }\n",
       "\n",
       "    .dataframe thead th {\n",
       "        text-align: right;\n",
       "    }\n",
       "</style>\n",
       "<table border=\"1\" class=\"dataframe\">\n",
       "  <thead>\n",
       "    <tr style=\"text-align: right;\">\n",
       "      <th></th>\n",
       "      <th>time_start</th>\n",
       "      <th>origin_station</th>\n",
       "      <th>destination_station</th>\n",
       "      <th>bike</th>\n",
       "      <th>member</th>\n",
       "      <th>helmet</th>\n",
       "      <th>payment_method</th>\n",
       "      <th>duration</th>\n",
       "    </tr>\n",
       "  </thead>\n",
       "  <tbody>\n",
       "    <tr>\n",
       "      <th>0</th>\n",
       "      <td>2016-08-31 10:29:00</td>\n",
       "      <td>31102</td>\n",
       "      <td>31279</td>\n",
       "      <td>20978</td>\n",
       "      <td>No</td>\n",
       "      <td>-</td>\n",
       "      <td>credit card</td>\n",
       "      <td>1136.0</td>\n",
       "    </tr>\n",
       "    <tr>\n",
       "      <th>1</th>\n",
       "      <td>2016-08-31 10:29:00</td>\n",
       "      <td>31505</td>\n",
       "      <td>31627</td>\n",
       "      <td>20515</td>\n",
       "      <td>Yes</td>\n",
       "      <td>-</td>\n",
       "      <td>cash</td>\n",
       "      <td>192.0</td>\n",
       "    </tr>\n",
       "  </tbody>\n",
       "</table>\n",
       "</div>"
      ],
      "text/plain": [
       "           time_start  origin_station  destination_station   bike member  \\\n",
       "0 2016-08-31 10:29:00           31102                31279  20978     No   \n",
       "1 2016-08-31 10:29:00           31505                31627  20515    Yes   \n",
       "\n",
       "  helmet payment_method  duration  \n",
       "0      -    credit card    1136.0  \n",
       "1      -           cash     192.0  "
      ]
     },
     "execution_count": 130,
     "metadata": {},
     "output_type": "execute_result"
    }
   ],
   "source": [
    "df2.head(2)"
   ]
  },
  {
   "cell_type": "markdown",
   "metadata": {},
   "source": [
    "### Schema conflict 2: S2 missing station names\n",
    "- check whether station number and name has one to one corrwspondence, if yes\n",
    "- del Start station and End station from S1"
   ]
  },
  {
   "cell_type": "code",
   "execution_count": 131,
   "metadata": {},
   "outputs": [
    {
     "name": "stdout",
     "output_type": "stream",
     "text": [
      "S1:(8500, 10)\n"
     ]
    },
    {
     "data": {
      "text/html": [
       "<div>\n",
       "<style scoped>\n",
       "    .dataframe tbody tr th:only-of-type {\n",
       "        vertical-align: middle;\n",
       "    }\n",
       "\n",
       "    .dataframe tbody tr th {\n",
       "        vertical-align: top;\n",
       "    }\n",
       "\n",
       "    .dataframe thead th {\n",
       "        text-align: right;\n",
       "    }\n",
       "</style>\n",
       "<table border=\"1\" class=\"dataframe\">\n",
       "  <thead>\n",
       "    <tr style=\"text-align: right;\">\n",
       "      <th></th>\n",
       "      <th>duration</th>\n",
       "      <th>time_start</th>\n",
       "      <th>Start station number</th>\n",
       "      <th>Start station</th>\n",
       "      <th>End station number</th>\n",
       "      <th>End station</th>\n",
       "      <th>Bike number</th>\n",
       "      <th>Member type</th>\n",
       "      <th>Helmet rented</th>\n",
       "      <th>Credit card</th>\n",
       "    </tr>\n",
       "  </thead>\n",
       "  <tbody>\n",
       "    <tr>\n",
       "      <th>0</th>\n",
       "      <td>840.0</td>\n",
       "      <td>2016-08-31 23:59:00</td>\n",
       "      <td>31117</td>\n",
       "      <td>15th &amp; Euclid St  NW</td>\n",
       "      <td>31228</td>\n",
       "      <td>8th &amp; H St NW</td>\n",
       "      <td>W20409</td>\n",
       "      <td>Registered</td>\n",
       "      <td>1</td>\n",
       "      <td>**** **** **** 7976</td>\n",
       "    </tr>\n",
       "    <tr>\n",
       "      <th>1</th>\n",
       "      <td>656.0</td>\n",
       "      <td>2016-08-31 23:58:00</td>\n",
       "      <td>31279</td>\n",
       "      <td>19th &amp; G St NW</td>\n",
       "      <td>31600</td>\n",
       "      <td>5th &amp; K St NW</td>\n",
       "      <td>W20756</td>\n",
       "      <td>Casual</td>\n",
       "      <td>0</td>\n",
       "      <td>NaN</td>\n",
       "    </tr>\n",
       "  </tbody>\n",
       "</table>\n",
       "</div>"
      ],
      "text/plain": [
       "   duration          time_start  Start station number         Start station  \\\n",
       "0     840.0 2016-08-31 23:59:00                 31117  15th & Euclid St  NW   \n",
       "1     656.0 2016-08-31 23:58:00                 31279        19th & G St NW   \n",
       "\n",
       "   End station number    End station Bike number Member type  Helmet rented  \\\n",
       "0               31228  8th & H St NW      W20409  Registered              1   \n",
       "1               31600  5th & K St NW      W20756      Casual              0   \n",
       "\n",
       "           Credit card  \n",
       "0  **** **** **** 7976  \n",
       "1                  NaN  "
      ]
     },
     "metadata": {},
     "output_type": "display_data"
    },
    {
     "name": "stdout",
     "output_type": "stream",
     "text": [
      "S2:(2000, 8)\n"
     ]
    },
    {
     "data": {
      "text/html": [
       "<div>\n",
       "<style scoped>\n",
       "    .dataframe tbody tr th:only-of-type {\n",
       "        vertical-align: middle;\n",
       "    }\n",
       "\n",
       "    .dataframe tbody tr th {\n",
       "        vertical-align: top;\n",
       "    }\n",
       "\n",
       "    .dataframe thead th {\n",
       "        text-align: right;\n",
       "    }\n",
       "</style>\n",
       "<table border=\"1\" class=\"dataframe\">\n",
       "  <thead>\n",
       "    <tr style=\"text-align: right;\">\n",
       "      <th></th>\n",
       "      <th>time_start</th>\n",
       "      <th>origin_station</th>\n",
       "      <th>destination_station</th>\n",
       "      <th>bike</th>\n",
       "      <th>member</th>\n",
       "      <th>helmet</th>\n",
       "      <th>payment_method</th>\n",
       "      <th>duration</th>\n",
       "    </tr>\n",
       "  </thead>\n",
       "  <tbody>\n",
       "    <tr>\n",
       "      <th>0</th>\n",
       "      <td>2016-08-31 10:29:00</td>\n",
       "      <td>31102</td>\n",
       "      <td>31279</td>\n",
       "      <td>20978</td>\n",
       "      <td>No</td>\n",
       "      <td>-</td>\n",
       "      <td>credit card</td>\n",
       "      <td>1136.0</td>\n",
       "    </tr>\n",
       "    <tr>\n",
       "      <th>1</th>\n",
       "      <td>2016-08-31 10:29:00</td>\n",
       "      <td>31505</td>\n",
       "      <td>31627</td>\n",
       "      <td>20515</td>\n",
       "      <td>Yes</td>\n",
       "      <td>-</td>\n",
       "      <td>cash</td>\n",
       "      <td>192.0</td>\n",
       "    </tr>\n",
       "  </tbody>\n",
       "</table>\n",
       "</div>"
      ],
      "text/plain": [
       "           time_start  origin_station  destination_station   bike member  \\\n",
       "0 2016-08-31 10:29:00           31102                31279  20978     No   \n",
       "1 2016-08-31 10:29:00           31505                31627  20515    Yes   \n",
       "\n",
       "  helmet payment_method  duration  \n",
       "0      -    credit card    1136.0  \n",
       "1      -           cash     192.0  "
      ]
     },
     "metadata": {},
     "output_type": "display_data"
    }
   ],
   "source": [
    "print 'S1:' + str(df1.shape)\n",
    "display(df1.head(2))\n",
    "print 'S2:' + str(df2.shape)\n",
    "display(df2.head(2))"
   ]
  },
  {
   "cell_type": "code",
   "execution_count": 132,
   "metadata": {},
   "outputs": [
    {
     "data": {
      "text/plain": [
       "31231    1\n",
       "31411    1\n",
       "31401    1\n",
       "31914    1\n",
       "31509    1\n",
       "31404    1\n",
       "31615    1\n",
       "31406    1\n",
       "31402    1\n",
       "31408    1\n",
       "31518    1\n",
       "31282    1\n",
       "31910    1\n",
       "31624    1\n",
       "31124    1\n",
       "31512    1\n",
       "31614    1\n",
       "31400    1\n",
       "31089    1\n",
       "31029    1\n",
       "31236    1\n",
       "31609    1\n",
       "31912    1\n",
       "31909    1\n",
       "32024    1\n",
       "31244    1\n",
       "31121    1\n",
       "31635    1\n",
       "32014    1\n",
       "31022    1\n",
       "        ..\n",
       "31601    1\n",
       "31090    1\n",
       "31091    1\n",
       "31092    1\n",
       "31093    1\n",
       "31094    1\n",
       "31073    1\n",
       "31072    1\n",
       "31071    1\n",
       "31069    1\n",
       "31050    1\n",
       "31051    1\n",
       "31052    1\n",
       "31053    1\n",
       "31054    1\n",
       "31055    1\n",
       "31056    1\n",
       "31057    1\n",
       "31058    1\n",
       "31234    1\n",
       "31060    1\n",
       "31501    1\n",
       "31062    1\n",
       "31063    1\n",
       "31064    1\n",
       "31065    1\n",
       "31066    1\n",
       "31067    1\n",
       "31068    1\n",
       "31232    1\n",
       "Name: Start station number, Length: 377, dtype: int64"
      ]
     },
     "execution_count": 132,
     "metadata": {},
     "output_type": "execute_result"
    }
   ],
   "source": [
    "# check whether there is a one-to-one correspondance in these two columns\n",
    "station = df1[['Start station number','Start station']].drop_duplicates(keep='last')\n",
    "station['Start station number'].value_counts()"
   ]
  },
  {
   "cell_type": "code",
   "execution_count": 133,
   "metadata": {},
   "outputs": [
    {
     "data": {
      "text/html": [
       "<div>\n",
       "<style scoped>\n",
       "    .dataframe tbody tr th:only-of-type {\n",
       "        vertical-align: middle;\n",
       "    }\n",
       "\n",
       "    .dataframe tbody tr th {\n",
       "        vertical-align: top;\n",
       "    }\n",
       "\n",
       "    .dataframe thead th {\n",
       "        text-align: right;\n",
       "    }\n",
       "</style>\n",
       "<table border=\"1\" class=\"dataframe\">\n",
       "  <thead>\n",
       "    <tr style=\"text-align: right;\">\n",
       "      <th></th>\n",
       "      <th>duration</th>\n",
       "      <th>time_start</th>\n",
       "      <th>origin_station</th>\n",
       "      <th>destination_station</th>\n",
       "      <th>Bike number</th>\n",
       "      <th>Member type</th>\n",
       "      <th>Helmet rented</th>\n",
       "      <th>Credit card</th>\n",
       "    </tr>\n",
       "  </thead>\n",
       "  <tbody>\n",
       "    <tr>\n",
       "      <th>0</th>\n",
       "      <td>840.0</td>\n",
       "      <td>2016-08-31 23:59:00</td>\n",
       "      <td>31117</td>\n",
       "      <td>31228</td>\n",
       "      <td>W20409</td>\n",
       "      <td>Registered</td>\n",
       "      <td>1</td>\n",
       "      <td>**** **** **** 7976</td>\n",
       "    </tr>\n",
       "    <tr>\n",
       "      <th>1</th>\n",
       "      <td>656.0</td>\n",
       "      <td>2016-08-31 23:58:00</td>\n",
       "      <td>31279</td>\n",
       "      <td>31600</td>\n",
       "      <td>W20756</td>\n",
       "      <td>Casual</td>\n",
       "      <td>0</td>\n",
       "      <td>NaN</td>\n",
       "    </tr>\n",
       "  </tbody>\n",
       "</table>\n",
       "</div>"
      ],
      "text/plain": [
       "   duration          time_start  origin_station  destination_station  \\\n",
       "0     840.0 2016-08-31 23:59:00           31117                31228   \n",
       "1     656.0 2016-08-31 23:58:00           31279                31600   \n",
       "\n",
       "  Bike number Member type  Helmet rented          Credit card  \n",
       "0      W20409  Registered              1  **** **** **** 7976  \n",
       "1      W20756      Casual              0                  NaN  "
      ]
     },
     "execution_count": 133,
     "metadata": {},
     "output_type": "execute_result"
    }
   ],
   "source": [
    "# As there is always one-to-one correpsondency, we choose to drop name columns in S1 to avoid repeated information\n",
    "del df1['Start station']\n",
    "del df1['End station']\n",
    "df1.rename(columns = {'Start station number':'origin_station', 'End station number':'destination_station'}, inplace = True)\n",
    "df1.head(2)"
   ]
  },
  {
   "cell_type": "markdown",
   "metadata": {},
   "source": [
    "### Schema conflict 3: Bike number format differs in S1 and S2\n",
    "- check whether the pattern is consistent in S1, if yes, delete letter 'W' in bike number in S1"
   ]
  },
  {
   "cell_type": "code",
   "execution_count": 134,
   "metadata": {},
   "outputs": [
    {
     "name": "stdout",
     "output_type": "stream",
     "text": [
      "S1:(8500, 8)\n"
     ]
    },
    {
     "data": {
      "text/html": [
       "<div>\n",
       "<style scoped>\n",
       "    .dataframe tbody tr th:only-of-type {\n",
       "        vertical-align: middle;\n",
       "    }\n",
       "\n",
       "    .dataframe tbody tr th {\n",
       "        vertical-align: top;\n",
       "    }\n",
       "\n",
       "    .dataframe thead th {\n",
       "        text-align: right;\n",
       "    }\n",
       "</style>\n",
       "<table border=\"1\" class=\"dataframe\">\n",
       "  <thead>\n",
       "    <tr style=\"text-align: right;\">\n",
       "      <th></th>\n",
       "      <th>duration</th>\n",
       "      <th>time_start</th>\n",
       "      <th>origin_station</th>\n",
       "      <th>destination_station</th>\n",
       "      <th>Bike number</th>\n",
       "      <th>Member type</th>\n",
       "      <th>Helmet rented</th>\n",
       "      <th>Credit card</th>\n",
       "    </tr>\n",
       "  </thead>\n",
       "  <tbody>\n",
       "    <tr>\n",
       "      <th>0</th>\n",
       "      <td>840.0</td>\n",
       "      <td>2016-08-31 23:59:00</td>\n",
       "      <td>31117</td>\n",
       "      <td>31228</td>\n",
       "      <td>W20409</td>\n",
       "      <td>Registered</td>\n",
       "      <td>1</td>\n",
       "      <td>**** **** **** 7976</td>\n",
       "    </tr>\n",
       "    <tr>\n",
       "      <th>1</th>\n",
       "      <td>656.0</td>\n",
       "      <td>2016-08-31 23:58:00</td>\n",
       "      <td>31279</td>\n",
       "      <td>31600</td>\n",
       "      <td>W20756</td>\n",
       "      <td>Casual</td>\n",
       "      <td>0</td>\n",
       "      <td>NaN</td>\n",
       "    </tr>\n",
       "  </tbody>\n",
       "</table>\n",
       "</div>"
      ],
      "text/plain": [
       "   duration          time_start  origin_station  destination_station  \\\n",
       "0     840.0 2016-08-31 23:59:00           31117                31228   \n",
       "1     656.0 2016-08-31 23:58:00           31279                31600   \n",
       "\n",
       "  Bike number Member type  Helmet rented          Credit card  \n",
       "0      W20409  Registered              1  **** **** **** 7976  \n",
       "1      W20756      Casual              0                  NaN  "
      ]
     },
     "metadata": {},
     "output_type": "display_data"
    },
    {
     "name": "stdout",
     "output_type": "stream",
     "text": [
      "S2:(2000, 8)\n"
     ]
    },
    {
     "data": {
      "text/html": [
       "<div>\n",
       "<style scoped>\n",
       "    .dataframe tbody tr th:only-of-type {\n",
       "        vertical-align: middle;\n",
       "    }\n",
       "\n",
       "    .dataframe tbody tr th {\n",
       "        vertical-align: top;\n",
       "    }\n",
       "\n",
       "    .dataframe thead th {\n",
       "        text-align: right;\n",
       "    }\n",
       "</style>\n",
       "<table border=\"1\" class=\"dataframe\">\n",
       "  <thead>\n",
       "    <tr style=\"text-align: right;\">\n",
       "      <th></th>\n",
       "      <th>time_start</th>\n",
       "      <th>origin_station</th>\n",
       "      <th>destination_station</th>\n",
       "      <th>bike</th>\n",
       "      <th>member</th>\n",
       "      <th>helmet</th>\n",
       "      <th>payment_method</th>\n",
       "      <th>duration</th>\n",
       "    </tr>\n",
       "  </thead>\n",
       "  <tbody>\n",
       "    <tr>\n",
       "      <th>0</th>\n",
       "      <td>2016-08-31 10:29:00</td>\n",
       "      <td>31102</td>\n",
       "      <td>31279</td>\n",
       "      <td>20978</td>\n",
       "      <td>No</td>\n",
       "      <td>-</td>\n",
       "      <td>credit card</td>\n",
       "      <td>1136.0</td>\n",
       "    </tr>\n",
       "    <tr>\n",
       "      <th>1</th>\n",
       "      <td>2016-08-31 10:29:00</td>\n",
       "      <td>31505</td>\n",
       "      <td>31627</td>\n",
       "      <td>20515</td>\n",
       "      <td>Yes</td>\n",
       "      <td>-</td>\n",
       "      <td>cash</td>\n",
       "      <td>192.0</td>\n",
       "    </tr>\n",
       "  </tbody>\n",
       "</table>\n",
       "</div>"
      ],
      "text/plain": [
       "           time_start  origin_station  destination_station   bike member  \\\n",
       "0 2016-08-31 10:29:00           31102                31279  20978     No   \n",
       "1 2016-08-31 10:29:00           31505                31627  20515    Yes   \n",
       "\n",
       "  helmet payment_method  duration  \n",
       "0      -    credit card    1136.0  \n",
       "1      -           cash     192.0  "
      ]
     },
     "metadata": {},
     "output_type": "display_data"
    }
   ],
   "source": [
    "print 'S1:' + str(df1.shape)\n",
    "display(df1.head(2))\n",
    "print 'S2:' + str(df2.shape)\n",
    "display(df2.head(2))"
   ]
  },
  {
   "cell_type": "code",
   "execution_count": 135,
   "metadata": {},
   "outputs": [
    {
     "name": "stdout",
     "output_type": "stream",
     "text": [
      "9\n"
     ]
    },
    {
     "data": {
      "text/html": [
       "<div>\n",
       "<style scoped>\n",
       "    .dataframe tbody tr th:only-of-type {\n",
       "        vertical-align: middle;\n",
       "    }\n",
       "\n",
       "    .dataframe tbody tr th {\n",
       "        vertical-align: top;\n",
       "    }\n",
       "\n",
       "    .dataframe thead th {\n",
       "        text-align: right;\n",
       "    }\n",
       "</style>\n",
       "<table border=\"1\" class=\"dataframe\">\n",
       "  <thead>\n",
       "    <tr style=\"text-align: right;\">\n",
       "      <th></th>\n",
       "      <th>duration</th>\n",
       "      <th>time_start</th>\n",
       "      <th>origin_station</th>\n",
       "      <th>destination_station</th>\n",
       "      <th>Bike number</th>\n",
       "      <th>Member type</th>\n",
       "      <th>Helmet rented</th>\n",
       "      <th>Credit card</th>\n",
       "      <th>test_bikeNum</th>\n",
       "    </tr>\n",
       "  </thead>\n",
       "  <tbody>\n",
       "    <tr>\n",
       "      <th>1016</th>\n",
       "      <td>232.0</td>\n",
       "      <td>2016-08-31 20:29:00</td>\n",
       "      <td>31077</td>\n",
       "      <td>31031</td>\n",
       "      <td>w00644</td>\n",
       "      <td>Registered</td>\n",
       "      <td>1</td>\n",
       "      <td>**** **** **** 1916</td>\n",
       "      <td>Failed</td>\n",
       "    </tr>\n",
       "    <tr>\n",
       "      <th>4588</th>\n",
       "      <td>436.0</td>\n",
       "      <td>2016-08-31 17:17:00</td>\n",
       "      <td>31037</td>\n",
       "      <td>31035</td>\n",
       "      <td>w00223</td>\n",
       "      <td>Registered</td>\n",
       "      <td>0</td>\n",
       "      <td>NaN</td>\n",
       "      <td>Failed</td>\n",
       "    </tr>\n",
       "    <tr>\n",
       "      <th>5143</th>\n",
       "      <td>532.0</td>\n",
       "      <td>2016-08-31 16:52:00</td>\n",
       "      <td>31236</td>\n",
       "      <td>31014</td>\n",
       "      <td>w00583</td>\n",
       "      <td>Registered</td>\n",
       "      <td>2</td>\n",
       "      <td>NaN</td>\n",
       "      <td>Failed</td>\n",
       "    </tr>\n",
       "    <tr>\n",
       "      <th>5747</th>\n",
       "      <td>395.0</td>\n",
       "      <td>2016-08-31 16:01:00</td>\n",
       "      <td>31037</td>\n",
       "      <td>31901</td>\n",
       "      <td>w01117</td>\n",
       "      <td>Casual</td>\n",
       "      <td>0</td>\n",
       "      <td>**** **** **** 6479</td>\n",
       "      <td>Failed</td>\n",
       "    </tr>\n",
       "    <tr>\n",
       "      <th>6033</th>\n",
       "      <td>4235.0</td>\n",
       "      <td>2016-08-31 15:30:00</td>\n",
       "      <td>31042</td>\n",
       "      <td>31077</td>\n",
       "      <td>w00644</td>\n",
       "      <td>Casual</td>\n",
       "      <td>0</td>\n",
       "      <td>NaN</td>\n",
       "      <td>Failed</td>\n",
       "    </tr>\n",
       "    <tr>\n",
       "      <th>6108</th>\n",
       "      <td>1041.0</td>\n",
       "      <td>2016-08-31 15:17:00</td>\n",
       "      <td>31205</td>\n",
       "      <td>31236</td>\n",
       "      <td>w00583</td>\n",
       "      <td>Registered</td>\n",
       "      <td>0</td>\n",
       "      <td>**** **** **** 2402</td>\n",
       "      <td>Failed</td>\n",
       "    </tr>\n",
       "    <tr>\n",
       "      <th>6307</th>\n",
       "      <td>512.0</td>\n",
       "      <td>2016-08-31 14:48:00</td>\n",
       "      <td>31047</td>\n",
       "      <td>31042</td>\n",
       "      <td>w00644</td>\n",
       "      <td>Registered</td>\n",
       "      <td>0</td>\n",
       "      <td>**** **** **** 5775</td>\n",
       "      <td>Failed</td>\n",
       "    </tr>\n",
       "    <tr>\n",
       "      <th>7118</th>\n",
       "      <td>346.0</td>\n",
       "      <td>2016-08-31 12:50:00</td>\n",
       "      <td>31234</td>\n",
       "      <td>31205</td>\n",
       "      <td>w00583</td>\n",
       "      <td>Registered</td>\n",
       "      <td>0</td>\n",
       "      <td>**** **** **** 5720</td>\n",
       "      <td>Failed</td>\n",
       "    </tr>\n",
       "    <tr>\n",
       "      <th>7217</th>\n",
       "      <td>735.0</td>\n",
       "      <td>2016-08-31 12:36:00</td>\n",
       "      <td>31104</td>\n",
       "      <td>31234</td>\n",
       "      <td>w00583</td>\n",
       "      <td>Casual</td>\n",
       "      <td>0</td>\n",
       "      <td>**** **** **** 4241</td>\n",
       "      <td>Failed</td>\n",
       "    </tr>\n",
       "  </tbody>\n",
       "</table>\n",
       "</div>"
      ],
      "text/plain": [
       "      duration          time_start  origin_station  destination_station  \\\n",
       "1016     232.0 2016-08-31 20:29:00           31077                31031   \n",
       "4588     436.0 2016-08-31 17:17:00           31037                31035   \n",
       "5143     532.0 2016-08-31 16:52:00           31236                31014   \n",
       "5747     395.0 2016-08-31 16:01:00           31037                31901   \n",
       "6033    4235.0 2016-08-31 15:30:00           31042                31077   \n",
       "6108    1041.0 2016-08-31 15:17:00           31205                31236   \n",
       "6307     512.0 2016-08-31 14:48:00           31047                31042   \n",
       "7118     346.0 2016-08-31 12:50:00           31234                31205   \n",
       "7217     735.0 2016-08-31 12:36:00           31104                31234   \n",
       "\n",
       "     Bike number Member type  Helmet rented          Credit card test_bikeNum  \n",
       "1016      w00644  Registered              1  **** **** **** 1916       Failed  \n",
       "4588      w00223  Registered              0                  NaN       Failed  \n",
       "5143      w00583  Registered              2                  NaN       Failed  \n",
       "5747      w01117      Casual              0  **** **** **** 6479       Failed  \n",
       "6033      w00644      Casual              0                  NaN       Failed  \n",
       "6108      w00583  Registered              0  **** **** **** 2402       Failed  \n",
       "6307      w00644  Registered              0  **** **** **** 5775       Failed  \n",
       "7118      w00583  Registered              0  **** **** **** 5720       Failed  \n",
       "7217      w00583      Casual              0  **** **** **** 4241       Failed  "
      ]
     },
     "execution_count": 135,
     "metadata": {},
     "output_type": "execute_result"
    }
   ],
   "source": [
    "# define a functin to check the pattern of bike number column\n",
    "def check_bikeNumPattern(value, pattern=re.compile('W\\d{5}')):\n",
    "    return 'OK' if pattern.match(value) else 'Failed'\n",
    "\n",
    "# Checking whether all rows in the Bike number column \n",
    "df1['test_bikeNum'] = df1['Bike number'].apply(check_bikeNumPattern)\n",
    "print len(df1[df1['test_bikeNum']!='OK'])\n",
    "df1[df1['test_bikeNum']!='OK']# return nothing only when all rows are consistent with the pattern observed"
   ]
  },
  {
   "cell_type": "markdown",
   "metadata": {},
   "source": [
    "As there are only 9 rows across 8500 records, so I believe was just an inconsistency issue (some with capital 'W' and 9 with lower case 'w'), I decided to only maintain the digit as the bike number."
   ]
  },
  {
   "cell_type": "code",
   "execution_count": 136,
   "metadata": {},
   "outputs": [
    {
     "data": {
      "text/html": [
       "<div>\n",
       "<style scoped>\n",
       "    .dataframe tbody tr th:only-of-type {\n",
       "        vertical-align: middle;\n",
       "    }\n",
       "\n",
       "    .dataframe tbody tr th {\n",
       "        vertical-align: top;\n",
       "    }\n",
       "\n",
       "    .dataframe thead th {\n",
       "        text-align: right;\n",
       "    }\n",
       "</style>\n",
       "<table border=\"1\" class=\"dataframe\">\n",
       "  <thead>\n",
       "    <tr style=\"text-align: right;\">\n",
       "      <th></th>\n",
       "      <th>duration</th>\n",
       "      <th>time_start</th>\n",
       "      <th>origin_station</th>\n",
       "      <th>destination_station</th>\n",
       "      <th>bike</th>\n",
       "      <th>Member type</th>\n",
       "      <th>Helmet rented</th>\n",
       "      <th>Credit card</th>\n",
       "    </tr>\n",
       "  </thead>\n",
       "  <tbody>\n",
       "    <tr>\n",
       "      <th>0</th>\n",
       "      <td>840.0</td>\n",
       "      <td>2016-08-31 23:59:00</td>\n",
       "      <td>31117</td>\n",
       "      <td>31228</td>\n",
       "      <td>20409</td>\n",
       "      <td>Registered</td>\n",
       "      <td>1</td>\n",
       "      <td>**** **** **** 7976</td>\n",
       "    </tr>\n",
       "    <tr>\n",
       "      <th>1</th>\n",
       "      <td>656.0</td>\n",
       "      <td>2016-08-31 23:58:00</td>\n",
       "      <td>31279</td>\n",
       "      <td>31600</td>\n",
       "      <td>20756</td>\n",
       "      <td>Casual</td>\n",
       "      <td>0</td>\n",
       "      <td>NaN</td>\n",
       "    </tr>\n",
       "  </tbody>\n",
       "</table>\n",
       "</div>"
      ],
      "text/plain": [
       "   duration          time_start  origin_station  destination_station   bike  \\\n",
       "0     840.0 2016-08-31 23:59:00           31117                31228  20409   \n",
       "1     656.0 2016-08-31 23:58:00           31279                31600  20756   \n",
       "\n",
       "  Member type  Helmet rented          Credit card  \n",
       "0  Registered              1  **** **** **** 7976  \n",
       "1      Casual              0                  NaN  "
      ]
     },
     "execution_count": 136,
     "metadata": {},
     "output_type": "execute_result"
    }
   ],
   "source": [
    "df1['Bike number'] = df1['Bike number'].str.findall('\\d{5}').str.get(0)\n",
    "df1.rename(columns = {'Bike number':'bike'}, inplace = True)\n",
    "del df1['test_bikeNum']\n",
    "df1.head(2)"
   ]
  },
  {
   "cell_type": "markdown",
   "metadata": {},
   "source": [
    "### Schema conflict 4: Member type values differs in S1 and S2\n",
    "- check unique vlaues of Member Type/member, convert values in S2 to Registered/Casual."
   ]
  },
  {
   "cell_type": "code",
   "execution_count": 137,
   "metadata": {},
   "outputs": [
    {
     "data": {
      "text/html": [
       "<div>\n",
       "<style scoped>\n",
       "    .dataframe tbody tr th:only-of-type {\n",
       "        vertical-align: middle;\n",
       "    }\n",
       "\n",
       "    .dataframe tbody tr th {\n",
       "        vertical-align: top;\n",
       "    }\n",
       "\n",
       "    .dataframe thead th {\n",
       "        text-align: right;\n",
       "    }\n",
       "</style>\n",
       "<table border=\"1\" class=\"dataframe\">\n",
       "  <thead>\n",
       "    <tr style=\"text-align: right;\">\n",
       "      <th></th>\n",
       "      <th>value1</th>\n",
       "      <th>value2</th>\n",
       "      <th>compare</th>\n",
       "    </tr>\n",
       "  </thead>\n",
       "  <tbody>\n",
       "    <tr>\n",
       "      <th>0</th>\n",
       "      <td>Casual</td>\n",
       "      <td>No</td>\n",
       "      <td>False</td>\n",
       "    </tr>\n",
       "    <tr>\n",
       "      <th>1</th>\n",
       "      <td>Registered</td>\n",
       "      <td>Yes</td>\n",
       "      <td>False</td>\n",
       "    </tr>\n",
       "  </tbody>\n",
       "</table>\n",
       "</div>"
      ],
      "text/plain": [
       "       value1 value2  compare\n",
       "0      Casual     No    False\n",
       "1  Registered    Yes    False"
      ]
     },
     "execution_count": 137,
     "metadata": {},
     "output_type": "execute_result"
    }
   ],
   "source": [
    "compare_value(df1['Member type'].unique(), df2['member'].unique())"
   ]
  },
  {
   "cell_type": "code",
   "execution_count": 138,
   "metadata": {},
   "outputs": [
    {
     "name": "stdout",
     "output_type": "stream",
     "text": [
      "S1:(8500, 8)\n"
     ]
    },
    {
     "data": {
      "text/html": [
       "<div>\n",
       "<style scoped>\n",
       "    .dataframe tbody tr th:only-of-type {\n",
       "        vertical-align: middle;\n",
       "    }\n",
       "\n",
       "    .dataframe tbody tr th {\n",
       "        vertical-align: top;\n",
       "    }\n",
       "\n",
       "    .dataframe thead th {\n",
       "        text-align: right;\n",
       "    }\n",
       "</style>\n",
       "<table border=\"1\" class=\"dataframe\">\n",
       "  <thead>\n",
       "    <tr style=\"text-align: right;\">\n",
       "      <th></th>\n",
       "      <th>duration</th>\n",
       "      <th>time_start</th>\n",
       "      <th>origin_station</th>\n",
       "      <th>destination_station</th>\n",
       "      <th>bike</th>\n",
       "      <th>Member type</th>\n",
       "      <th>Helmet rented</th>\n",
       "      <th>Credit card</th>\n",
       "    </tr>\n",
       "  </thead>\n",
       "  <tbody>\n",
       "    <tr>\n",
       "      <th>0</th>\n",
       "      <td>840.0</td>\n",
       "      <td>2016-08-31 23:59:00</td>\n",
       "      <td>31117</td>\n",
       "      <td>31228</td>\n",
       "      <td>20409</td>\n",
       "      <td>Registered</td>\n",
       "      <td>1</td>\n",
       "      <td>**** **** **** 7976</td>\n",
       "    </tr>\n",
       "    <tr>\n",
       "      <th>1</th>\n",
       "      <td>656.0</td>\n",
       "      <td>2016-08-31 23:58:00</td>\n",
       "      <td>31279</td>\n",
       "      <td>31600</td>\n",
       "      <td>20756</td>\n",
       "      <td>Casual</td>\n",
       "      <td>0</td>\n",
       "      <td>NaN</td>\n",
       "    </tr>\n",
       "    <tr>\n",
       "      <th>2</th>\n",
       "      <td>353.0</td>\n",
       "      <td>2016-08-31 23:58:00</td>\n",
       "      <td>31107</td>\n",
       "      <td>31101</td>\n",
       "      <td>22626</td>\n",
       "      <td>Registered</td>\n",
       "      <td>0</td>\n",
       "      <td>NaN</td>\n",
       "    </tr>\n",
       "    <tr>\n",
       "      <th>3</th>\n",
       "      <td>219.0</td>\n",
       "      <td>2016-08-31 23:58:00</td>\n",
       "      <td>31200</td>\n",
       "      <td>31212</td>\n",
       "      <td>00980</td>\n",
       "      <td>Casual</td>\n",
       "      <td>0</td>\n",
       "      <td>**** **** **** 9137</td>\n",
       "    </tr>\n",
       "    <tr>\n",
       "      <th>4</th>\n",
       "      <td>213.0</td>\n",
       "      <td>2016-08-31 23:56:00</td>\n",
       "      <td>31281</td>\n",
       "      <td>31280</td>\n",
       "      <td>21338</td>\n",
       "      <td>Registered</td>\n",
       "      <td>0</td>\n",
       "      <td>NaN</td>\n",
       "    </tr>\n",
       "  </tbody>\n",
       "</table>\n",
       "</div>"
      ],
      "text/plain": [
       "   duration          time_start  origin_station  destination_station   bike  \\\n",
       "0     840.0 2016-08-31 23:59:00           31117                31228  20409   \n",
       "1     656.0 2016-08-31 23:58:00           31279                31600  20756   \n",
       "2     353.0 2016-08-31 23:58:00           31107                31101  22626   \n",
       "3     219.0 2016-08-31 23:58:00           31200                31212  00980   \n",
       "4     213.0 2016-08-31 23:56:00           31281                31280  21338   \n",
       "\n",
       "  Member type  Helmet rented          Credit card  \n",
       "0  Registered              1  **** **** **** 7976  \n",
       "1      Casual              0                  NaN  \n",
       "2  Registered              0                  NaN  \n",
       "3      Casual              0  **** **** **** 9137  \n",
       "4  Registered              0                  NaN  "
      ]
     },
     "metadata": {},
     "output_type": "display_data"
    },
    {
     "name": "stdout",
     "output_type": "stream",
     "text": [
      "S2:(2000, 8)\n"
     ]
    },
    {
     "data": {
      "text/html": [
       "<div>\n",
       "<style scoped>\n",
       "    .dataframe tbody tr th:only-of-type {\n",
       "        vertical-align: middle;\n",
       "    }\n",
       "\n",
       "    .dataframe tbody tr th {\n",
       "        vertical-align: top;\n",
       "    }\n",
       "\n",
       "    .dataframe thead th {\n",
       "        text-align: right;\n",
       "    }\n",
       "</style>\n",
       "<table border=\"1\" class=\"dataframe\">\n",
       "  <thead>\n",
       "    <tr style=\"text-align: right;\">\n",
       "      <th></th>\n",
       "      <th>time_start</th>\n",
       "      <th>origin_station</th>\n",
       "      <th>destination_station</th>\n",
       "      <th>bike</th>\n",
       "      <th>member</th>\n",
       "      <th>helmet</th>\n",
       "      <th>payment_method</th>\n",
       "      <th>duration</th>\n",
       "    </tr>\n",
       "  </thead>\n",
       "  <tbody>\n",
       "    <tr>\n",
       "      <th>0</th>\n",
       "      <td>2016-08-31 10:29:00</td>\n",
       "      <td>31102</td>\n",
       "      <td>31279</td>\n",
       "      <td>20978</td>\n",
       "      <td>No</td>\n",
       "      <td>-</td>\n",
       "      <td>credit card</td>\n",
       "      <td>1136.0</td>\n",
       "    </tr>\n",
       "    <tr>\n",
       "      <th>1</th>\n",
       "      <td>2016-08-31 10:29:00</td>\n",
       "      <td>31505</td>\n",
       "      <td>31627</td>\n",
       "      <td>20515</td>\n",
       "      <td>Yes</td>\n",
       "      <td>-</td>\n",
       "      <td>cash</td>\n",
       "      <td>192.0</td>\n",
       "    </tr>\n",
       "    <tr>\n",
       "      <th>2</th>\n",
       "      <td>2016-08-31 10:29:00</td>\n",
       "      <td>31400</td>\n",
       "      <td>31401</td>\n",
       "      <td>20108</td>\n",
       "      <td>Yes</td>\n",
       "      <td>-</td>\n",
       "      <td>cash</td>\n",
       "      <td>196.0</td>\n",
       "    </tr>\n",
       "    <tr>\n",
       "      <th>3</th>\n",
       "      <td>2016-08-31 10:29:00</td>\n",
       "      <td>31261</td>\n",
       "      <td>31077</td>\n",
       "      <td>20307</td>\n",
       "      <td>No</td>\n",
       "      <td>1</td>\n",
       "      <td>credit card</td>\n",
       "      <td>1403.0</td>\n",
       "    </tr>\n",
       "    <tr>\n",
       "      <th>4</th>\n",
       "      <td>2016-08-31 10:28:00</td>\n",
       "      <td>31279</td>\n",
       "      <td>31201</td>\n",
       "      <td>1025</td>\n",
       "      <td>Yes</td>\n",
       "      <td>-</td>\n",
       "      <td>credit card</td>\n",
       "      <td>648.0</td>\n",
       "    </tr>\n",
       "  </tbody>\n",
       "</table>\n",
       "</div>"
      ],
      "text/plain": [
       "           time_start  origin_station  destination_station   bike member  \\\n",
       "0 2016-08-31 10:29:00           31102                31279  20978     No   \n",
       "1 2016-08-31 10:29:00           31505                31627  20515    Yes   \n",
       "2 2016-08-31 10:29:00           31400                31401  20108    Yes   \n",
       "3 2016-08-31 10:29:00           31261                31077  20307     No   \n",
       "4 2016-08-31 10:28:00           31279                31201   1025    Yes   \n",
       "\n",
       "  helmet payment_method  duration  \n",
       "0      -    credit card    1136.0  \n",
       "1      -           cash     192.0  \n",
       "2      -           cash     196.0  \n",
       "3      1    credit card    1403.0  \n",
       "4      -    credit card     648.0  "
      ]
     },
     "metadata": {},
     "output_type": "display_data"
    }
   ],
   "source": [
    "print 'S1:' + str(df1.shape)\n",
    "display(df1.head(5))\n",
    "print 'S2:' + str(df2.shape)\n",
    "display(df2.head(5))"
   ]
  },
  {
   "cell_type": "code",
   "execution_count": 139,
   "metadata": {},
   "outputs": [
    {
     "data": {
      "text/plain": [
       "Registered    7118\n",
       "Casual        1382\n",
       "Name: Member type, dtype: int64"
      ]
     },
     "execution_count": 139,
     "metadata": {},
     "output_type": "execute_result"
    }
   ],
   "source": [
    "df1['Member type'].value_counts()"
   ]
  },
  {
   "cell_type": "code",
   "execution_count": 140,
   "metadata": {},
   "outputs": [
    {
     "data": {
      "text/plain": [
       "Yes    1832\n",
       "No      168\n",
       "Name: member, dtype: int64"
      ]
     },
     "execution_count": 140,
     "metadata": {},
     "output_type": "execute_result"
    }
   ],
   "source": [
    "df2['member'].value_counts()"
   ]
  },
  {
   "cell_type": "code",
   "execution_count": 141,
   "metadata": {},
   "outputs": [
    {
     "name": "stdout",
     "output_type": "stream",
     "text": [
      "S1:(8500, 8)\n"
     ]
    },
    {
     "data": {
      "text/html": [
       "<div>\n",
       "<style scoped>\n",
       "    .dataframe tbody tr th:only-of-type {\n",
       "        vertical-align: middle;\n",
       "    }\n",
       "\n",
       "    .dataframe tbody tr th {\n",
       "        vertical-align: top;\n",
       "    }\n",
       "\n",
       "    .dataframe thead th {\n",
       "        text-align: right;\n",
       "    }\n",
       "</style>\n",
       "<table border=\"1\" class=\"dataframe\">\n",
       "  <thead>\n",
       "    <tr style=\"text-align: right;\">\n",
       "      <th></th>\n",
       "      <th>duration</th>\n",
       "      <th>time_start</th>\n",
       "      <th>origin_station</th>\n",
       "      <th>destination_station</th>\n",
       "      <th>bike</th>\n",
       "      <th>member</th>\n",
       "      <th>Helmet rented</th>\n",
       "      <th>Credit card</th>\n",
       "    </tr>\n",
       "  </thead>\n",
       "  <tbody>\n",
       "    <tr>\n",
       "      <th>0</th>\n",
       "      <td>840.0</td>\n",
       "      <td>2016-08-31 23:59:00</td>\n",
       "      <td>31117</td>\n",
       "      <td>31228</td>\n",
       "      <td>20409</td>\n",
       "      <td>Registered</td>\n",
       "      <td>1</td>\n",
       "      <td>**** **** **** 7976</td>\n",
       "    </tr>\n",
       "    <tr>\n",
       "      <th>1</th>\n",
       "      <td>656.0</td>\n",
       "      <td>2016-08-31 23:58:00</td>\n",
       "      <td>31279</td>\n",
       "      <td>31600</td>\n",
       "      <td>20756</td>\n",
       "      <td>Casual</td>\n",
       "      <td>0</td>\n",
       "      <td>NaN</td>\n",
       "    </tr>\n",
       "  </tbody>\n",
       "</table>\n",
       "</div>"
      ],
      "text/plain": [
       "   duration          time_start  origin_station  destination_station   bike  \\\n",
       "0     840.0 2016-08-31 23:59:00           31117                31228  20409   \n",
       "1     656.0 2016-08-31 23:58:00           31279                31600  20756   \n",
       "\n",
       "       member  Helmet rented          Credit card  \n",
       "0  Registered              1  **** **** **** 7976  \n",
       "1      Casual              0                  NaN  "
      ]
     },
     "metadata": {},
     "output_type": "display_data"
    },
    {
     "name": "stdout",
     "output_type": "stream",
     "text": [
      "S2:(2000, 8)\n"
     ]
    },
    {
     "data": {
      "text/html": [
       "<div>\n",
       "<style scoped>\n",
       "    .dataframe tbody tr th:only-of-type {\n",
       "        vertical-align: middle;\n",
       "    }\n",
       "\n",
       "    .dataframe tbody tr th {\n",
       "        vertical-align: top;\n",
       "    }\n",
       "\n",
       "    .dataframe thead th {\n",
       "        text-align: right;\n",
       "    }\n",
       "</style>\n",
       "<table border=\"1\" class=\"dataframe\">\n",
       "  <thead>\n",
       "    <tr style=\"text-align: right;\">\n",
       "      <th></th>\n",
       "      <th>time_start</th>\n",
       "      <th>origin_station</th>\n",
       "      <th>destination_station</th>\n",
       "      <th>bike</th>\n",
       "      <th>member</th>\n",
       "      <th>helmet</th>\n",
       "      <th>payment_method</th>\n",
       "      <th>duration</th>\n",
       "    </tr>\n",
       "  </thead>\n",
       "  <tbody>\n",
       "    <tr>\n",
       "      <th>0</th>\n",
       "      <td>2016-08-31 10:29:00</td>\n",
       "      <td>31102</td>\n",
       "      <td>31279</td>\n",
       "      <td>20978</td>\n",
       "      <td>Casual</td>\n",
       "      <td>-</td>\n",
       "      <td>credit card</td>\n",
       "      <td>1136.0</td>\n",
       "    </tr>\n",
       "    <tr>\n",
       "      <th>1</th>\n",
       "      <td>2016-08-31 10:29:00</td>\n",
       "      <td>31505</td>\n",
       "      <td>31627</td>\n",
       "      <td>20515</td>\n",
       "      <td>Registered</td>\n",
       "      <td>-</td>\n",
       "      <td>cash</td>\n",
       "      <td>192.0</td>\n",
       "    </tr>\n",
       "  </tbody>\n",
       "</table>\n",
       "</div>"
      ],
      "text/plain": [
       "           time_start  origin_station  destination_station   bike      member  \\\n",
       "0 2016-08-31 10:29:00           31102                31279  20978      Casual   \n",
       "1 2016-08-31 10:29:00           31505                31627  20515  Registered   \n",
       "\n",
       "  helmet payment_method  duration  \n",
       "0      -    credit card    1136.0  \n",
       "1      -           cash     192.0  "
      ]
     },
     "metadata": {},
     "output_type": "display_data"
    }
   ],
   "source": [
    "df2.member.replace(['Yes','No'], ['Registered','Casual'], inplace=True)\n",
    "\n",
    "# rename S1 member type column\n",
    "df1.rename(columns = {'Member type':'member'}, inplace = True)\n",
    "\n",
    "print 'S1:' + str(df1.shape)\n",
    "display(df1.head(2))\n",
    "print 'S2:' + str(df2.shape)\n",
    "display(df2.head(2))"
   ]
  },
  {
   "cell_type": "code",
   "execution_count": 142,
   "metadata": {},
   "outputs": [
    {
     "data": {
      "text/html": [
       "<div>\n",
       "<style scoped>\n",
       "    .dataframe tbody tr th:only-of-type {\n",
       "        vertical-align: middle;\n",
       "    }\n",
       "\n",
       "    .dataframe tbody tr th {\n",
       "        vertical-align: top;\n",
       "    }\n",
       "\n",
       "    .dataframe thead th {\n",
       "        text-align: right;\n",
       "    }\n",
       "</style>\n",
       "<table border=\"1\" class=\"dataframe\">\n",
       "  <thead>\n",
       "    <tr style=\"text-align: right;\">\n",
       "      <th></th>\n",
       "      <th>value1</th>\n",
       "      <th>value2</th>\n",
       "      <th>compare</th>\n",
       "    </tr>\n",
       "  </thead>\n",
       "  <tbody>\n",
       "    <tr>\n",
       "      <th>0</th>\n",
       "      <td>Casual</td>\n",
       "      <td>Casual</td>\n",
       "      <td>True</td>\n",
       "    </tr>\n",
       "    <tr>\n",
       "      <th>1</th>\n",
       "      <td>Registered</td>\n",
       "      <td>Registered</td>\n",
       "      <td>True</td>\n",
       "    </tr>\n",
       "  </tbody>\n",
       "</table>\n",
       "</div>"
      ],
      "text/plain": [
       "       value1      value2  compare\n",
       "0      Casual      Casual     True\n",
       "1  Registered  Registered     True"
      ]
     },
     "execution_count": 142,
     "metadata": {},
     "output_type": "execute_result"
    }
   ],
   "source": [
    "compare_value(df1['member'].unique(), df2['member'].unique())"
   ]
  },
  {
   "cell_type": "markdown",
   "metadata": {},
   "source": [
    "### Schema conflict 5: Values in helmet differs in S1 and S2\n",
    "- fill in missing values '-' in S2 with 0\n",
    "- cast S2 helmet datatype to int"
   ]
  },
  {
   "cell_type": "code",
   "execution_count": 143,
   "metadata": {},
   "outputs": [
    {
     "data": {
      "text/plain": [
       "0    5498\n",
       "1    1714\n",
       "2    1288\n",
       "Name: Helmet rented, dtype: int64"
      ]
     },
     "execution_count": 143,
     "metadata": {},
     "output_type": "execute_result"
    }
   ],
   "source": [
    "df1['Helmet rented'].value_counts()"
   ]
  },
  {
   "cell_type": "code",
   "execution_count": 144,
   "metadata": {},
   "outputs": [
    {
     "data": {
      "text/plain": [
       "-    1289\n",
       "1     412\n",
       "2     299\n",
       "Name: helmet, dtype: int64"
      ]
     },
     "execution_count": 144,
     "metadata": {},
     "output_type": "execute_result"
    }
   ],
   "source": [
    "df2.helmet.value_counts()"
   ]
  },
  {
   "cell_type": "code",
   "execution_count": 145,
   "metadata": {},
   "outputs": [
    {
     "name": "stdout",
     "output_type": "stream",
     "text": [
      "S1:(8500, 8)\n"
     ]
    },
    {
     "data": {
      "text/html": [
       "<div>\n",
       "<style scoped>\n",
       "    .dataframe tbody tr th:only-of-type {\n",
       "        vertical-align: middle;\n",
       "    }\n",
       "\n",
       "    .dataframe tbody tr th {\n",
       "        vertical-align: top;\n",
       "    }\n",
       "\n",
       "    .dataframe thead th {\n",
       "        text-align: right;\n",
       "    }\n",
       "</style>\n",
       "<table border=\"1\" class=\"dataframe\">\n",
       "  <thead>\n",
       "    <tr style=\"text-align: right;\">\n",
       "      <th></th>\n",
       "      <th>duration</th>\n",
       "      <th>time_start</th>\n",
       "      <th>origin_station</th>\n",
       "      <th>destination_station</th>\n",
       "      <th>bike</th>\n",
       "      <th>member</th>\n",
       "      <th>helmet</th>\n",
       "      <th>Credit card</th>\n",
       "    </tr>\n",
       "  </thead>\n",
       "  <tbody>\n",
       "    <tr>\n",
       "      <th>0</th>\n",
       "      <td>840.0</td>\n",
       "      <td>2016-08-31 23:59:00</td>\n",
       "      <td>31117</td>\n",
       "      <td>31228</td>\n",
       "      <td>20409</td>\n",
       "      <td>Registered</td>\n",
       "      <td>1</td>\n",
       "      <td>**** **** **** 7976</td>\n",
       "    </tr>\n",
       "    <tr>\n",
       "      <th>1</th>\n",
       "      <td>656.0</td>\n",
       "      <td>2016-08-31 23:58:00</td>\n",
       "      <td>31279</td>\n",
       "      <td>31600</td>\n",
       "      <td>20756</td>\n",
       "      <td>Casual</td>\n",
       "      <td>0</td>\n",
       "      <td>NaN</td>\n",
       "    </tr>\n",
       "  </tbody>\n",
       "</table>\n",
       "</div>"
      ],
      "text/plain": [
       "   duration          time_start  origin_station  destination_station   bike  \\\n",
       "0     840.0 2016-08-31 23:59:00           31117                31228  20409   \n",
       "1     656.0 2016-08-31 23:58:00           31279                31600  20756   \n",
       "\n",
       "       member  helmet          Credit card  \n",
       "0  Registered       1  **** **** **** 7976  \n",
       "1      Casual       0                  NaN  "
      ]
     },
     "metadata": {},
     "output_type": "display_data"
    },
    {
     "name": "stdout",
     "output_type": "stream",
     "text": [
      "S2:(2000, 8)\n"
     ]
    },
    {
     "data": {
      "text/html": [
       "<div>\n",
       "<style scoped>\n",
       "    .dataframe tbody tr th:only-of-type {\n",
       "        vertical-align: middle;\n",
       "    }\n",
       "\n",
       "    .dataframe tbody tr th {\n",
       "        vertical-align: top;\n",
       "    }\n",
       "\n",
       "    .dataframe thead th {\n",
       "        text-align: right;\n",
       "    }\n",
       "</style>\n",
       "<table border=\"1\" class=\"dataframe\">\n",
       "  <thead>\n",
       "    <tr style=\"text-align: right;\">\n",
       "      <th></th>\n",
       "      <th>time_start</th>\n",
       "      <th>origin_station</th>\n",
       "      <th>destination_station</th>\n",
       "      <th>bike</th>\n",
       "      <th>member</th>\n",
       "      <th>helmet</th>\n",
       "      <th>payment_method</th>\n",
       "      <th>duration</th>\n",
       "    </tr>\n",
       "  </thead>\n",
       "  <tbody>\n",
       "    <tr>\n",
       "      <th>0</th>\n",
       "      <td>2016-08-31 10:29:00</td>\n",
       "      <td>31102</td>\n",
       "      <td>31279</td>\n",
       "      <td>20978</td>\n",
       "      <td>Casual</td>\n",
       "      <td>0</td>\n",
       "      <td>credit card</td>\n",
       "      <td>1136.0</td>\n",
       "    </tr>\n",
       "    <tr>\n",
       "      <th>1</th>\n",
       "      <td>2016-08-31 10:29:00</td>\n",
       "      <td>31505</td>\n",
       "      <td>31627</td>\n",
       "      <td>20515</td>\n",
       "      <td>Registered</td>\n",
       "      <td>0</td>\n",
       "      <td>cash</td>\n",
       "      <td>192.0</td>\n",
       "    </tr>\n",
       "  </tbody>\n",
       "</table>\n",
       "</div>"
      ],
      "text/plain": [
       "           time_start  origin_station  destination_station   bike      member  \\\n",
       "0 2016-08-31 10:29:00           31102                31279  20978      Casual   \n",
       "1 2016-08-31 10:29:00           31505                31627  20515  Registered   \n",
       "\n",
       "   helmet payment_method  duration  \n",
       "0       0    credit card    1136.0  \n",
       "1       0           cash     192.0  "
      ]
     },
     "metadata": {},
     "output_type": "display_data"
    }
   ],
   "source": [
    "df2.helmet.replace(['-'], [0], inplace=True)\n",
    "df2.helmet = df2.helmet.astype(int)\n",
    "df2.head()\n",
    "\n",
    "df1.rename(columns = {'Helmet rented':'helmet'}, inplace = True)\n",
    "\n",
    "print 'S1:' + str(df1.shape)\n",
    "display(df1.head(2))\n",
    "print 'S2:' + str(df2.shape)\n",
    "display(df2.head(2))"
   ]
  },
  {
   "cell_type": "markdown",
   "metadata": {},
   "source": [
    "### Schema conflict 6: S1 stores credit card number, S2 stores payment_method\n",
    "- Assumen Nan vlaues means user pay by cash, we fill in nan values in S1 with cash\n",
    "- As there is no credit card number in S2, and consider there is not much information you could get from the last 4 digits of credit card number in analysis, we replace credit card number in S1 with string 'credit card'"
   ]
  },
  {
   "cell_type": "code",
   "execution_count": 146,
   "metadata": {},
   "outputs": [
    {
     "name": "stdout",
     "output_type": "stream",
     "text": [
      "S1:(8500, 8)\n"
     ]
    },
    {
     "data": {
      "text/html": [
       "<div>\n",
       "<style scoped>\n",
       "    .dataframe tbody tr th:only-of-type {\n",
       "        vertical-align: middle;\n",
       "    }\n",
       "\n",
       "    .dataframe tbody tr th {\n",
       "        vertical-align: top;\n",
       "    }\n",
       "\n",
       "    .dataframe thead th {\n",
       "        text-align: right;\n",
       "    }\n",
       "</style>\n",
       "<table border=\"1\" class=\"dataframe\">\n",
       "  <thead>\n",
       "    <tr style=\"text-align: right;\">\n",
       "      <th></th>\n",
       "      <th>duration</th>\n",
       "      <th>time_start</th>\n",
       "      <th>origin_station</th>\n",
       "      <th>destination_station</th>\n",
       "      <th>bike</th>\n",
       "      <th>member</th>\n",
       "      <th>helmet</th>\n",
       "      <th>payment_method</th>\n",
       "    </tr>\n",
       "  </thead>\n",
       "  <tbody>\n",
       "    <tr>\n",
       "      <th>0</th>\n",
       "      <td>840.0</td>\n",
       "      <td>2016-08-31 23:59:00</td>\n",
       "      <td>31117</td>\n",
       "      <td>31228</td>\n",
       "      <td>20409</td>\n",
       "      <td>Registered</td>\n",
       "      <td>1</td>\n",
       "      <td>credit card</td>\n",
       "    </tr>\n",
       "    <tr>\n",
       "      <th>1</th>\n",
       "      <td>656.0</td>\n",
       "      <td>2016-08-31 23:58:00</td>\n",
       "      <td>31279</td>\n",
       "      <td>31600</td>\n",
       "      <td>20756</td>\n",
       "      <td>Casual</td>\n",
       "      <td>0</td>\n",
       "      <td>cash</td>\n",
       "    </tr>\n",
       "  </tbody>\n",
       "</table>\n",
       "</div>"
      ],
      "text/plain": [
       "   duration          time_start  origin_station  destination_station   bike  \\\n",
       "0     840.0 2016-08-31 23:59:00           31117                31228  20409   \n",
       "1     656.0 2016-08-31 23:58:00           31279                31600  20756   \n",
       "\n",
       "       member  helmet payment_method  \n",
       "0  Registered       1    credit card  \n",
       "1      Casual       0           cash  "
      ]
     },
     "metadata": {},
     "output_type": "display_data"
    },
    {
     "name": "stdout",
     "output_type": "stream",
     "text": [
      "S2:(2000, 8)\n"
     ]
    },
    {
     "data": {
      "text/html": [
       "<div>\n",
       "<style scoped>\n",
       "    .dataframe tbody tr th:only-of-type {\n",
       "        vertical-align: middle;\n",
       "    }\n",
       "\n",
       "    .dataframe tbody tr th {\n",
       "        vertical-align: top;\n",
       "    }\n",
       "\n",
       "    .dataframe thead th {\n",
       "        text-align: right;\n",
       "    }\n",
       "</style>\n",
       "<table border=\"1\" class=\"dataframe\">\n",
       "  <thead>\n",
       "    <tr style=\"text-align: right;\">\n",
       "      <th></th>\n",
       "      <th>time_start</th>\n",
       "      <th>origin_station</th>\n",
       "      <th>destination_station</th>\n",
       "      <th>bike</th>\n",
       "      <th>member</th>\n",
       "      <th>helmet</th>\n",
       "      <th>payment_method</th>\n",
       "      <th>duration</th>\n",
       "    </tr>\n",
       "  </thead>\n",
       "  <tbody>\n",
       "    <tr>\n",
       "      <th>0</th>\n",
       "      <td>2016-08-31 10:29:00</td>\n",
       "      <td>31102</td>\n",
       "      <td>31279</td>\n",
       "      <td>20978</td>\n",
       "      <td>Casual</td>\n",
       "      <td>0</td>\n",
       "      <td>credit card</td>\n",
       "      <td>1136.0</td>\n",
       "    </tr>\n",
       "    <tr>\n",
       "      <th>1</th>\n",
       "      <td>2016-08-31 10:29:00</td>\n",
       "      <td>31505</td>\n",
       "      <td>31627</td>\n",
       "      <td>20515</td>\n",
       "      <td>Registered</td>\n",
       "      <td>0</td>\n",
       "      <td>cash</td>\n",
       "      <td>192.0</td>\n",
       "    </tr>\n",
       "  </tbody>\n",
       "</table>\n",
       "</div>"
      ],
      "text/plain": [
       "           time_start  origin_station  destination_station   bike      member  \\\n",
       "0 2016-08-31 10:29:00           31102                31279  20978      Casual   \n",
       "1 2016-08-31 10:29:00           31505                31627  20515  Registered   \n",
       "\n",
       "   helmet payment_method  duration  \n",
       "0       0    credit card    1136.0  \n",
       "1       0           cash     192.0  "
      ]
     },
     "metadata": {},
     "output_type": "display_data"
    }
   ],
   "source": [
    "df1['Credit card'] = df1['Credit card'].apply(lambda x: 'cash' if pd.isnull(x) else 'credit card')\n",
    "df1.rename(columns = {'Credit card':'payment_method'}, inplace = True)\n",
    "\n",
    "print 'S1:' + str(df1.shape)\n",
    "display(df1.head(2))\n",
    "print 'S2:' + str(df2.shape)\n",
    "display(df2.head(2))"
   ]
  },
  {
   "cell_type": "markdown",
   "metadata": {},
   "source": [
    "## Adapt datatypes across schemas S1 and S2\n",
    "We've complete data auditing for all the columns in two schemas S1 and S2. \n",
    "Now,we make all the datatypes consistent between S1 and S2 for data merging."
   ]
  },
  {
   "cell_type": "code",
   "execution_count": 147,
   "metadata": {},
   "outputs": [
    {
     "name": "stdout",
     "output_type": "stream",
     "text": [
      "<class 'pandas.core.frame.DataFrame'>\n",
      "RangeIndex: 8500 entries, 0 to 8499\n",
      "Data columns (total 8 columns):\n",
      "duration               8500 non-null float64\n",
      "time_start             8500 non-null datetime64[ns]\n",
      "origin_station         8500 non-null int64\n",
      "destination_station    8500 non-null int64\n",
      "bike                   8500 non-null object\n",
      "member                 8500 non-null object\n",
      "helmet                 8500 non-null int64\n",
      "payment_method         8500 non-null object\n",
      "dtypes: datetime64[ns](1), float64(1), int64(3), object(3)\n",
      "memory usage: 531.3+ KB\n",
      "None\n",
      "<class 'pandas.core.frame.DataFrame'>\n",
      "RangeIndex: 2000 entries, 0 to 1999\n",
      "Data columns (total 8 columns):\n",
      "time_start             2000 non-null datetime64[ns]\n",
      "origin_station         2000 non-null int64\n",
      "destination_station    2000 non-null int64\n",
      "bike                   2000 non-null int64\n",
      "member                 2000 non-null object\n",
      "helmet                 2000 non-null int64\n",
      "payment_method         2000 non-null object\n",
      "duration               2000 non-null float64\n",
      "dtypes: datetime64[ns](1), float64(1), int64(4), object(2)\n",
      "memory usage: 125.1+ KB\n",
      "None\n"
     ]
    }
   ],
   "source": [
    "print df1.info()\n",
    "print df2.info()"
   ]
  },
  {
   "cell_type": "code",
   "execution_count": 148,
   "metadata": {},
   "outputs": [
    {
     "name": "stdout",
     "output_type": "stream",
     "text": [
      "df1 columns unique? True\n",
      "df2 columns unique? True\n"
     ]
    }
   ],
   "source": [
    "print('df1 columns unique? {0}\\ndf2 columns unique? {1}'.format(df1.columns.is_unique, df2.columns.is_unique)) "
   ]
  },
  {
   "cell_type": "code",
   "execution_count": 149,
   "metadata": {},
   "outputs": [],
   "source": [
    "df1_attr=set(df1.columns)\n",
    "df2_attr=set(df2.columns)"
   ]
  },
  {
   "cell_type": "code",
   "execution_count": 150,
   "metadata": {},
   "outputs": [
    {
     "data": {
      "text/plain": [
       "set()"
      ]
     },
     "execution_count": 150,
     "metadata": {},
     "output_type": "execute_result"
    }
   ],
   "source": [
    "df1_attr.difference(df2_attr)"
   ]
  },
  {
   "cell_type": "code",
   "execution_count": 151,
   "metadata": {},
   "outputs": [
    {
     "data": {
      "text/plain": [
       "duration                          duration\n",
       "time_start                      time_start\n",
       "origin_station              origin_station\n",
       "destination_station    destination_station\n",
       "bike                                  bike\n",
       "member                              member\n",
       "helmet                              helmet\n",
       "payment_method              payment_method\n",
       "dtype: object"
      ]
     },
     "execution_count": 151,
     "metadata": {},
     "output_type": "execute_result"
    }
   ],
   "source": [
    "df1.columns.to_series()"
   ]
  },
  {
   "cell_type": "code",
   "execution_count": 152,
   "metadata": {},
   "outputs": [
    {
     "name": "stdout",
     "output_type": "stream",
     "text": [
      "Column bikein df1: objecttoint64\n"
     ]
    }
   ],
   "source": [
    "# now adapt the datatypes in S1 to match S2\n",
    "for y in df2.columns:\n",
    "    if df1[y].dtype != df2[y].dtype:\n",
    "        print \"Column \" + y + \"in df1: \"+ str(df1[y].dtype) + \"to\" + str(df2[y].dtype)\n",
    "        df1[y] = df1[y].astype(df2[y].dtype) "
   ]
  },
  {
   "cell_type": "markdown",
   "metadata": {},
   "source": [
    "Here, we've assumed a very simplistic case. However, you will need to be more careful to audit the datatype inconsistency when doing data integration. Also, during type casting, you might find more inconsistencies to be fixed before merging (very often) >.< So be careful! :)"
   ]
  },
  {
   "cell_type": "code",
   "execution_count": 153,
   "metadata": {},
   "outputs": [
    {
     "data": {
      "text/html": [
       "<div>\n",
       "<style scoped>\n",
       "    .dataframe tbody tr th:only-of-type {\n",
       "        vertical-align: middle;\n",
       "    }\n",
       "\n",
       "    .dataframe tbody tr th {\n",
       "        vertical-align: top;\n",
       "    }\n",
       "\n",
       "    .dataframe thead th {\n",
       "        text-align: right;\n",
       "    }\n",
       "</style>\n",
       "<table border=\"1\" class=\"dataframe\">\n",
       "  <thead>\n",
       "    <tr style=\"text-align: right;\">\n",
       "      <th></th>\n",
       "      <th>value1</th>\n",
       "      <th>value2</th>\n",
       "      <th>compare</th>\n",
       "    </tr>\n",
       "  </thead>\n",
       "  <tbody>\n",
       "    <tr>\n",
       "      <th>0</th>\n",
       "      <td>float64</td>\n",
       "      <td>datetime64[ns]</td>\n",
       "      <td>False</td>\n",
       "    </tr>\n",
       "    <tr>\n",
       "      <th>1</th>\n",
       "      <td>datetime64[ns]</td>\n",
       "      <td>int64</td>\n",
       "      <td>False</td>\n",
       "    </tr>\n",
       "    <tr>\n",
       "      <th>2</th>\n",
       "      <td>int64</td>\n",
       "      <td>int64</td>\n",
       "      <td>True</td>\n",
       "    </tr>\n",
       "    <tr>\n",
       "      <th>3</th>\n",
       "      <td>int64</td>\n",
       "      <td>int64</td>\n",
       "      <td>True</td>\n",
       "    </tr>\n",
       "    <tr>\n",
       "      <th>4</th>\n",
       "      <td>int64</td>\n",
       "      <td>int64</td>\n",
       "      <td>True</td>\n",
       "    </tr>\n",
       "    <tr>\n",
       "      <th>5</th>\n",
       "      <td>int64</td>\n",
       "      <td>float64</td>\n",
       "      <td>False</td>\n",
       "    </tr>\n",
       "    <tr>\n",
       "      <th>6</th>\n",
       "      <td>object</td>\n",
       "      <td>object</td>\n",
       "      <td>True</td>\n",
       "    </tr>\n",
       "    <tr>\n",
       "      <th>7</th>\n",
       "      <td>object</td>\n",
       "      <td>object</td>\n",
       "      <td>True</td>\n",
       "    </tr>\n",
       "  </tbody>\n",
       "</table>\n",
       "</div>"
      ],
      "text/plain": [
       "           value1          value2  compare\n",
       "0         float64  datetime64[ns]    False\n",
       "1  datetime64[ns]           int64    False\n",
       "2           int64           int64     True\n",
       "3           int64           int64     True\n",
       "4           int64           int64     True\n",
       "5           int64         float64    False\n",
       "6          object          object     True\n",
       "7          object          object     True"
      ]
     },
     "execution_count": 153,
     "metadata": {},
     "output_type": "execute_result"
    }
   ],
   "source": [
    "compare_value(df1.dtypes, df2.dtypes)"
   ]
  },
  {
   "cell_type": "markdown",
   "metadata": {},
   "source": [
    "## III. Merge Data"
   ]
  },
  {
   "cell_type": "code",
   "execution_count": null,
   "metadata": {},
   "outputs": [],
   "source": [
    "df = pd.concat([df1,df2])\n",
    "print df.shape\n",
    "df.head()"
   ]
  },
  {
   "cell_type": "markdown",
   "metadata": {},
   "source": [
    "## IV. Resolve data conflicts"
   ]
  },
  {
   "cell_type": "code",
   "execution_count": null,
   "metadata": {},
   "outputs": [],
   "source": [
    "# check duplication\n",
    "cols = df.columns.difference([]) # use all columns to check duplicates\n",
    "duplicates = df[df.duplicated(cols,keep=False)]\n",
    "print \"There are \"+ str(len(duplicates)) + \" duplicate records found\"\n",
    "duplicates.sort_values(by=duplicates.columns.tolist()).head(10)"
   ]
  },
  {
   "cell_type": "code",
   "execution_count": null,
   "metadata": {},
   "outputs": [],
   "source": [
    "df = df.drop_duplicates(cols, keep='last')\n",
    "df.shape"
   ]
  },
  {
   "cell_type": "code",
   "execution_count": null,
   "metadata": {},
   "outputs": [],
   "source": [
    "# check duplication\n",
    "cols = ['bike','time_start'] # this should uniquely identified a record, as the same bike could not be used by multiple trip started at the same time \n",
    "duplicates = df[df.duplicated(cols,keep=False)]\n",
    "print \"There are \"+ str(len(duplicates)) + \" duplicate records found\"\n",
    "duplicates.sort_values(by=duplicates.columns.tolist()).head(10)"
   ]
  },
  {
   "cell_type": "markdown",
   "metadata": {},
   "source": [
    "From the recrods, seems everything is equvalent, but how come it was not found from the beginning?\n",
    "Hints: Comparing floats are always tricky!"
   ]
  },
  {
   "cell_type": "code",
   "execution_count": null,
   "metadata": {},
   "outputs": [],
   "source": [
    "# convert duaration to int\n",
    "df.duration = df.duration.astype(int)\n",
    "duplicates = df[df.duplicated(df.columns,keep=False)] # try to identify duplicates based on all records\n",
    "print \"There are \"+ str(len(duplicates)) + \" duplicate records found\"\n",
    "duplicates.sort_values(by=duplicates.columns.tolist()).head(10)"
   ]
  },
  {
   "cell_type": "code",
   "execution_count": null,
   "metadata": {},
   "outputs": [],
   "source": [
    "df = df.drop_duplicates(cols, keep='last')\n",
    "df.shape"
   ]
  },
  {
   "cell_type": "markdown",
   "metadata": {},
   "source": [
    "## V. Save integrated data"
   ]
  },
  {
   "cell_type": "code",
   "execution_count": null,
   "metadata": {
    "collapsed": true
   },
   "outputs": [],
   "source": [
    "df.to_csv(\"bikeshare_data_integrate.csv\",index = False)"
   ]
  },
  {
   "cell_type": "markdown",
   "metadata": {},
   "source": [
    "### Note:\n",
    "- Ideally, once all schema conflicts are perfectly resolved, we can simply identify duplicate using the complete records. However, realistically, this will not happen. \n",
    "- Integration might often become an interative process, i.e., we might find out more conflicts to be resolve at a later stage of integration. \n",
    "- Carefully examine and identify global key is a good practice for identifying data conflicts in integration. Although, domain knowledge and analysis are required."
   ]
  },
  {
   "cell_type": "code",
   "execution_count": null,
   "metadata": {
    "collapsed": true
   },
   "outputs": [],
   "source": []
  }
 ],
 "metadata": {
  "kernelspec": {
   "display_name": "Python 2",
   "language": "python",
   "name": "python2"
  },
  "language_info": {
   "codemirror_mode": {
    "name": "ipython",
    "version": 2
   },
   "file_extension": ".py",
   "mimetype": "text/x-python",
   "name": "python",
   "nbconvert_exporter": "python",
   "pygments_lexer": "ipython2",
   "version": "2.7.14"
  }
 },
 "nbformat": 4,
 "nbformat_minor": 1
}
