{
 "cells": [
  {
   "cell_type": "markdown",
   "metadata": {},
   "source": [
    "# Association between Categorical Variables\n",
    "\n",
    "Two categorical variables $X$ and $Y$ are called independent if the probability distribution of one variable is not affected by the presence of another."
   ]
  },
  {
   "cell_type": "code",
   "execution_count": 1,
   "metadata": {},
   "outputs": [
    {
     "name": "stdout",
     "output_type": "stream",
     "text": [
      "'data.frame':\t891 obs. of  12 variables:\n",
      " $ PassengerId: int  1 2 3 4 5 6 7 8 9 10 ...\n",
      " $ Survived   : int  0 1 1 1 0 0 0 0 1 1 ...\n",
      " $ Pclass     : int  3 1 3 1 3 3 1 3 3 2 ...\n",
      " $ Name       : Factor w/ 891 levels \"Abbing, Mr. Anthony\",..: 109 191 358 277 16 559 520 629 417 581 ...\n",
      " $ Sex        : Factor w/ 2 levels \"female\",\"male\": 2 1 1 1 2 2 2 2 1 1 ...\n",
      " $ Age        : num  22 38 26 35 35 NA 54 2 27 14 ...\n",
      " $ SibSp      : int  1 1 0 1 0 0 0 3 0 1 ...\n",
      " $ Parch      : int  0 0 0 0 0 0 0 1 2 0 ...\n",
      " $ Ticket     : Factor w/ 681 levels \"110152\",\"110413\",..: 524 597 670 50 473 276 86 396 345 133 ...\n",
      " $ Fare       : num  7.25 71.28 7.92 53.1 8.05 ...\n",
      " $ Cabin      : Factor w/ 148 levels \"\",\"A10\",\"A14\",..: 1 83 1 57 1 1 131 1 1 1 ...\n",
      " $ Embarked   : Factor w/ 4 levels \"\",\"C\",\"Q\",\"S\": 4 2 4 4 4 3 4 4 4 2 ...\n"
     ]
    }
   ],
   "source": [
    "data <- read.csv(\"2018TP2_TitanicData.csv\")\n",
    "str(data)"
   ]
  },
  {
   "cell_type": "code",
   "execution_count": 2,
   "metadata": {
    "collapsed": true
   },
   "outputs": [],
   "source": [
    "attach(data)"
   ]
  },
  {
   "cell_type": "code",
   "execution_count": 3,
   "metadata": {
    "collapsed": true
   },
   "outputs": [],
   "source": [
    "Survived <- as.factor(Survived)"
   ]
  },
  {
   "cell_type": "code",
   "execution_count": 4,
   "metadata": {
    "collapsed": true
   },
   "outputs": [],
   "source": [
    "Pclass <- as.factor(Pclass)"
   ]
  },
  {
   "cell_type": "code",
   "execution_count": 5,
   "metadata": {
    "collapsed": true
   },
   "outputs": [],
   "source": [
    "levels(Survived) <- c(\"dead\", \"survived\")\n",
    "levels(Pclass) <- c(\"1st\", \"2nd\", \"3rd\")"
   ]
  },
  {
   "cell_type": "markdown",
   "metadata": {},
   "source": [
    "Creating one-way and two-way tables of __counts__ is the starting point for analyzing the relationship between two caegorical variables. The rows are the categories of one variable and the columns are the categories of the second variable. We count how many observations are in each combination of row and column categories. Generally, we put the explanatory varible in the rows, and the columns are the response variable. So you need to know which one is your explanatory variable, and which one is the response. However, it is not that much important. "
   ]
  },
  {
   "cell_type": "code",
   "execution_count": 6,
   "metadata": {},
   "outputs": [
    {
     "data": {
      "text/plain": [
       "Survived\n",
       "    dead survived \n",
       "     549      342 "
      ]
     },
     "metadata": {},
     "output_type": "display_data"
    },
    {
     "data": {
      "text/plain": [
       "Survived\n",
       "    dead survived \n",
       "      62       38 "
      ]
     },
     "metadata": {},
     "output_type": "display_data"
    }
   ],
   "source": [
    "table(Survived)\n",
    "round(prop.table(table(Survived)),2)*100"
   ]
  },
  {
   "cell_type": "code",
   "execution_count": 7,
   "metadata": {},
   "outputs": [
    {
     "data": {
      "text/plain": [
       "Pclass\n",
       "1st 2nd 3rd \n",
       "216 184 491 "
      ]
     },
     "metadata": {},
     "output_type": "display_data"
    },
    {
     "data": {
      "text/plain": [
       "Pclass\n",
       "1st 2nd 3rd \n",
       " 24  21  55 "
      ]
     },
     "metadata": {},
     "output_type": "display_data"
    }
   ],
   "source": [
    "table(Pclass)\n",
    "round(prop.table(table(Pclass)),2)*100"
   ]
  },
  {
   "cell_type": "code",
   "execution_count": 8,
   "metadata": {},
   "outputs": [
    {
     "data": {
      "text/plain": [
       "          Pclass\n",
       "Survived   1st 2nd 3rd\n",
       "  dead      80  97 372\n",
       "  survived 136  87 119"
      ]
     },
     "metadata": {},
     "output_type": "display_data"
    }
   ],
   "source": [
    "table(Survived, Pclass)"
   ]
  },
  {
   "cell_type": "markdown",
   "metadata": {},
   "source": [
    "|          | 1st | 2nd | 3rd | Total |\n",
    "|----------|-----|-----|-----|-------|\n",
    "| dead     | 80  | 97  | 372 | 549   |\n",
    "| survived | 136 | 87  | 119 | 342   |\n",
    "| Total    | 216 | 184 | 491 | __891__ |\n",
    "\n",
    "\n",
    "\n",
    "However, counts are difficult to interpret, especially when the number of observations in each category are unequal. Percents are more understandable than counts for describing how two categorical variables are related. \n",
    "\n",
    "We could think about row percents and column percents based on the question in mind."
   ]
  },
  {
   "cell_type": "code",
   "execution_count": 9,
   "metadata": {},
   "outputs": [
    {
     "data": {
      "text/plain": [
       "          Pclass\n",
       "Survived          1st        2nd        3rd\n",
       "  dead     0.08978676 0.10886644 0.41750842\n",
       "  survived 0.15263749 0.09764310 0.13355780"
      ]
     },
     "metadata": {},
     "output_type": "display_data"
    }
   ],
   "source": [
    "#each cell in counts devided by 891\n",
    "prop.table(table(Survived, Pclass))"
   ]
  },
  {
   "cell_type": "markdown",
   "metadata": {},
   "source": [
    "## Row percents\n",
    "Provides conditional percents that give the percents out of each row total that fall in the various column categories. The summation of row percents is 100%.\n",
    "\n",
    "|          | 1st | 2nd | 3rd | Total |\n",
    "|----------|-----|-----|-----|-------|\n",
    "| dead     | 15  | 18  | 68  | 100   |\n",
    "| survived | 40  | 25  | 35  | 100   |\n",
    "\n",
    "\n",
    "## Column percent\n",
    "Provides conditional percents that the percents out of each column total that fall in the various row categories. The summation of column percents is 100%.\n",
    "\n",
    "|          | 1st | 2nd | 3rd |\n",
    "|----------|-----|-----|-----|\n",
    "| dead     | 37  | 53  | 76  |\n",
    "| survived | 63  | 47  | 24  |\n",
    "| Total    | 100 | 100 | 100 |\n",
    "\n",
    "\n",
    "Two categorical variables are related if at least two rows in the conditional percents __noticeably differ__ in the pattern of row percents. Equivalently, if at least two columns in the conditional percents __noticeably differ__ in the pattern of columns percents.\n",
    "\n",
    "In our example, being survived is related to the ticket class. They are not independent."
   ]
  },
  {
   "cell_type": "code",
   "execution_count": 10,
   "metadata": {},
   "outputs": [
    {
     "data": {
      "text/html": [
       "<ol class=list-inline>\n",
       "\t<li>37</li>\n",
       "\t<li>63</li>\n",
       "</ol>\n"
      ],
      "text/latex": [
       "\\begin{enumerate*}\n",
       "\\item 37\n",
       "\\item 63\n",
       "\\end{enumerate*}\n"
      ],
      "text/markdown": [
       "1. 37\n",
       "2. 63\n",
       "\n",
       "\n"
      ],
      "text/plain": [
       "[1] 37 63"
      ]
     },
     "metadata": {},
     "output_type": "display_data"
    },
    {
     "data": {
      "text/html": [
       "100"
      ],
      "text/latex": [
       "100"
      ],
      "text/markdown": [
       "100"
      ],
      "text/plain": [
       "[1] 100"
      ]
     },
     "metadata": {},
     "output_type": "display_data"
    }
   ],
   "source": [
    "round(c(80, 136)/216,2)*100\n",
    "sum(round(c(80, 136)/216,2)*100)"
   ]
  },
  {
   "cell_type": "markdown",
   "metadata": {},
   "source": [
    "## Chi-Square Test\n",
    "The chi-square test for two-way tables is used as a for investigating the relationship between two categorical variables using a sample. Based on what we observe in the sample, we may infer something about the population. If the p-value for a chi-square test is less than 0.05 we call the observed relationship statistically significant. \n",
    "\n",
    "* __Null hypothesis__ $H_0$: The two variables are independent.\n",
    "* __Alternative hypothesis__ $H_1$: The two variables are dependent.\n",
    "\n"
   ]
  },
  {
   "cell_type": "code",
   "execution_count": 11,
   "metadata": {},
   "outputs": [
    {
     "data": {
      "text/plain": [
       "          Pclass\n",
       "Survived   1st 2nd 3rd\n",
       "  dead      80  97 372\n",
       "  survived 136  87 119"
      ]
     },
     "metadata": {},
     "output_type": "display_data"
    }
   ],
   "source": [
    "tb <- table(Survived, Pclass)\n",
    "tb"
   ]
  },
  {
   "cell_type": "code",
   "execution_count": 12,
   "metadata": {},
   "outputs": [
    {
     "data": {
      "text/plain": [
       "\n",
       "\tPearson's Chi-squared test\n",
       "\n",
       "data:  tb\n",
       "X-squared = 102.89, df = 2, p-value < 2.2e-16\n"
      ]
     },
     "metadata": {},
     "output_type": "display_data"
    }
   ],
   "source": [
    "chisq.test(tb)"
   ]
  },
  {
   "cell_type": "markdown",
   "metadata": {},
   "source": [
    "As the p-value is less than 0.05, we reject the null hypothesis. The date supports the existance of a relationship between two categorical variables. "
   ]
  },
  {
   "cell_type": "code",
   "execution_count": 13,
   "metadata": {},
   "outputs": [
    {
     "data": {
      "text/plain": [
       "          Pclass\n",
       "Survived   1st 2nd 3rd\n",
       "  dead      80  97 372\n",
       "  survived 136  87 119"
      ]
     },
     "metadata": {},
     "output_type": "display_data"
    }
   ],
   "source": [
    "tb"
   ]
  },
  {
   "cell_type": "code",
   "execution_count": 14,
   "metadata": {},
   "outputs": [
    {
     "data": {
      "text/html": [
       "<dl class=dl-horizontal>\n",
       "\t<dt>dead</dt>\n",
       "\t\t<dd>80</dd>\n",
       "\t<dt>survived</dt>\n",
       "\t\t<dd>136</dd>\n",
       "</dl>\n"
      ],
      "text/latex": [
       "\\begin{description*}\n",
       "\\item[dead] 80\n",
       "\\item[survived] 136\n",
       "\\end{description*}\n"
      ],
      "text/markdown": [
       "dead\n",
       ":   80survived\n",
       ":   136\n",
       "\n"
      ],
      "text/plain": [
       "    dead survived \n",
       "      80      136 "
      ]
     },
     "metadata": {},
     "output_type": "display_data"
    }
   ],
   "source": [
    "tb[,\"1st\"]"
   ]
  },
  {
   "cell_type": "code",
   "execution_count": 15,
   "metadata": {},
   "outputs": [
    {
     "data": {
      "text/html": [
       "<dl class=dl-horizontal>\n",
       "\t<dt>1st</dt>\n",
       "\t\t<dd>80</dd>\n",
       "\t<dt>2nd</dt>\n",
       "\t\t<dd>97</dd>\n",
       "\t<dt>3rd</dt>\n",
       "\t\t<dd>372</dd>\n",
       "</dl>\n"
      ],
      "text/latex": [
       "\\begin{description*}\n",
       "\\item[1st] 80\n",
       "\\item[2nd] 97\n",
       "\\item[3rd] 372\n",
       "\\end{description*}\n"
      ],
      "text/markdown": [
       "1st\n",
       ":   802nd\n",
       ":   973rd\n",
       ":   372\n",
       "\n"
      ],
      "text/plain": [
       "1st 2nd 3rd \n",
       " 80  97 372 "
      ]
     },
     "metadata": {},
     "output_type": "display_data"
    }
   ],
   "source": [
    "tb[\"dead\",]"
   ]
  },
  {
   "cell_type": "code",
   "execution_count": 16,
   "metadata": {},
   "outputs": [
    {
     "data": {
      "text/plain": [
       "        Survived\n",
       "Sex      dead survived\n",
       "  female   81      233\n",
       "  male    468      109"
      ]
     },
     "metadata": {},
     "output_type": "display_data"
    }
   ],
   "source": [
    "tb1 <- table(Sex, Survived)\n",
    "tb1"
   ]
  },
  {
   "cell_type": "code",
   "execution_count": 17,
   "metadata": {},
   "outputs": [
    {
     "data": {
      "text/plain": [
       "\n",
       "\tPearson's Chi-squared test with Yates' continuity correction\n",
       "\n",
       "data:  tb1\n",
       "X-squared = 260.72, df = 1, p-value < 2.2e-16\n"
      ]
     },
     "metadata": {},
     "output_type": "display_data"
    }
   ],
   "source": [
    "chisq.test(tb1)"
   ]
  },
  {
   "cell_type": "code",
   "execution_count": 18,
   "metadata": {},
   "outputs": [
    {
     "data": {
      "text/plain": [
       "        Pclass\n",
       "Sex      1st 2nd 3rd\n",
       "  female  94  76 144\n",
       "  male   122 108 347"
      ]
     },
     "metadata": {},
     "output_type": "display_data"
    }
   ],
   "source": [
    "tb2 <- table(Sex, Pclass)\n",
    "tb2"
   ]
  },
  {
   "cell_type": "code",
   "execution_count": 19,
   "metadata": {},
   "outputs": [
    {
     "data": {
      "text/plain": [
       "\n",
       "\tPearson's Chi-squared test\n",
       "\n",
       "data:  tb2\n",
       "X-squared = 16.971, df = 2, p-value = 0.0002064\n"
      ]
     },
     "metadata": {},
     "output_type": "display_data"
    }
   ],
   "source": [
    "chisq.test(tb2)"
   ]
  },
  {
   "cell_type": "code",
   "execution_count": null,
   "metadata": {
    "collapsed": true
   },
   "outputs": [],
   "source": []
  }
 ],
 "metadata": {
  "kernelspec": {
   "display_name": "R",
   "language": "R",
   "name": "ir"
  },
  "language_info": {
   "codemirror_mode": "r",
   "file_extension": ".r",
   "mimetype": "text/x-r-source",
   "name": "R",
   "pygments_lexer": "r",
   "version": "3.4.2"
  }
 },
 "nbformat": 4,
 "nbformat_minor": 2
}
